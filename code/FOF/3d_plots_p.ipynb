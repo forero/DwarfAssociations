{
 "cells": [
  {
   "cell_type": "code",
   "execution_count": null,
   "metadata": {
    "collapsed": true
   },
   "outputs": [],
   "source": [
    "## To do:\n",
    "\n",
    "1. Make 3d plots for all the associations and star"
   ]
  },
  {
   "cell_type": "code",
   "execution_count": 1,
   "metadata": {
    "collapsed": false,
    "slideshow": {
     "slide_type": "slide"
    }
   },
   "outputs": [
    {
     "name": "stdout",
     "output_type": "stream",
     "text": [
      "Populating the interactive namespace from numpy and matplotlib\n"
     ]
    },
    {
     "name": "stderr",
     "output_type": "stream",
     "text": [
      "/home/jngaravito57/Documents/codes/ipython/IPython/kernel/__init__.py:10: UserWarning:\n",
      "\n",
      "The `IPython.kernel` package has been deprecated. You should import from ipython_kernel or jupyter_client instead.\n",
      "\n",
      "WARNING: pylab import has clobbered these variables: ['Annotation', 'Figure']\n",
      "`%matplotlib` prevents importing * from pylab and numpy\n"
     ]
    }
   ],
   "source": [
    "import plotly.plotly as py\n",
    "from plotly.graph_objs import *\n",
    "from functions import threedplot\n",
    "from functions import dispersiones\n",
    "import matplotlib.pyplot as plt\n",
    "import numpy as np\n",
    "%pylab inline"
   ]
  },
  {
   "cell_type": "code",
   "execution_count": 2,
   "metadata": {
    "collapsed": true,
    "slideshow": {
     "slide_type": "skip"
    }
   },
   "outputs": [],
   "source": [
    "py.sign_in('xozidok', '7npyt3xzbf')"
   ]
  },
  {
   "cell_type": "code",
   "execution_count": 2,
   "metadata": {
    "collapsed": false,
    "slideshow": {
     "slide_type": "skip"
    }
   },
   "outputs": [],
   "source": [
    "snap_fof = \"FOFDMIllustris_group_35.dat\""
   ]
  },
  {
   "cell_type": "code",
   "execution_count": 4,
   "metadata": {
    "collapsed": false,
    "slideshow": {
     "slide_type": "skip"
    }
   },
   "outputs": [],
   "source": [
    "x0, y0, z0 = threedplot(snap_fof , 0)\n",
    "x1, y1, z1 = threedplot(snap_fof , 1)\n",
    "x2, y2, z2 = threedplot(snap_fof , 2)\n",
    "x3, y3, z3 = threedplot(snap_fof , 3)\n",
    "x4, y4, z4 = threedplot(snap_fof , 4)\n",
    "x5, y5, z5 = threedplot(snap_fof , 5)\n",
    "x6, y6, z6 = threedplot(snap_fof , 6)\n",
    "x7, y7, z7 = threedplot(snap_fof , 7)\n",
    "x8, y8, z8 = threedplot(snap_fof , 8)\n",
    "x9, y9, z9 = threedplot(snap_fof , 9)\n",
    "x10, y10, z10 = threedplot(snap_fof , 10)\n",
    "x11, y11, z11 = threedplot(snap_fof , 11)\n",
    "x12, y12, z12 = threedplot(snap_fof , 12)\n",
    "x13, y13, z13 = threedplot(snap_fof , 13)\n",
    "x14, y14, z14 = threedplot(snap_fof , 14)\n",
    "x15, y15, z15 = threedplot(snap_fof , 15)\n",
    "x16, y16, z16 = threedplot(snap_fof , 16)"
   ]
  },
  {
   "cell_type": "code",
   "execution_count": 5,
   "metadata": {
    "collapsed": false,
    "slideshow": {
     "slide_type": "skip"
    }
   },
   "outputs": [],
   "source": [
    "trace0 = Scatter3d(\n",
    "   x = x0, y = y0, z = z0,\n",
    "   mode='markers',\n",
    "   marker=Marker(\n",
    "        size=6,\n",
    "        line=Line(\n",
    "            color=['rgba(217, 217, 217, 0.14)'],\n",
    "            width=0.5\n",
    "        ),\n",
    "        opacity=0.8\n",
    "    )\n",
    ")\n",
    "\n",
    "trace1 = Scatter3d(\n",
    "   x = x1, y = y1, z = z1,\n",
    "   mode='markers',\n",
    "   marker=Marker(\n",
    "        size=6,\n",
    "        line=Line(\n",
    "            color=['r'],\n",
    "            width=0.5\n",
    "        ),\n",
    "        opacity=0.8\n",
    "    )\n",
    ")\n",
    "\n",
    "trace2 = Scatter3d(\n",
    "   x = x2, y = y2, z = z2,\n",
    "   mode='markers',\n",
    "   marker=Marker(\n",
    "        size=3,\n",
    "        line=Line(\n",
    "            color=['r'],\n",
    "            width=0.5\n",
    "        ),\n",
    "        opacity=0.8\n",
    "    )\n",
    ")\n",
    "\n",
    "trace3 = Scatter3d(\n",
    "   x = x3, y = y3, z = z3,\n",
    "   mode='markers',\n",
    "   marker=Marker(\n",
    "        size=6,\n",
    "        line=Line(\n",
    "            color=['r'],\n",
    "            width=0.5\n",
    "        ),\n",
    "        opacity=0.8\n",
    "    )\n",
    ")\n",
    "\n",
    "trace4 = Scatter3d(\n",
    "   x = x4, y = y4, z = z4,\n",
    "   mode='markers',\n",
    "   marker=Marker(\n",
    "        size=6,\n",
    "        line=Line(\n",
    "            color=['r'],\n",
    "            width=0.5\n",
    "        ),\n",
    "        opacity=0.8\n",
    "    )\n",
    ")\n",
    "\n",
    "trace5 = Scatter3d(\n",
    "   x = x5, y = y5, z = z5,\n",
    "   mode='markers',\n",
    "   marker=Marker(\n",
    "        size=6,\n",
    "        line=Line(\n",
    "            color=['r'],\n",
    "            width=0.5\n",
    "        ),\n",
    "        opacity=0.8\n",
    "    )\n",
    ")\n",
    "\n",
    "trace6 = Scatter3d(\n",
    "   x = x6, y = y6, z = z6,\n",
    "   mode='markers',\n",
    "   marker=Marker(\n",
    "        size=6,\n",
    "        line=Line(\n",
    "            color=['r'],\n",
    "            width=0.5\n",
    "        ),\n",
    "        opacity=0.8\n",
    "    )\n",
    ")\n",
    "\n",
    "trace7 = Scatter3d(\n",
    "   x = x7, y = y7, z = z7,\n",
    "   mode='markers',\n",
    "   marker=Marker(\n",
    "        size=6,\n",
    "        line=Line(\n",
    "            color=['r'],\n",
    "            width=0.5\n",
    "        ),\n",
    "        opacity=0.8\n",
    "    )\n",
    ")\n",
    "trace8 = Scatter3d(\n",
    "   x = x8, y = y8, z = z8,\n",
    "   mode='markers',\n",
    "   marker=Marker(\n",
    "        size=6,\n",
    "        line=Line(\n",
    "            color=['r'],\n",
    "            width=0.5\n",
    "        ),\n",
    "        opacity=0.8\n",
    "    )\n",
    ")\n",
    "trace9 = Scatter3d(\n",
    "   x = x9, y = y9, z = z9,\n",
    "   mode='markers',\n",
    "   marker=Marker(\n",
    "        size=6,\n",
    "        line=Line(\n",
    "            color=['r'],\n",
    "            width=0.5\n",
    "        ),\n",
    "        opacity=0.8\n",
    "    )\n",
    ")\n",
    "trace10 = Scatter3d(\n",
    "   x = x10, y = y10, z = z10,\n",
    "   mode='markers',\n",
    "   marker=Marker(\n",
    "        size=6,\n",
    "        line=Line(\n",
    "            color=['r'],\n",
    "            width=0.5\n",
    "        ),\n",
    "        opacity=0.8\n",
    "    )\n",
    ")\n",
    "trace11 = Scatter3d(\n",
    "   x = x11, y = y11, z = z11,\n",
    "   mode='markers',\n",
    "   marker=Marker(\n",
    "        size=6,\n",
    "        line=Line(\n",
    "            color=['r'],\n",
    "            width=0.5\n",
    "        ),\n",
    "        opacity=0.8\n",
    "    )\n",
    ")\n",
    "trace12 = Scatter3d(\n",
    "   x = x12, y = y12, z = z12,\n",
    "   mode='markers',\n",
    "   marker=Marker(\n",
    "        size=6,\n",
    "        line=Line(\n",
    "            color=['r'],\n",
    "            width=0.5\n",
    "        ),\n",
    "        opacity=0.8\n",
    "    )\n",
    ")\n",
    "trace13 = Scatter3d(\n",
    "   x = x13, y = y13, z = z13,\n",
    "   mode='markers',\n",
    "   marker=Marker(\n",
    "        size=6,\n",
    "        line=Line(\n",
    "            color=['r'],\n",
    "            width=0.5\n",
    "        ),\n",
    "        opacity=0.8\n",
    "    )\n",
    ")\n",
    "trace14 = Scatter3d(\n",
    "   x = x14, y = y14, z = z14,\n",
    "   mode='markers',\n",
    "   marker=Marker(\n",
    "        size=6,\n",
    "        line=Line(\n",
    "            color=['r'],\n",
    "            width=0.5\n",
    "        ),\n",
    "        opacity=0.8\n",
    "    )\n",
    ")\n",
    "trace15 = Scatter3d(\n",
    "   x = x15, y = y15, z = z15,\n",
    "   mode='markers',\n",
    "   marker=Marker(\n",
    "        size=6,\n",
    "        line=Line(\n",
    "            color=['r'],\n",
    "            width=0.5\n",
    "        ),\n",
    "        opacity=0.8\n",
    "    )\n",
    ")\n",
    "trace16 = Scatter3d(\n",
    "   x = x16, y = y16, z = z16,\n",
    "   mode='markers',\n",
    "   marker=Marker(\n",
    "        size=6,\n",
    "        line=Line(\n",
    "            color=['r'],\n",
    "            width=0.5\n",
    "        ),\n",
    "        opacity=0.8\n",
    "    )\n",
    ")\n",
    "\n",
    "data = Data([trace0, trace1, trace2, trace3, trace4, trace5, trace6, trace7, trace8, trace9, trace10, \n",
    "            trace11, trace12, trace13, trace14, trace15, trace16])\n",
    "layout = Layout(\n",
    "    title=snap_fof,\n",
    "    margin=Margin(\n",
    "        l=0,\n",
    "        r=0,\n",
    "        b=0,\n",
    "        t=0\n",
    "    )\n",
    ")\n",
    "\n",
    "fig = Figure(data=data, layout=layout)"
   ]
  },
  {
   "cell_type": "code",
   "execution_count": 6,
   "metadata": {
    "collapsed": false,
    "slideshow": {
     "slide_type": "slide"
    }
   },
   "outputs": [
    {
     "data": {
      "text/html": [
       "<iframe id=\"igraph\" scrolling=\"no\" style=\"border:none;\"seamless=\"seamless\" src=\"https://plot.ly/~xozidok/232.embed\" height=\"525\" width=\"100%\"></iframe>"
      ],
      "text/plain": [
       "<plotly.tools.PlotlyDisplay object>"
      ]
     },
     "execution_count": 6,
     "metadata": {},
     "output_type": "execute_result"
    }
   ],
   "source": [
    "py.iplot(fig, filename='group1.png')"
   ]
  },
  {
   "cell_type": "code",
   "execution_count": 7,
   "metadata": {
    "collapsed": false
   },
   "outputs": [
    {
     "data": {
      "text/plain": [
       "([608.08033405284459,\n",
       "  113.05163257814209,\n",
       "  61.876149467562286,\n",
       "  0.0,\n",
       "  92.042114594591624,\n",
       "  136.64765162076367,\n",
       "  116.72533484306749,\n",
       "  95.097420166831398,\n",
       "  126.54272027128088,\n",
       "  3.246736243585112e-12,\n",
       "  2.0606229360689233e-12,\n",
       "  47.411589924484161,\n",
       "  1.4637870187718921e-12,\n",
       "  0.57293440415375085,\n",
       "  43.633199943029567,\n",
       "  4.9032597357512817e-13],\n",
       " [42.95233291775245,\n",
       "  23.666244785624119,\n",
       "  13.316616732704883,\n",
       "  5.3290705182007514e-15,\n",
       "  15.101952295171008,\n",
       "  5.5107086917354513,\n",
       "  5.360154951012599,\n",
       "  3.2372513748102376,\n",
       "  11.169345458830868,\n",
       "  1.2434497875801753e-14,\n",
       "  8.8817841970012523e-16,\n",
       "  5.1516040010755715,\n",
       "  7.9936057773011271e-15,\n",
       "  6.4943373083141989,\n",
       "  2.071356812187557,\n",
       "  2.4980264769075375e-14],\n",
       " [63.500954112138473,\n",
       "  3.246736243585112e-12,\n",
       "  92.503025549010417,\n",
       "  2.0606229360689233e-12,\n",
       "  105.15350743942305],\n",
       " [14.579166901321607,\n",
       "  1.2434497875801753e-14,\n",
       "  2.2223670996290221,\n",
       "  8.8817841970012523e-16,\n",
       "  2.7498228384514896])"
      ]
     },
     "execution_count": 7,
     "metadata": {},
     "output_type": "execute_result"
    }
   ],
   "source": [
    "dispersiones(snap_fof)"
   ]
  },
  {
   "cell_type": "code",
   "execution_count": 7,
   "metadata": {
    "collapsed": false
   },
   "outputs": [
    {
     "data": {
      "image/png": "[encoded data removed]",
      "text/plain": [
       "<matplotlib.figure.Figure at 0x7fc35cdcb090>"
      ]
     },
     "metadata": {},
     "output_type": "display_data"
    }
   ],
   "source": [
    "from mpl_toolkits.mplot3d import Axes3D\n",
    "\n",
    "data_min = np.loadtxt(\"data/A_min\" + snap_fof)\n",
    "x_min = data_min[:,0]\n",
    "y_min = data_min[:,1]\n",
    "z_min = data_min[:,2]\n",
    "N_min = data_min[:,6]\n",
    "fig = plt.figure()\n",
    "xyc = range(int(min(list(set(N_min)))),int(max(list(set(N_min)))+1))\n",
    "for i in range(int(min(list(set(N_min)))),int(max(list(set(N_min)))+1)):\n",
    "                index = np.where(N_min==i)\n",
    "                index = index[0]\n",
    "                #print \"index=\", len(index)\n",
    "                if (len(index)<50):\n",
    "                        ax = fig.add_subplot(111, projection='3d')\n",
    "                        x_LLmin = x_min[index]\n",
    "                        y_LLmin = y_min[index]\n",
    "                        z_LLmin = z_min[index]\n",
    "                        #plt.scatter(x_LLmin, y_LLmin, z_LLmin, c=(random.random(), random.random(), random.random()), s=30*rand(20), alpha=0.6,  label=\"group\" + str(i))\n",
    "                        plt.scatter(x_LLmin, y_LLmin, z_LLmin)\n",
    "legend()\n",
    "plt.show()\n",
    "plt.close()"
   ]
  },
  {
   "cell_type": "code",
   "execution_count": 78,
   "metadata": {
    "collapsed": false
   },
   "outputs": [
    {
     "data": {
      "text/plain": [
       "<matplotlib.collections.PathCollection at 0x7fbf3cc13410>"
      ]
     },
     "execution_count": 78,
     "metadata": {},
     "output_type": "execute_result"
    },
    {
     "data": {
      "image/png": "[encoded data removed]",
      "text/plain": [
       "<matplotlib.figure.Figure at 0x7fbf3d05e510>"
      ]
     },
     "metadata": {},
     "output_type": "display_data"
    }
   ],
   "source": [
    "scatter(x_LLmin, y_LLmin, s=5)"
   ]
  },
  {
   "cell_type": "raw",
   "metadata": {},
   "source": [
    "help(scatter)"
   ]
  },
  {
   "cell_type": "code",
   "execution_count": 17,
   "metadata": {
    "collapsed": true
   },
   "outputs": [],
   "source": [
    "scatter?"
   ]
  },
  {
   "cell_type": "code",
   "execution_count": 35,
   "metadata": {
    "collapsed": false
   },
   "outputs": [
    {
     "data": {
      "text/plain": [
       "array([[ 1.],\n",
       "       [ 1.]])"
      ]
     },
     "execution_count": 35,
     "metadata": {},
     "output_type": "execute_result"
    }
   ],
   "source": [
    "np.ones([2,1])"
   ]
  },
  {
   "cell_type": "code",
   "execution_count": null,
   "metadata": {
    "collapsed": true
   },
   "outputs": [],
   "source": []
  }
 ],
 "metadata": {
  "kernelspec": {
   "display_name": "Python 2",
   "language": "python",
   "name": "python2"
  },
  "language_info": {
   "codemirror_mode": {
    "name": "ipython",
    "version": 2
   },
   "file_extension": ".py",
   "mimetype": "text/x-python",
   "name": "python",
   "nbconvert_exporter": "python",
   "pygments_lexer": "ipython2",
   "version": "2.7.8"
  }
 },
 "nbformat": 4,
 "nbformat_minor": 0
}
