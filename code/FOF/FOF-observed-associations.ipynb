{
 "cells": [
  {
   "cell_type": "code",
   "execution_count": 1,
   "metadata": {
    "collapsed": false
   },
   "outputs": [
    {
     "name": "stdout",
     "output_type": "stream",
     "text": [
      "Using matplotlib backend: Qt4Agg\n",
      "Populating the interactive namespace from numpy and matplotlib\n"
     ]
    },
    {
     "name": "stderr",
     "output_type": "stream",
     "text": [
      "/home/jngaravito57/Documents/codes/ipython/IPython/kernel/__init__.py:10: UserWarning: The `IPython.kernel` package has been deprecated. You should import from ipython_kernel or jupyter_client instead.\n",
      "  warn(\"The `IPython.kernel` package has been deprecated. \"\n"
     ]
    }
   ],
   "source": [
    "%pylab \n",
    "from mpl_toolkits.mplot3d import Axes3D\n",
    "import os"
   ]
  },
  {
   "cell_type": "code",
   "execution_count": 82,
   "metadata": {
    "collapsed": true
   },
   "outputs": [],
   "source": [
    "particles = loadtxt('../coordinates/associations-XYZ.dat',skiprows=6)"
   ]
  },
  {
   "cell_type": "code",
   "execution_count": 99,
   "metadata": {
    "collapsed": false
   },
   "outputs": [],
   "source": [
    "def matching(N):\n",
    "    NN = []\n",
    "    ll = []\n",
    "    for i in range(N):  \n",
    "        l = i/100.\n",
    "        os.system(('./../../../HackFOF/src/fof -e %f -m 2 < ../coordinates/associations-XYZ.dat')%(l))\n",
    "        fof_groups = loadtxt('fof.grp', skiprows=1)\n",
    "        N_match = 0\n",
    "        id_groups = list(set(fof_groups))\n",
    "        NN.append(len(id_groups))\n",
    "        ll.append(l)\n",
    "    return NN, ll"
   ]
  },
  {
   "cell_type": "code",
   "execution_count": 103,
   "metadata": {
    "collapsed": false
   },
   "outputs": [
    {
     "data": {
      "text/plain": [
       "[<matplotlib.lines.Line2D at 0x7f0fa9fd9950>]"
      ]
     },
     "execution_count": 103,
     "metadata": {},
     "output_type": "execute_result"
    }
   ],
   "source": [
    "clf()\n",
    "N, ll = matching(1000)\n",
    "plot(ll, N)"
   ]
  },
  {
   "cell_type": "code",
   "execution_count": 124,
   "metadata": {
    "collapsed": false
   },
   "outputs": [],
   "source": [
    "os.system(('./../../../HackFOF/src/fof -e %f -m 2 < ../coordinates/associations-XYZ.dat')%(1.5))\n",
    "fof_groups = loadtxt('fof.grp', skiprows=1)\n"
   ]
  },
  {
   "cell_type": "code",
   "execution_count": 125,
   "metadata": {
    "collapsed": false,
    "scrolled": true
   },
   "outputs": [],
   "source": [
    "c = [\"r\", \"b\", \"g\", \"y\", \"k\", \"c\", \"m\", \"r\", \"b\", \"k\"]\n",
    "fig = plt.figure(figsize=(18,10))\n",
    "ax = fig.add_subplot(121, projection='3d')\n",
    "\n",
    "for i in range(10):\n",
    "    index = where(fof_groups==i)\n",
    "    index = index[0]\n",
    "    x_group = particles[index,0]\n",
    "    y_group = particles[index,1]\n",
    "    z_group = particles[index,2]\n",
    "    plot(x_group, y_group, z_group, c=c[i],  ls='*', marker='o')\n",
    "\n",
    "ax = fig.add_subplot(122, projection='3d')\n",
    "for i in range(10):\n",
    "    index2 = where(particles[:,3]==i)\n",
    "    index2 = index2[0]\n",
    "    x_a = particles[index2,0]\n",
    "    y_a = particles[index2,1]\n",
    "    z_a = particles[index2,2]\n",
    "    plot(x_a, y_a, z_a, c=c[i], ls='*', marker='o', alpha=0.6)"
   ]
  },
  {
   "cell_type": "code",
   "execution_count": 126,
   "metadata": {
    "collapsed": false
   },
   "outputs": [
    {
     "name": "stdout",
     "output_type": "stream",
     "text": [
      "8\n"
     ]
    }
   ],
   "source": [
    "id_groups = list(set(fof_groups))\n",
    "print len(id_groups)"
   ]
  },
  {
   "cell_type": "code",
   "execution_count": 127,
   "metadata": {
    "collapsed": false
   },
   "outputs": [],
   "source": [
    "#generates data for 1000 spheres\n",
    "fileout = open('test_input.dat', 'w')\n",
    "\n",
    "n_points_total = 200\n",
    "fileout.write(\"%d\\n\"%n_points_total) #points in total \n",
    "fileout.write(\"%d\\n\"%n_points_total) #points in 'DM'\n",
    "fileout.write(\"0\\n\") #gas\n",
    "fileout.write(\"0\\n\") #stars\n",
    "fileout.write(\"0.01\\n\") # time\n",
    "fileout.write(\"0\\n\") # nactive\n",
    "\n",
    "\n",
    "for i in range(100):\n",
    "    x = random.normal(1, 1)\n",
    "    y = random.normal(1, 1)\n",
    "    z = random.normal(1, 1)\n",
    "    fileout.write(\"%f %f %f\\n\"%(x,y,z))\n",
    "for i in range(100):\n",
    "    x = random.normal(5, 1)\n",
    "    y = random.normal(5, 1)\n",
    "    z = random.normal(5, 1)\n",
    "    fileout.write(\"%f %f %f\\n\"%(x,y,z))\n",
    "fileout.close()\n",
    "            "
   ]
  },
  {
   "cell_type": "code",
   "execution_count": 114,
   "metadata": {
    "collapsed": false
   },
   "outputs": [
    {
     "name": "stdout",
     "output_type": "stream",
     "text": [
      "200\r\n",
      "done input\r\n"
     ]
    }
   ],
   "source": [
    "!./../../../HackFOF/src/fof -e 0.3 -m 10 < test_input.dat"
   ]
  },
  {
   "cell_type": "code",
   "execution_count": 105,
   "metadata": {
    "collapsed": true
   },
   "outputs": [],
   "source": [
    "fof_groups = loadtxt('fof.grp', skiprows=1)\n",
    "test_data = loadtxt('test_input.dat', skiprows=6)"
   ]
  },
  {
   "cell_type": "code",
   "execution_count": 106,
   "metadata": {
    "collapsed": false
   },
   "outputs": [
    {
     "name": "stdout",
     "output_type": "stream",
     "text": [
      "200\n",
      "1 groups\n"
     ]
    }
   ],
   "source": [
    "print fof_groups.size \n",
    "#print fof_groups #each entry correesponds to the ID of the fof group\n",
    "id_groups = list(set(fof_groups))\n",
    "print size(id_groups), 'groups'#this is the number of groups found in the FOF\n",
    "\n"
   ]
  },
  {
   "cell_type": "code",
   "execution_count": 81,
   "metadata": {
    "collapsed": false
   },
   "outputs": [
    {
     "data": {
      "text/plain": [
       "[<mpl_toolkits.mplot3d.art3d.Line3D at 0x7f0fa9031190>]"
      ]
     },
     "execution_count": 81,
     "metadata": {},
     "output_type": "execute_result"
    }
   ],
   "source": [
    "c = [\"r\", \"b\", \"g\", \"y\", \"k\", \"c\", \"m\", \"r\", \"b\", \"k\"]\n",
    "fig = plt.figure(figsize=(18,10))\n",
    "ax = fig.add_subplot(121, projection='3d')\n",
    "\n",
    "for i in range(4):\n",
    "    index = where(fof_groups==i)\n",
    "    index = index[0]\n",
    "    x_g = test_data[index,0]\n",
    "    y_g = test_data[index,1]\n",
    "    z_g = test_data[index,2]\n",
    "    plot(x_g, y_g, z_g, c=c[i],  ls='*', marker='o')\n",
    "\n",
    "ax = fig.add_subplot(122, projection='3d')\n",
    "x_a = test_data[:,0]\n",
    "y_a = test_data[:,1]\n",
    "z_a = test_data[:,2]\n",
    "plot(x_a, y_a, z_a, ls='*', marker='o', alpha=0.6)"
   ]
  },
  {
   "cell_type": "code",
   "execution_count": null,
   "metadata": {
    "collapsed": true
   },
   "outputs": [],
   "source": []
  }
 ],
 "metadata": {
  "kernelspec": {
   "display_name": "Python 2",
   "language": "python",
   "name": "python2"
  },
  "language_info": {
   "codemirror_mode": {
    "name": "ipython",
    "version": 2
   },
   "file_extension": ".py",
   "mimetype": "text/x-python",
   "name": "python",
   "nbconvert_exporter": "python",
   "pygments_lexer": "ipython2",
   "version": "2.7.8"
  }
 },
 "nbformat": 4,
 "nbformat_minor": 0
}
