{
 "metadata": {
  "name": "Associations_u_FOF"
 },
 "nbformat": 3,
 "nbformat_minor": 0,
 "worksheets": [
  {
   "cells": [
    {
     "cell_type": "code",
     "collapsed": false,
     "input": [
      "%pylab \n",
      "from mpl_toolkits.mplot3d import Axes3D\n",
      "font = {'size':22, 'family':'serif'}\n",
      "matplotlib.rc('font', **font)"
     ],
     "language": "python",
     "metadata": {},
     "outputs": [
      {
       "output_type": "stream",
       "stream": "stdout",
       "text": [
        "\n",
        "Welcome to pylab, a matplotlib-based Python environment [backend: TkAgg].\n",
        "For more information, type 'help(pylab)'.\n"
       ]
      }
     ],
     "prompt_number": 54
    },
    {
     "cell_type": "markdown",
     "metadata": {},
     "source": [
      "# Brent's mean radius from 2006 paper. Table 1."
     ]
    },
    {
     "cell_type": "code",
     "collapsed": false,
     "input": [
      "radius = loadtxt(\"../data/B64_WM5_10909_LG_7Mpc_2048/TullyAssocRadius2006.txt\")\n",
      "R_mean = mean(radius)\n",
      "R_meanh = R_mean/0.73\n",
      "print R_meanh"
     ],
     "language": "python",
     "metadata": {},
     "outputs": [
      {
       "output_type": "stream",
       "stream": "stdout",
       "text": [
        "546.353202518\n"
       ]
      }
     ],
     "prompt_number": 3
    },
    {
     "cell_type": "markdown",
     "metadata": {},
     "source": [
      "# Results from the FOF"
     ]
    },
    {
     "cell_type": "code",
     "collapsed": false,
     "input": [
      "fof_groups = loadtxt('HackFOF/src/fof.grp', skiprows=1)\n",
      "particles = loadtxt('HackFOF/src/HR-data.txt')\n",
      "X = particles[:,0]\n",
      "Y = particles[:,1]\n",
      "Z = particles[:,2]\n",
      "Vx = particles[:,3]\n",
      "Vy = particles[:,4]\n",
      "Vz = particles[:,5]\n",
      "M = particles[:,6]"
     ],
     "language": "python",
     "metadata": {},
     "outputs": [],
     "prompt_number": 5
    },
    {
     "cell_type": "code",
     "collapsed": false,
     "input": [
      "print fof_groups.size \n",
      "print fof_groups #each entry correesponds to the ID of the fof group\n",
      "id_groups = list(set(fof_groups))\n",
      "print size(id_groups), 'groups'#this is the number of groups found in the FOF"
     ],
     "language": "python",
     "metadata": {},
     "outputs": [
      {
       "output_type": "stream",
       "stream": "stdout",
       "text": [
        "14217\n",
        "[ 1.  1.  1. ...,  1.  0.  1.]\n",
        "24 groups\n"
       ]
      }
     ],
     "prompt_number": 6
    },
    {
     "cell_type": "markdown",
     "metadata": {},
     "source": [
      "# Visualizing Associations Candidates"
     ]
    },
    {
     "cell_type": "code",
     "collapsed": false,
     "input": [
      "fig = plt.figure()\n",
      "ax = fig.add_subplot(111, projection='3d', axisbg='gray')\n",
      "ax.scatter(particles[:,0], particles[:,1], particles[:,2], s=0.06, alpha=0.7, c='k', edgecolors='k')\n",
      "for i in range(22):\n",
      "    index = where(fof_groups==i+2)\n",
      "    association = particles[index]\n",
      "    ax.scatter(association[:,0], association[:,1], association[:,2], c='r', s=3, edgecolors='r')\n"
     ],
     "language": "python",
     "metadata": {},
     "outputs": [],
     "prompt_number": 29
    },
    {
     "cell_type": "code",
     "collapsed": false,
     "input": [
      "fig = figure(figsize=(15, 5))\n",
      "fig.subplots_adjust(hspace=0.00, wspace=0.13,\n",
      "                    top=0.98, right=0.95, bottom=0.05)\n",
      "\n",
      "ax = fig.add_subplot(131)\n",
      "ax.scatter(particles[:,0], particles[:,1], s=0.06, alpha=0.7, c='k', edgecolors='k')\n",
      "\n",
      "index2 = where(fof_groups==2)\n",
      "association2 = particles[index2]\n",
      "\n",
      "index3 = where(fof_groups==3)\n",
      "association3 = particles[index3]\n",
      "\n",
      "index4 = where(fof_groups==4)\n",
      "association4 = particles[index4]\n",
      "\n",
      "index5 = where(fof_groups==5)\n",
      "association5 = particles[index5]\n",
      "\n",
      "index6 = where(fof_groups==6)\n",
      "association6 = particles[index6]\n",
      "\n",
      "index7 = where(fof_groups==7)\n",
      "association7 = particles[index7]\n",
      "\n",
      "index8 = where(fof_groups==8)\n",
      "association8 = particles[index8]\n",
      "\n",
      "index9 = where(fof_groups==9)\n",
      "association9 = particles[index9]\n",
      "\n",
      "index10 = where(fof_groups==10)\n",
      "association10 = particles[index10]\n",
      "\n",
      "index11 = where(fof_groups==11)\n",
      "association11 = particles[index11]\n",
      "\n",
      "index12 = where(fof_groups==12)\n",
      "association12 = particles[index12]\n",
      "\n",
      "index13 = where(fof_groups==13)\n",
      "association13 = particles[index13]\n",
      "\n",
      "index14 = where(fof_groups==14)\n",
      "association14 = particles[index14]\n",
      "\n",
      "index15 = where(fof_groups==15)\n",
      "association15 = particles[index15]\n",
      "\n",
      "index16 = where(fof_groups==16)\n",
      "association16 = particles[index16]\n",
      "\n",
      "index17 = where(fof_groups==17)\n",
      "association17 = particles[index17]\n",
      "\n",
      "index18 = where(fof_groups==18)\n",
      "association18 = particles[index18]\n",
      "\n",
      "index19 = where(fof_groups==19)\n",
      "association19 = particles[index19]\n",
      "\n",
      "index20 = where(fof_groups==20)\n",
      "association20 = particles[index20]\n",
      "\n",
      "index21 = where(fof_groups==21)\n",
      "association21 = particles[index21]\n",
      "\n",
      "index22 = where(fof_groups==22)\n",
      "association22 = particles[index22]\n",
      "\n",
      "index23 = where(fof_groups==23)\n",
      "association23 = particles[index23]\n",
      "\n",
      "ax.scatter(association2[:,0], association2[:,1], c='r', s=3, edgecolors='r')\n",
      "ax.scatter(association3[:,0], association3[:,1], c='#1b9e77', s=3, edgecolors='#1b9e77')\n",
      "ax.scatter(association4[:,0], association4[:,1], c='#d95f02', s=3, edgecolors='#d95f02')\n",
      "ax.scatter(association5[:,0], association5[:,1], c='#7570b3', s=3, edgecolors='#7570b3')\n",
      "ax.scatter(association6[:,0], association6[:,1], c='#e41a1c', s=3, edgecolors='#e41a1c')\n",
      "ax.scatter(association7[:,0], association7[:,1], c='#377eb8', s=3, edgecolors='#377eb8')\n",
      "ax.scatter(association8[:,0], association8[:,1], c='#4daf4a', s=3, edgecolors='#4daf4a')\n",
      "ax.scatter(association9[:,0], association9[:,1], c='#2d004b', s=3, edgecolors='#2d004b')\n",
      "ax.scatter(association10[:,0], association10[:,1], c='#7f3b08', s=3, edgecolors='#7f3b08')\n",
      "ax.scatter(association11[:,0], association11[:,1], c='#40004b', s=3, edgecolors='#40004b')\n",
      "ax.scatter(association12[:,0], association12[:,1], c='#00441b', s=3, edgecolors='#00441b')\n",
      "ax.scatter(association13[:,0], association13[:,1], c='#01665e', s=3, edgecolors='#01665e')\n",
      "ax.scatter(association14[:,0], association14[:,1], c='#00441b', s=3, edgecolors='#00441b')\n",
      "ax.scatter(association15[:,0], association15[:,1], c='#800026', s=3, edgecolors='#800026')\n",
      "ax.scatter(association16[:,0], association16[:,1], c='#49006a', s=3, edgecolors='#49006a')\n",
      "ax.scatter(association17[:,0], association17[:,1], c='#1b9e77', s=3, edgecolors='#1b9e77')\n",
      "ax.scatter(association18[:,0], association18[:,1], c='#d95f02', s=3, edgecolors='#d95f02')\n",
      "ax.scatter(association19[:,0], association19[:,1], c='#67001f', s=3, edgecolors='#67001f')\n",
      "ax.scatter(association20[:,0], association20[:,1], c='#08306b', s=3, edgecolors='#08306b')\n",
      "ax.scatter(association21[:,0], association21[:,1], c='#f16913', s=3, edgecolors='#f16913')\n",
      "ax.scatter(association22[:,0], association22[:,1], c='#000000', s=3, edgecolors='#000000')\n",
      "ax.scatter(association23[:,0], association23[:,1], c='r', s=3, edgecolors='r')\n",
      "ax.set_ylim([20, 45])\n",
      "ax.set_title(\"X-Y Projection\")\n",
      "ax.set_xlabel(\"X(Mpc)\")\n",
      "ax.set_ylabel(\"Y(Mpc)\")\n",
      "\n",
      "ax1 = fig.add_subplot(132)\n",
      "ax1.scatter(particles[:,0], particles[:,2], s=0.06, alpha=0.7, c='k', edgecolors='k')\n",
      "ax1.scatter(association2[:,0], association2[:,2], c='r', s=3, edgecolors='r')\n",
      "ax1.scatter(association3[:,0], association3[:,2], c='#1b9e77', s=3, edgecolors='#1b9e77')\n",
      "ax1.scatter(association4[:,0], association4[:,2], c='#d95f02', s=3, edgecolors='#d95f02')\n",
      "ax1.scatter(association5[:,0], association5[:,2], c='#7570b3', s=3, edgecolors='#7570b3')\n",
      "ax1.scatter(association6[:,0], association6[:,2], c='#e41a1c', s=3, edgecolors='#e41a1c')\n",
      "ax1.scatter(association7[:,0], association7[:,2], c='#377eb8', s=3, edgecolors='#377eb8')\n",
      "ax1.scatter(association8[:,0], association8[:,2], c='#4daf4a', s=3, edgecolors='#4daf4a')\n",
      "ax1.scatter(association9[:,0], association9[:,2], c='#2d004b', s=3, edgecolors='#2d004b')\n",
      "ax1.scatter(association10[:,0], association10[:,2], c='#7f3b08', s=3, edgecolors='#7f3b08')\n",
      "ax1.scatter(association11[:,0], association11[:,2], c='#40004b', s=3, edgecolors='#40004b')\n",
      "ax1.scatter(association12[:,0], association12[:,2], c='#00441b', s=3, edgecolors='#00441b')\n",
      "ax1.scatter(association13[:,0], association13[:,2], c='#01665e', s=3, edgecolors='#01665e')\n",
      "ax1.scatter(association14[:,0], association14[:,2], c='#00441b', s=3, edgecolors='#00441b')\n",
      "ax1.scatter(association15[:,0], association15[:,2], c='#800026', s=3, edgecolors='#800026')\n",
      "ax1.scatter(association16[:,0], association16[:,2], c='#49006a', s=3, edgecolors='#49006a')\n",
      "ax1.scatter(association17[:,0], association17[:,2], c='#1b9e77', s=3, edgecolors='#1b9e77')\n",
      "ax1.scatter(association18[:,0], association18[:,2], c='#d95f02', s=3, edgecolors='#d95f02')\n",
      "ax1.scatter(association19[:,0], association19[:,2], c='#67001f', s=3, edgecolors='#67001f')\n",
      "ax1.scatter(association20[:,0], association20[:,2], c='#08306b', s=3, edgecolors='#08306b')\n",
      "ax1.scatter(association21[:,0], association21[:,2], c='#f16913', s=3, edgecolors='#f16913')\n",
      "ax1.scatter(association22[:,0], association22[:,2], c='#000000', s=3, edgecolors='#000000')\n",
      "ax1.scatter(association23[:,0], association23[:,2], c='r', s=3, edgecolors='r')\n",
      "ax1.yaxis.set_major_formatter(plt.NullFormatter())\n",
      "ax1.set_title(\"X-Z Projection\")\n",
      "ax1.set_xlabel(\"X(Mpc)\")\n",
      "ax1.set_ylabel(\"Z(Mpc)\")\n",
      "\n",
      "ax2 = fig.add_subplot(133)\n",
      "ax2.scatter(particles[:,1], particles[:,2], s=0.06, alpha=0.7, c='k', edgecolors='k')\n",
      "ax2.scatter(association2[:,1], association2[:,2], c='r', s=3, edgecolors='r')\n",
      "ax2.scatter(association3[:,1], association3[:,2], c='#1b9e77', s=3, edgecolors='#1b9e77')\n",
      "ax2.scatter(association4[:,1], association4[:,2], c='#d95f02', s=3, edgecolors='#d95f02')\n",
      "ax2.scatter(association5[:,1], association5[:,2], c='#7570b3', s=3, edgecolors='#7570b3')\n",
      "ax2.scatter(association6[:,1], association6[:,2], c='#e41a1c', s=3, edgecolors='#e41a1c')\n",
      "ax2.scatter(association7[:,1], association7[:,2], c='#377eb8', s=3, edgecolors='#377eb8')\n",
      "ax2.scatter(association8[:,1], association8[:,2], c='#4daf4a', s=3, edgecolors='#4daf4a')\n",
      "ax2.scatter(association9[:,1], association9[:,2], c='#2d004b', s=3, edgecolors='#2d004b')\n",
      "ax2.scatter(association10[:,1], association10[:,2], c='#7f3b08', s=3, edgecolors='#7f3b08')\n",
      "ax2.scatter(association11[:,1], association11[:,2], c='#40004b', s=3, edgecolors='#40004b')\n",
      "ax2.scatter(association12[:,1], association12[:,2], c='#00441b', s=3, edgecolors='#00441b')\n",
      "ax2.scatter(association13[:,1], association13[:,2], c='#01665e', s=3, edgecolors='#01665e')\n",
      "ax2.scatter(association14[:,1], association14[:,2], c='#00441b', s=3, edgecolors='#00441b')\n",
      "ax2.scatter(association15[:,1], association15[:,2], c='#800026', s=3, edgecolors='#800026')\n",
      "ax2.scatter(association16[:,1], association16[:,2], c='#49006a', s=3, edgecolors='#49006a')\n",
      "ax2.scatter(association17[:,1], association17[:,2], c='#1b9e77', s=3, edgecolors='#1b9e77')\n",
      "ax2.scatter(association18[:,1], association18[:,2], c='#d95f02', s=3, edgecolors='#d95f02')\n",
      "ax2.scatter(association19[:,1], association19[:,2], c='#67001f', s=3, edgecolors='#67001f')\n",
      "ax2.scatter(association20[:,1], association20[:,2], c='#08306b', s=3, edgecolors='#08306b')\n",
      "ax2.scatter(association21[:,1], association21[:,2], c='#f16913', s=3, edgecolors='#f16913')\n",
      "ax2.scatter(association22[:,1], association22[:,2], c='#000000', s=3, edgecolors='#000000')\n",
      "ax2.scatter(association23[:,1], association23[:,2], c='r', s=3, edgecolors='r')\n",
      "ax2.yaxis.set_major_formatter(plt.NullFormatter())\n",
      "ax2.set_title(\"Y-Z Projection\")\n",
      "ax2.set_xlabel(\"Y(Mpc)\")\n",
      "ax2.set_ylabel(\"Z(Mpc)\")\n",
      "\n",
      "savefig(\"projections.png\", bbox_inches='tight')"
     ],
     "language": "python",
     "metadata": {},
     "outputs": [],
     "prompt_number": 64
    },
    {
     "cell_type": "markdown",
     "metadata": {},
     "source": [
      "#Writting Associations Candidates Data"
     ]
    },
    {
     "cell_type": "code",
     "collapsed": false,
     "input": [
      "data_assoc = loadtxt(\"HackFOF/src/Associantions-Candidates.txt\")\n",
      "xa = data_assoc[:,0]\n",
      "ya = data_assoc[:,1]\n",
      "za = data_assoc[:,2]\n",
      "Vxa = data_assoc[:,3]\n",
      "Vya = data_assoc[:,4]\n",
      "Vza = data_assoc[:,5]\n",
      "Ma = data_assoc[:,6]\n",
      "Asso = data_assoc[:,8]\n"
     ],
     "language": "python",
     "metadata": {},
     "outputs": [],
     "prompt_number": 9
    },
    {
     "cell_type": "markdown",
     "metadata": {},
     "source": [
      "# dispersion de velocidades"
     ]
    },
    {
     "cell_type": "code",
     "collapsed": false,
     "input": [
      "! awk < HackFOF/src/Associantions-Candidates.txt '{if($9==2) print $1, $2, $3, $4, $5, $6, $7, $8}' > Association2.txt\n",
      "! awk < HackFOF/src/Associantions-Candidates.txt '{if($9==3) print $1, $2, $3, $4, $5, $6, $7, $8}' > Association3.txt\n",
      "! awk < HackFOF/src/Associantions-Candidates.txt '{if($9==4) print $1, $2, $3, $4, $5, $6, $7, $8}' > Association4.txt\n",
      "! awk < HackFOF/src/Associantions-Candidates.txt '{if($9==5) print $1, $2, $3, $4, $5, $6, $7, $8}' > Association5.txt\n",
      "! awk < HackFOF/src/Associantions-Candidates.txt '{if($9==6) print $1, $2, $3, $4, $5, $6, $7, $8}' > Association6.txt\n",
      "! awk < HackFOF/src/Associantions-Candidates.txt '{if($9==7) print $1, $2, $3, $4, $5, $6, $7, $8}' > Association7.txt\n",
      "! awk < HackFOF/src/Associantions-Candidates.txt '{if($9==8) print $1, $2, $3, $4, $5, $6, $7, $8}' > Association8.txt\n",
      "! awk < HackFOF/src/Associantions-Candidates.txt '{if($9==9) print $1, $2, $3, $4, $5, $6, $7, $8}' > Association9.txt\n",
      "! awk < HackFOF/src/Associantions-Candidates.txt '{if($9==10) print $1, $2, $3, $4, $5, $6, $7, $8}' > Association10.txt\n",
      "! awk < HackFOF/src/Associantions-Candidates.txt '{if($9==11) print $1, $2, $3, $4, $5, $6, $7, $8}' > Association11.txt\n",
      "! awk < HackFOF/src/Associantions-Candidates.txt '{if($9==12) print $1, $2, $3, $4, $5, $6, $7, $8}' > Association12.txt\n",
      "! awk < HackFOF/src/Associantions-Candidates.txt '{if($9==13) print $1, $2, $3, $4, $5, $6, $7, $8}' > Association13.txt\n",
      "! awk < HackFOF/src/Associantions-Candidates.txt '{if($9==14) print $1, $2, $3, $4, $5, $6, $7, $8}' > Association14.txt\n",
      "! awk < HackFOF/src/Associantions-Candidates.txt '{if($9==15) print $1, $2, $3, $4, $5, $6, $7, $8}' > Association15.txt\n",
      "! awk < HackFOF/src/Associantions-Candidates.txt '{if($9==16) print $1, $2, $3, $4, $5, $6, $7, $8}' > Association16.txt\n",
      "! awk < HackFOF/src/Associantions-Candidates.txt '{if($9==17) print $1, $2, $3, $4, $5, $6, $7, $8}' > Association17.txt\n",
      "! awk < HackFOF/src/Associantions-Candidates.txt '{if($9==18) print $1, $2, $3, $4, $5, $6, $7, $8}' > Association18.txt\n",
      "! awk < HackFOF/src/Associantions-Candidates.txt '{if($9==19) print $1, $2, $3, $4, $5, $6, $7, $8}' > Association19.txt\n",
      "! awk < HackFOF/src/Associantions-Candidates.txt '{if($9==20) print $1, $2, $3, $4, $5, $6, $7, $8}' > Association20.txt\n",
      "! awk < HackFOF/src/Associantions-Candidates.txt '{if($9==21) print $1, $2, $3, $4, $5, $6, $7, $8}' > Association21.txt\n",
      "! awk < HackFOF/src/Associantions-Candidates.txt '{if($9==22) print $1, $2, $3, $4, $5, $6, $7, $8}' > Association22.txt\n",
      "! awk < HackFOF/src/Associantions-Candidates.txt '{if($9==23) print $1, $2, $3, $4, $5, $6, $7, $8}' > Association23.txt\n",
      "! awk < HackFOF/src/Associantions-Candidates.txt '{if($9==24) print $1, $2, $3, $4, $5, $6, $7, $8}' > Association24.txt"
     ],
     "language": "python",
     "metadata": {},
     "outputs": [],
     "prompt_number": 11
    },
    {
     "cell_type": "code",
     "collapsed": false,
     "input": [
      "# Association 2\n",
      "for i in range(22):\n",
      "    asso2 = loadtxt(\"Association\"+str(i+2)+\".txt\")\n",
      "    Vx_2 = asso2[:,3]\n",
      "    Vy_2 = asso2[:,4] \n",
      "    Vz_2 = asso2[:,5] \n",
      "    Ma_2 = asso2[:,6]\n",
      "    V2 = sqrt(Vx_2**2 + Vy_2**2 + Vz_2**2)\n",
      "    Vcm2 = sum(V2*Ma_2)/sum(Ma_2)\n",
      "    print \"Velcoity of the CM of Association\"+ str(i+2) + \"(km/s): \", Vcm2\n",
      "    mu2 = mean(V2)\n",
      "    V2_disp = std(V2)\n",
      "    print \"Velocity dispersion of Association\" + str(i+2), V2_disp\n",
      "\n"
     ],
     "language": "python",
     "metadata": {},
     "outputs": [
      {
       "output_type": "stream",
       "stream": "stdout",
       "text": [
        "Velcoity of the CM of Association2(km/s): "
       ]
      },
      {
       "output_type": "stream",
       "stream": "stdout",
       "text": [
        " 323.958193082\n",
        "Velocity dispersion of Association2 11.3744103999\n",
        "Velcoity of the CM of Association3(km/s):  380.142848175\n",
        "Velocity dispersion of Association3 9.2234848993\n",
        "Velcoity of the CM of Association4(km/s):  391.170463652\n",
        "Velocity dispersion of Association4 9.01632128726\n",
        "Velcoity of the CM of Association5(km/s):  379.495676551\n",
        "Velocity dispersion of Association5 6.75346933544\n",
        "Velcoity of the CM of Association6(km/s):  384.422097907\n",
        "Velocity dispersion of Association6 31.9019075109\n",
        "Velcoity of the CM of Association7(km/s):  384.184713579\n",
        "Velocity dispersion of Association7 14.6844017509\n",
        "Velcoity of the CM of Association8(km/s):  434.775169169\n",
        "Velocity dispersion of Association8 6.17086653937\n",
        "Velcoity of the CM of Association9(km/s):  374.959149525\n",
        "Velocity dispersion of Association9 10.7882478814\n",
        "Velcoity of the CM of Association10(km/s):  324.917516573\n",
        "Velocity dispersion of Association10 8.21638625758\n",
        "Velcoity of the CM of Association11(km/s):  221.673806335\n",
        "Velocity dispersion of Association11 5.51434779089\n",
        "Velcoity of the CM of Association12(km/s):  306.361929246\n",
        "Velocity dispersion of Association12 10.264050005\n",
        "Velcoity of the CM of Association13(km/s):  327.319133675\n",
        "Velocity dispersion of Association13 11.7294080695\n",
        "Velcoity of the CM of Association14(km/s):  278.506637492\n",
        "Velocity dispersion of Association14 12.5627594537\n",
        "Velcoity of the CM of Association15(km/s):  265.251204268\n",
        "Velocity dispersion of Association15 7.06605394558\n",
        "Velcoity of the CM of Association16(km/s):  333.123500596\n",
        "Velocity dispersion of Association16 29.1376587168\n",
        "Velcoity of the CM of Association17(km/s):  468.405299074\n",
        "Velocity dispersion of Association17 28.3679478065\n",
        "Velcoity of the CM of Association18(km/s):  390.423427694\n",
        "Velocity dispersion of Association18 49.7345119203\n",
        "Velcoity of the CM of Association19(km/s):  326.884674706\n",
        "Velocity dispersion of Association19 5.9903646507\n",
        "Velcoity of the CM of Association20(km/s):  305.58702942\n",
        "Velocity dispersion of Association20 5.99053905837\n",
        "Velcoity of the CM of Association21(km/s):  295.573808999\n",
        "Velocity dispersion of Association21 9.13357432358\n",
        "Velcoity of the CM of Association22(km/s):  301.553036076\n",
        "Velocity dispersion of Association22 7.12196522362\n",
        "Velcoity of the CM of Association23(km/s):  259.185218387\n",
        "Velocity dispersion of Association23 6.3791547288\n"
       ]
      }
     ],
     "prompt_number": 12
    },
    {
     "cell_type": "markdown",
     "metadata": {},
     "source": [
      "# Brents larger dispersion of velocities = 42 km/s"
     ]
    },
    {
     "cell_type": "code",
     "collapsed": false,
     "input": [
      "!wc -l Associa* > Nhalos_per_Association1.txt"
     ],
     "language": "python",
     "metadata": {},
     "outputs": [],
     "prompt_number": 13
    },
    {
     "cell_type": "code",
     "collapsed": false,
     "input": [
      "!wc -l Nhalos_per_Association1.txt"
     ],
     "language": "python",
     "metadata": {},
     "outputs": [
      {
       "output_type": "stream",
       "stream": "stdout",
       "text": [
        "25 Nhalos_per_Association1.txt\r\n"
       ]
      }
     ],
     "prompt_number": 14
    },
    {
     "cell_type": "code",
     "collapsed": false,
     "input": [
      "!tail -25 Nhalos_per_Association1.txt > Nhalos_per_Association2.txt"
     ],
     "language": "python",
     "metadata": {},
     "outputs": [],
     "prompt_number": 15
    },
    {
     "cell_type": "code",
     "collapsed": false,
     "input": [
      "!head -23 Nhalos_per_Association2.txt > Nhalos_per_Association3.txt\n",
      "!awk < Nhalos_per_Association3.txt '{print $1}' > Nhalos_per_Association.txt"
     ],
     "language": "python",
     "metadata": {},
     "outputs": [],
     "prompt_number": 16
    },
    {
     "cell_type": "code",
     "collapsed": false,
     "input": [
      "Nhalos = loadtxt(\"Nhalos_per_Association.txt\")\n"
     ],
     "language": "python",
     "metadata": {},
     "outputs": [],
     "prompt_number": 17
    },
    {
     "cell_type": "code",
     "collapsed": false,
     "input": [
      "print mean(Nhalos)"
     ],
     "language": "python",
     "metadata": {},
     "outputs": [
      {
       "output_type": "stream",
       "stream": "stdout",
       "text": [
        "17.1739130435"
       ]
      },
      {
       "output_type": "stream",
       "stream": "stdout",
       "text": [
        "\n"
       ]
      }
     ],
     "prompt_number": 18
    },
    {
     "cell_type": "code",
     "collapsed": false,
     "input": [
      "#Brents Mean "
     ],
     "language": "python",
     "metadata": {},
     "outputs": [],
     "prompt_number": 19
    },
    {
     "cell_type": "code",
     "collapsed": false,
     "input": [
      "Observational_mean = [4, 6, 7, 4, 5, 3, 3, 4, 4, 1]\n",
      "mean(Observational_mean)"
     ],
     "language": "python",
     "metadata": {},
     "outputs": [
      {
       "output_type": "pyout",
       "prompt_number": 20,
       "text": [
        "4.0999999999999996"
       ]
      }
     ],
     "prompt_number": 20
    },
    {
     "cell_type": "markdown",
     "metadata": {},
     "source": [
      "#Results:\n",
      "\n",
      "| Properties | Observed Associations | CLUES Associations |\n",
      "| ----------| -----------------------| --------------------------------"
     ]
    },
    {
     "cell_type": "code",
     "collapsed": false,
     "input": [],
     "language": "python",
     "metadata": {},
     "outputs": []
    }
   ],
   "metadata": {}
  }
 ]
}