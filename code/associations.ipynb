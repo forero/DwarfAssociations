{
 "metadata": {
  "name": "associations"
 },
 "nbformat": 3,
 "nbformat_minor": 0,
 "worksheets": [
  {
   "cells": [
    {
     "cell_type": "code",
     "collapsed": false,
     "input": [
      "%pylab inline\n",
      "rcParams['figure.figsize'] = 10, 10"
     ],
     "language": "python",
     "metadata": {},
     "outputs": [
      {
       "output_type": "stream",
       "stream": "stdout",
       "text": [
        "\n",
        "Welcome to pylab, a matplotlib-based Python environment [backend: module://IPython.zmq.pylab.backend_inline].\n",
        "For more information, type 'help(pylab)'.\n"
       ]
      }
     ],
     "prompt_number": 1
    },
    {
     "cell_type": "code",
     "collapsed": false,
     "input": [
      "data = np.loadtxt(\"../data/Distances/potenciales.txt\")"
     ],
     "language": "python",
     "metadata": {},
     "outputs": [],
     "prompt_number": 2
    },
    {
     "cell_type": "code",
     "collapsed": false,
     "input": [
      "shape(data)"
     ],
     "language": "python",
     "metadata": {},
     "outputs": [
      {
       "output_type": "pyout",
       "prompt_number": 3,
       "text": [
        "(18418, 4)"
       ]
      }
     ],
     "prompt_number": 3
    },
    {
     "cell_type": "code",
     "collapsed": false,
     "input": [
      "x = data[:,0]\n",
      "y = data[:,1]\n",
      "z = data[:,2]\n",
      "u = data[:,3]"
     ],
     "language": "python",
     "metadata": {},
     "outputs": [],
     "prompt_number": 10
    },
    {
     "cell_type": "code",
     "collapsed": false,
     "input": [
      "print amax(u), amin(u)"
     ],
     "language": "python",
     "metadata": {},
     "outputs": [
      {
       "output_type": "stream",
       "stream": "stdout",
       "text": [
        "3.65073752363e+27 1.39552921889e+22\n"
       ]
      }
     ],
     "prompt_number": 11
    },
    {
     "cell_type": "code",
     "collapsed": false,
     "input": [
      "U = log(u)\n",
      "\n",
      "index = where(U>58)"
     ],
     "language": "python",
     "metadata": {},
     "outputs": [],
     "prompt_number": 12
    },
    {
     "cell_type": "code",
     "collapsed": false,
     "input": [
      "x = x[index]\n",
      "y = y[index]\n",
      "z = z[index]\n",
      "u = u[index]\n",
      "\n"
     ],
     "language": "python",
     "metadata": {},
     "outputs": [],
     "prompt_number": 13
    },
    {
     "cell_type": "code",
     "collapsed": false,
     "input": [
      "f = open(\"../data/associations.dat\", \"w\")\n",
      "def associations_groups(x, y, z, eps)\n",
      "    L = len(x)\n",
      "    for i in range(L):\n",
      "        for j in range(L):\n",
      "            if j!=i:\n",
      "                if sqrt((x[i] - x[j])**2 + (y[i]-y[j])**2 + (z[i]-z[j])**2) < eps:\n",
      "                    f.write(str(x[i]) + \"   \" + str(y[i]) + \"   \" +  str(z[i]) + \"\\n\")\n",
      "    f.close()                "
     ],
     "language": "python",
     "metadata": {},
     "outputs": [],
     "prompt_number": 25
    },
    {
     "cell_type": "code",
     "collapsed": false,
     "input": [
      "data2 = loadtxt(\"../data/associations.dat\")\n",
      "\n",
      "X = data2[:,0]\n",
      "Y = data2[:,1]\n",
      "Z = data2[:,2]\n",
      "\n",
      "scatter(X, Y, s=0.5)"
     ],
     "language": "python",
     "metadata": {},
     "outputs": [
      {
       "output_type": "pyout",
       "prompt_number": 27,
       "text": [
        "<matplotlib.collections.PathCollection at 0x41a9dd0>"
       ]
      },
      {
       "output_type": "display_data",
       "png": "[encoded data removed]"
      }
     ],
     "prompt_number": 27
    },
    {
     "cell_type": "code",
     "collapsed": false,
     "input": [
      "index = where(U>60)\n",
      "U = U[index]\n",
      "X = x[index]\n",
      "Y = y[index]\n",
      "Z = z[index]\n",
      "print len(U)"
     ],
     "language": "python",
     "metadata": {},
     "outputs": [
      {
       "output_type": "stream",
       "stream": "stdout",
       "text": [
        "81\n"
       ]
      }
     ],
     "prompt_number": 23
    },
    {
     "cell_type": "code",
     "collapsed": false,
     "input": [],
     "language": "python",
     "metadata": {},
     "outputs": []
    }
   ],
   "metadata": {}
  }
 ]
}