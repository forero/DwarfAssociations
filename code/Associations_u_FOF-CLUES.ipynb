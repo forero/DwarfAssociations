{
 "metadata": {
  "name": "Associations_u_FOF-CLUES"
 },
 "nbformat": 3,
 "nbformat_minor": 0,
 "worksheets": [
  {
   "cells": [
    {
     "cell_type": "code",
     "collapsed": false,
     "input": [
      "%pylab \n",
      "from mpl_toolkits.mplot3d import Axes3D\n",
      "font = {'size':22, 'family':'serif'}\n",
      "matplotlib.rc('font', **font)"
     ],
     "language": "python",
     "metadata": {},
     "outputs": [
      {
       "output_type": "stream",
       "stream": "stdout",
       "text": [
        "\n",
        "Welcome to pylab, a matplotlib-based Python environment [backend: TkAgg].\n",
        "For more information, type 'help(pylab)'.\n"
       ]
      },
      {
       "output_type": "stream",
       "stream": "stderr",
       "text": [
        "/usr/lib/pymodules/python2.7/matplotlib/__init__.py:1035: UserWarning:  This call to matplotlib.use() has no effect\n",
        "because the the backend has already been chosen;\n",
        "matplotlib.use() must be called *before* pylab, matplotlib.pyplot,\n",
        "or matplotlib.backends is imported for the first time.\n",
        "\n",
        "  warnings.warn(_use_error_msg)\n"
       ]
      }
     ],
     "prompt_number": 24
    },
    {
     "cell_type": "markdown",
     "metadata": {},
     "source": [
      "# Brent's mean radius from 2006 paper. Table 1."
     ]
    },
    {
     "cell_type": "code",
     "collapsed": false,
     "input": [
      "radius = loadtxt(\"../data/B64_WM5_10909_LG_7Mpc_2048/TullyAssocRadius2006.txt\")\n",
      "R_mean = mean(radius)\n",
      "R_meanh = R_mean*0.73\n",
      "print R_meanh, 3*0.73"
     ],
     "language": "python",
     "metadata": {},
     "outputs": [
      {
       "output_type": "stream",
       "stream": "stdout",
       "text": [
        "291.151621622"
       ]
      },
      {
       "output_type": "stream",
       "stream": "stdout",
       "text": [
        " 2.19\n"
       ]
      }
     ],
     "prompt_number": 70
    },
    {
     "cell_type": "markdown",
     "metadata": {},
     "source": [
      "# Results from the FOF"
     ]
    },
    {
     "cell_type": "code",
     "collapsed": false,
     "input": [
      "fof_groups = loadtxt('HackFOF/src/fof.grp')\n",
      "particles = loadtxt('HackFOF/src/HR-data.txt')\n",
      "X = particles[:,0]\n",
      "Y = particles[:,1]\n",
      "Z = particles[:,2]\n",
      "Vx = particles[:,3]\n",
      "Vy = particles[:,4]\n",
      "Vz = particles[:,5]\n",
      "M = particles[:,6]"
     ],
     "language": "python",
     "metadata": {},
     "outputs": [],
     "prompt_number": 73
    },
    {
     "cell_type": "code",
     "collapsed": false,
     "input": [
      "print fof_groups.size \n",
      "print fof_groups #each entry correesponds to the ID of the fof group\n",
      "id_groups = list(set(fof_groups))\n",
      "print size(id_groups), 'groups'#this is the number of groups found in the FOF"
     ],
     "language": "python",
     "metadata": {},
     "outputs": [
      {
       "output_type": "stream",
       "stream": "stdout",
       "text": [
        "14217\n",
        "[ 14.  14.   1. ...,   0.   0.   0.]\n",
        "127 groups\n"
       ]
      }
     ],
     "prompt_number": 74
    },
    {
     "cell_type": "code",
     "collapsed": false,
     "input": [
      "!paste HackFOF/src/HR-data.txt  HackFOF/src/fof.grp  > Associations_candidates.txt "
     ],
     "language": "python",
     "metadata": {},
     "outputs": [],
     "prompt_number": 75
    },
    {
     "cell_type": "markdown",
     "metadata": {},
     "source": [
      "# Visualizing Associations Candidates"
     ]
    },
    {
     "cell_type": "markdown",
     "metadata": {},
     "source": [
      "##3D:"
     ]
    },
    {
     "cell_type": "code",
     "collapsed": false,
     "input": [
      "fig = plt.figure()\n",
      "ax = fig.add_subplot(111, projection='3d', axisbg='gray')\n",
      "ax.scatter(particles[:,0], particles[:,1], particles[:,2], s=0.06, alpha=0.7, c='k', edgecolors='k')\n",
      "for i in range(22):\n",
      "    index = where(fof_groups==i+2)\n",
      "    association = particles[index]\n",
      "    ax.scatter(association[:,0], association[:,1], association[:,2], c='r', s=0.5, edgecolors='r', alpha=0.7)\n",
      "ax.set_ylabel(\"(Mpc)\")\n",
      "ax.set_xlabel(\"(Mpc)\")\n",
      "ax.set_zlabel(\"(Mpc)\")\n"
     ],
     "language": "python",
     "metadata": {},
     "outputs": [
      {
       "output_type": "pyout",
       "prompt_number": 77,
       "text": [
        "<matplotlib.text.Text at 0xb2e8890>"
       ]
      }
     ],
     "prompt_number": 77
    },
    {
     "cell_type": "markdown",
     "metadata": {},
     "source": [
      "##Projections:"
     ]
    },
    {
     "cell_type": "code",
     "collapsed": false,
     "input": [
      "fig = figure(figsize=(15, 5))\n",
      "fig.subplots_adjust(hspace=0.00, wspace=0.13, top=0.98, right=0.95, bottom=0.05)\n",
      "\n",
      "ax = fig.add_subplot(131)\n",
      "ax1 = fig.add_subplot(132)\n",
      "ax2 = fig.add_subplot(133)\n",
      "ax.scatter(particles[:,0], particles[:,1], s=0.06, alpha=0.7, c='k', edgecolors='k')\n",
      "ax1.scatter(particles[:,0], particles[:,2], s=0.06, alpha=0.7, c='k', edgecolors='k')\n",
      "ax2.scatter(particles[:,1], particles[:,2], s=0.06, alpha=0.7, c='k', edgecolors='k')\n",
      "\n",
      "for i in range(22):\n",
      "    index = where(fof_groups==i+2)\n",
      "    association = particles[index]\n",
      "    ax.scatter(association[:,0], association[:,1], c='r', s=0.1, edgecolors='r', alpha=0.6)\n",
      "    ax1.scatter(association[:,0], association[:,2], c='r', s=0.1, edgecolors='r', alpha=0.6)\n",
      "    ax2.scatter(association[:,1], association[:,2], c='r',s=0.1, edgecolors='r', alpha=0.6)\n",
      "ax.set_ylim([20, 45])\n",
      "\n",
      "ax.set_ylim([20, 45])\n",
      "ax.set_title(\"X-Y Projection\")\n",
      "ax.set_xlabel(\"X(Mpc)\")\n",
      "ax.set_ylabel(\"Y(Mpc)\")\n",
      "\n",
      "ax1.yaxis.set_major_formatter(plt.NullFormatter())\n",
      "ax1.set_title(\"X-Z Projection\")\n",
      "ax1.set_xlabel(\"X(Mpc)\")\n",
      "ax1.set_ylabel(\"Z(Mpc)\")\n",
      "\n",
      "ax2.yaxis.set_major_formatter(plt.NullFormatter())\n",
      "ax2.set_title(\"Y-Z Projection\")\n",
      "ax2.set_xlabel(\"Y(Mpc)\")\n",
      "ax2.set_ylabel(\"Z(Mpc)\")\n",
      "\n",
      "savefig(\"projections.png\", bbox_inches='tight')"
     ],
     "language": "python",
     "metadata": {},
     "outputs": [],
     "prompt_number": 48
    },
    {
     "cell_type": "markdown",
     "metadata": {},
     "source": [
      "#Writting Associations Candidates Data"
     ]
    },
    {
     "cell_type": "code",
     "collapsed": false,
     "input": [
      "data_assoc = loadtxt(\"Associations_candidates.txt\")\n",
      "xa = data_assoc[:,0]\n",
      "ya = data_assoc[:,1]\n",
      "za = data_assoc[:,2]\n",
      "Vxa = data_assoc[:,3]\n",
      "Vya = data_assoc[:,4]\n",
      "Vza = data_assoc[:,5]\n",
      "Ma = data_assoc[:,6]\n",
      "Asso = data_assoc[:,8]\n"
     ],
     "language": "python",
     "metadata": {},
     "outputs": [],
     "prompt_number": 78
    },
    {
     "cell_type": "markdown",
     "metadata": {},
     "source": [
      "# dispersion de velocidades"
     ]
    },
    {
     "cell_type": "code",
     "collapsed": false,
     "input": [
      "f = open(\"Dispersion_Velocity.txt\", \"w\")\n",
      "M = [] \n",
      "for i in range(size(id_groups)):\n",
      "    asso = loadtxt(\"Associations_candidates.txt\")\n",
      "    x_2 = asso[:,0]\n",
      "    y_2 = asso[:,1]\n",
      "    z_2 = asso[:,2]\n",
      "    Vx_2 = asso[:,3]\n",
      "    Vy_2 = asso[:,4] \n",
      "    Vz_2 = asso[:,5] \n",
      "    Ma_2 = asso[:,6]\n",
      "    index = where(asso[:,8]==i+2)\n",
      "    Vx_cm = sum(Vx_2[index]*Ma_2[index])/sum(Ma_2[index])\n",
      "    Vy_cm = sum(Vy_2[index]*Ma_2[index])/sum(Ma_2[index])\n",
      "    Vz_cm = sum(Vz_2[index]*Ma_2[index])/sum(Ma_2[index])\n",
      "    X_cm = sum(x_2[index]*Ma_2[index]/sum(Ma_2[index]))\n",
      "    Y_cm = sum(y_2[index]*Ma_2[index]/sum(Ma_2[index]))\n",
      "    Z_cm = sum(z_2[index]*Ma_2[index]/sum(Ma_2[index]))\n",
      "    x_2[index] = x_2[index] - X_cm \n",
      "    y_2[index] = y_2[index] - Y_cm \n",
      "    z_2[index] = z_2[index] - Z_cm \n",
      "    Vx_2[index] = Vx_2[index] - Vx_cm \n",
      "    Vy_2[index] = Vy_2[index] - Vy_cm \n",
      "    Vz_2[index] = Vz_2[index] - Vz_cm \n",
      "    X2 = sqrt(x_2[index]**2 + y_2[index]**2 + z_2[index]**2)\n",
      "    V2 = sqrt(Vx_2[index]**2 + Vy_2[index]**2 + Vz_2[index]**2)\n",
      "    V2_disp = std(V2)\n",
      "    X2_disp = std(X2)\n",
      "    masa = sum(Ma_2[index])\n",
      "    f.write(\"%f %f %e %d \\n\"%(V2_disp, X2_disp, masa, i+2))\n",
      "f.close()"
     ],
     "language": "python",
     "metadata": {},
     "outputs": [],
     "prompt_number": 152
    },
    {
     "cell_type": "code",
     "collapsed": false,
     "input": [
      "m_d = loadtxt(\"Dispersion_Velocity.txt\")\n",
      "h = 0.73\n",
      "Vdisp = m_d[:,0]\n",
      "Xdisp = m_d[:,1]/h\n",
      "Mass_tot = m_d[:,2]\n",
      "\n",
      "index = where((Vdisp<42) | (Xdisp<0.7) | (Mass_tot < 1e11) )\n",
      "\n",
      "Vdisp_obs = [20, 36, 36, 42, 11, 17, 35, 26, 22, 37]\n",
      "Xdisp_obs = [0.35, 0.28, 0.45, 0.32, 0.3, 0.26, 0.38, 0.31, 0.67, 0.57]\n",
      "\n",
      "scatter(Vdisp_obs, Xdisp_obs, c='r', s=60, marker='*', label=r'$\\rm{Observed\\ Associations}$')\n",
      "scatter(Vdisp[index], Xdisp[index], s=10, c='k', label = r'$\\rm{Clues\\ Associations}$')\n",
      "xlim([0, 45])\n",
      "ylim([0, 1])\n",
      "ylabel(r\"$\\rm{Position\\ Dispersion\\ (Mpc)}$\")\n",
      "xlabel(r\"$\\rm{Velocity\\ Dispersion\\ (km\\ s^{-1})}$\")\n",
      "legend()\n",
      "savefig(\"Dispersion.png\", bbox_inches='tight')"
     ],
     "language": "python",
     "metadata": {},
     "outputs": [],
     "prompt_number": 175
    },
    {
     "cell_type": "code",
     "collapsed": false,
     "input": [
      "scatter(Vdisp[index], Mass_tot[index], c='r', s=60, marker='*', label=r'$\\rm{Observed\\ Associations}$')"
     ],
     "language": "python",
     "metadata": {},
     "outputs": [
      {
       "output_type": "pyout",
       "prompt_number": 165,
       "text": [
        "<matplotlib.collections.PathCollection at 0x12c38590>"
       ]
      }
     ],
     "prompt_number": 165
    },
    {
     "cell_type": "markdown",
     "metadata": {},
     "source": [
      "# Brents larger dispersion of velocities = 42 km/s"
     ]
    },
    {
     "cell_type": "markdown",
     "metadata": {},
     "source": [
      "# To Do:\n",
      "\n",
      "- Associations with less than larger dispersion (Done)\n",
      "- Masses of Associations Plots (Done)\n",
      "- dispersion plots\n",
      "- Number of halos por association (Done)\n",
      "- Halos por Volumen (Done)\n",
      "- ELVIS Analysis (To small for make tha analysis.)\n",
      "- Mass vs Velocity Dispersion"
     ]
    },
    {
     "cell_type": "markdown",
     "metadata": {},
     "source": [
      "# Selecting Associations with less than 42km/s velocity dispersion"
     ]
    },
    {
     "cell_type": "code",
     "collapsed": false,
     "input": [
      "# selecting groups with larger velocity dispersion\n",
      "!awk < Dispersion_Velocity.txt '{if($1>42 || $2>0.7 || $3>1e11) print $1, $2, $4}'"
     ],
     "language": "python",
     "metadata": {},
     "outputs": [
      {
       "output_type": "stream",
       "stream": "stdout",
       "text": [
        "30.654960 0.575026 3\r\n",
        "98.096855 1.410068 14\r\n",
        "25.522565 0.457147 21\r\n",
        "75.606765 0.212036 31\r\n",
        "40.492817 0.573243 33\r\n",
        "46.484477 0.122834 39\r\n",
        "36.992381 0.206275 43\r\n",
        "26.179401 0.425052 64\r\n",
        "23.327630 0.436507 70\r\n",
        "56.699984 0.200496 74\r\n",
        "14.599970 0.475934 75\r\n",
        "48.948301 0.470715 77\r\n",
        "39.515023 0.135798 79\r\n",
        "27.901927 0.195376 80\r\n",
        "29.839138 0.203138 82\r\n",
        "32.008466 0.156964 87\r\n",
        "15.325381 0.254102 95\r\n",
        "24.596178 0.116395 102\r\n",
        "31.400281 0.507210 104\r\n",
        "17.644257 0.156552 107\r\n",
        "nan nan 127\r\n",
        "nan nan 128\r\n"
       ]
      }
     ],
     "prompt_number": 166
    },
    {
     "cell_type": "code",
     "collapsed": false,
     "input": [
      "!awk < Associations_candidates.txt '{if($9!=14 && $9!=79 && $9!=80 && $9!=82 && $9!=87 && $9!=95 && $9!=102 && $9!=104 && $9!=107 && $9!=31 && $9!=39 && $9!=74 && $9!=77 && $9!=1 && $9!=0 && $9!=3 && $9!=21 && $9!=33 && $9!=43 && $9!=64 && $9!=70 && $9!=75) print $1, $2, $3, $4, $5, $6, $7, $8, $9}' > Associations.txt "
     ],
     "language": "python",
     "metadata": {},
     "outputs": [],
     "prompt_number": 167
    },
    {
     "cell_type": "code",
     "collapsed": false,
     "input": [
      "!wc -l Associations.txt"
     ],
     "language": "python",
     "metadata": {},
     "outputs": [
      {
       "output_type": "stream",
       "stream": "stdout",
       "text": [
        "2515 Associations.txt\r\n"
       ]
      }
     ],
     "prompt_number": 106
    },
    {
     "cell_type": "code",
     "collapsed": false,
     "input": [
      "data_associations = loadtxt(\"Associations.txt\")\n",
      "xass = data_associations[:,0]\n",
      "yass = data_associations[:,1]\n",
      "zass = data_associations[:,2]\n"
     ],
     "language": "python",
     "metadata": {},
     "outputs": [],
     "prompt_number": 171
    },
    {
     "cell_type": "markdown",
     "metadata": {},
     "source": [
      "#3d Associations plot"
     ]
    },
    {
     "cell_type": "code",
     "collapsed": false,
     "input": [
      "fig = plt.figure()\n",
      "ax = fig.add_subplot(111, projection='3d', axisbg='gray')\n",
      "ax.scatter(particles[:,0], particles[:,1], particles[:,2], s=0.06, alpha=0.7, c='k', edgecolors='k')\n",
      "ax.scatter(xass, yass, zass, s=0.1, alpha=0.7, c='r', edgecolors='r')\n",
      "ax.set_ylabel(\"(Mpc)\")\n",
      "ax.set_xlabel(\"(Mpc)\")\n",
      "ax.set_zlabel(\"(Mpc)\")"
     ],
     "language": "python",
     "metadata": {},
     "outputs": [
      {
       "output_type": "pyout",
       "prompt_number": 169,
       "text": [
        "<matplotlib.text.Text at 0xb6af390>"
       ]
      }
     ],
     "prompt_number": 169
    },
    {
     "cell_type": "code",
     "collapsed": false,
     "input": [
      "fig = figure(figsize=(15, 5))\n",
      "fig.subplots_adjust(hspace=0.00, wspace=0.13, top=0.98, right=0.95, bottom=0.05)\n",
      "\n",
      "ax = fig.add_subplot(131)\n",
      "ax1 = fig.add_subplot(132)\n",
      "ax2 = fig.add_subplot(133)\n",
      "ax.scatter(particles[:,0], particles[:,1], s=0.06, alpha=0.7, c='k', edgecolors='k')\n",
      "ax.scatter(xass, yass, s=0.1, alpha=0.7, c='r', edgecolors='r')\n",
      "ax1.scatter(particles[:,0], particles[:,2], s=0.06, alpha=0.7, c='k', edgecolors='k')\n",
      "ax1.scatter(xass, zass, s=0.1, alpha=0.7, c='r', edgecolors='r')\n",
      "ax2.scatter(particles[:,1], particles[:,2], s=0.06, alpha=0.7, c='k', edgecolors='k')\n",
      "ax2.scatter(yass, zass, s=0.1, alpha=0.7, c='r', edgecolors='r')\n",
      "\n",
      "\n",
      "ax.set_ylim([20, 45])\n",
      "ax.set_title(\"X-Y Projection\")\n",
      "ax.set_xlabel(\"X(Mpc)\")\n",
      "ax.set_ylabel(\"Y(Mpc)\")\n",
      "\n",
      "ax1.yaxis.set_major_formatter(plt.NullFormatter())\n",
      "ax1.set_title(\"X-Z Projection\")\n",
      "ax1.set_xlabel(\"X(Mpc)\")\n",
      "ax1.set_ylabel(\"Z(Mpc)\")\n",
      "\n",
      "ax2.yaxis.set_major_formatter(plt.NullFormatter())\n",
      "ax2.set_title(\"Y-Z Projection\")\n",
      "ax2.set_xlabel(\"Y(Mpc)\")\n",
      "ax2.set_ylabel(\"Z(Mpc)\")\n",
      "\n",
      "savefig(\"projections.png\", bbox_inches='tight')"
     ],
     "language": "python",
     "metadata": {},
     "outputs": [],
     "prompt_number": 172
    },
    {
     "cell_type": "markdown",
     "metadata": {},
     "source": [
      "#Masses Plot"
     ]
    },
    {
     "cell_type": "code",
     "collapsed": false,
     "input": [
      "Nhalos = []\n",
      "for i in range(128):\n",
      "    md = loadtxt(\"Associations.txt\")\n",
      "    M = md[:,6]\n",
      "    Asso = md[:,8]\n",
      "    index = where(Asso==i+1)\n",
      "    m = M[index]\n",
      "    x = sort(log10(m))\n",
      "    y = linspace(len(x), 1, len(x))\n",
      "    plot(x, log10(y), c='k', linewidth=1.0)\n",
      "    plt.xlabel(r\"$\\rm{Log(M)}$\")\n",
      "    plt.ylabel(r\"$\\rm{Log(N(>M))}$\")\n",
      "    plt.xlim([amin(log10(M)), amax(log10(M))])\n",
      "    Nhalos.append(len(x))\n",
      "savefig(\"Masses.png\", bbox_inches='tight')"
     ],
     "language": "python",
     "metadata": {},
     "outputs": [],
     "prompt_number": 176
    },
    {
     "cell_type": "code",
     "collapsed": false,
     "input": [
      "print mean(Nhalos)"
     ],
     "language": "python",
     "metadata": {},
     "outputs": [
      {
       "output_type": "stream",
       "stream": "stdout",
       "text": [
        "19.6484375\n"
       ]
      }
     ],
     "prompt_number": 119
    },
    {
     "cell_type": "code",
     "collapsed": false,
     "input": [
      "print len(Nhalos)"
     ],
     "language": "python",
     "metadata": {},
     "outputs": [
      {
       "output_type": "stream",
       "stream": "stdout",
       "text": [
        "128\n"
       ]
      }
     ],
     "prompt_number": 120
    },
    {
     "cell_type": "code",
     "collapsed": false,
     "input": [
      "Observational_mean = [4, 6, 7, 4, 5, 3, 3, 4, 4, 1]\n",
      "mean(Observational_mean)"
     ],
     "language": "python",
     "metadata": {},
     "outputs": [
      {
       "output_type": "pyout",
       "prompt_number": 20,
       "text": [
        "4.0999999999999996"
       ]
      }
     ],
     "prompt_number": 20
    },
    {
     "cell_type": "markdown",
     "metadata": {},
     "source": [
      "#Results:\n",
      "\n",
      "| Properties | Observed Associations | CLUES Associations |\n",
      "| ----------| -----------------------| --------------------------------"
     ]
    },
    {
     "cell_type": "code",
     "collapsed": false,
     "input": [
      "(3)**3 * 4*pi / 3.0"
     ],
     "language": "python",
     "metadata": {},
     "outputs": [
      {
       "output_type": "pyout",
       "prompt_number": 71,
       "text": [
        "113.09733552923255"
       ]
      }
     ],
     "prompt_number": 71
    },
    {
     "cell_type": "code",
     "collapsed": false,
     "input": [
      "9/113.0"
     ],
     "language": "python",
     "metadata": {},
     "outputs": [
      {
       "output_type": "pyout",
       "prompt_number": 119,
       "text": [
        "0.07964601769911504"
       ]
      }
     ],
     "prompt_number": 119
    },
    {
     "cell_type": "code",
     "collapsed": false,
     "input": [
      "113/1345.0"
     ],
     "language": "python",
     "metadata": {},
     "outputs": [
      {
       "output_type": "pyout",
       "prompt_number": 54,
       "text": [
        "0.08401486988847584"
       ]
      }
     ],
     "prompt_number": 54
    },
    {
     "cell_type": "markdown",
     "metadata": {},
     "source": [
      "# Brent Volume"
     ]
    },
    {
     "cell_type": "code",
     "collapsed": false,
     "input": [
      "R = 3.2\n",
      "Ri = 1.1\n",
      "Vg = 4/3.0 * pi * (R-Ri)**3 #Volume assuming he observe everything."
     ],
     "language": "python",
     "metadata": {},
     "outputs": [],
     "prompt_number": 128
    },
    {
     "cell_type": "code",
     "collapsed": false,
     "input": [
      "print pi*(3.2**3 - 1.1**3)"
     ],
     "language": "python",
     "metadata": {},
     "outputs": [
      {
       "output_type": "stream",
       "stream": "stdout",
       "text": [
        "98.7622482509\n"
       ]
      }
     ],
     "prompt_number": 58
    },
    {
     "cell_type": "code",
     "collapsed": false,
     "input": [
      "scatter?"
     ],
     "language": "python",
     "metadata": {},
     "outputs": [],
     "prompt_number": 183
    },
    {
     "cell_type": "code",
     "collapsed": false,
     "input": [
      "print 8/98.76"
     ],
     "language": "python",
     "metadata": {},
     "outputs": [
      {
       "output_type": "stream",
       "stream": "stdout",
       "text": [
        "0.081004455245\n"
       ]
      }
     ],
     "prompt_number": 59
    },
    {
     "cell_type": "code",
     "collapsed": false,
     "input": [
      "print 113/(4*pi*(5**3)/3.0)"
     ],
     "language": "python",
     "metadata": {},
     "outputs": [
      {
       "output_type": "stream",
       "stream": "stdout",
       "text": [
        "0.215814102833\n"
       ]
      }
     ],
     "prompt_number": 61
    },
    {
     "cell_type": "code",
     "collapsed": false,
     "input": [
      "4*pi*5**3 / 3."
     ],
     "language": "python",
     "metadata": {},
     "outputs": [
      {
       "output_type": "pyout",
       "prompt_number": 62,
       "text": [
        "523.5987755982989"
       ]
      }
     ],
     "prompt_number": 62
    },
    {
     "cell_type": "code",
     "collapsed": false,
     "input": [
      "scatter?"
     ],
     "language": "python",
     "metadata": {},
     "outputs": [],
     "prompt_number": 130
    },
    {
     "cell_type": "code",
     "collapsed": false,
     "input": [],
     "language": "python",
     "metadata": {},
     "outputs": []
    }
   ],
   "metadata": {}
  }
 ]
}