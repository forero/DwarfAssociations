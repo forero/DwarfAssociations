{
 "metadata": {
  "name": "Associations_u_FOF"
 },
 "nbformat": 3,
 "nbformat_minor": 0,
 "worksheets": [
  {
   "cells": [
    {
     "cell_type": "code",
     "collapsed": false,
     "input": [
      "%pylab \n",
      "from mpl_toolkits.mplot3d import Axes3D"
     ],
     "language": "python",
     "metadata": {},
     "outputs": [
      {
       "output_type": "stream",
       "stream": "stdout",
       "text": [
        "\n",
        "Welcome to pylab, a matplotlib-based Python environment [backend: TkAgg].\n",
        "For more information, type 'help(pylab)'.\n"
       ]
      }
     ],
     "prompt_number": 1
    },
    {
     "cell_type": "markdown",
     "metadata": {},
     "source": [
      "# Brent's mean radius from 2006 paper. Table 1."
     ]
    },
    {
     "cell_type": "code",
     "collapsed": false,
     "input": [
      "radius = loadtxt(\"../../../data/B64_WM5_10909_LG_7Mpc_2048/TullyAssocRadius2006.txt\")\n",
      "R_mean = mean(radius)\n",
      "R_meanh = R_mean/0.73\n",
      "print R_meanh"
     ],
     "language": "python",
     "metadata": {},
     "outputs": [],
     "prompt_number": 54
    },
    {
     "cell_type": "markdown",
     "metadata": {},
     "source": [
      "# Results from the FOF"
     ]
    },
    {
     "cell_type": "code",
     "collapsed": false,
     "input": [
      "fof_groups = loadtxt('fof.grp', skiprows=1)\n",
      "particles = loadtxt('HR-data.txt')\n",
      "X = particles[:,0]\n",
      "Y = particles[:,1]\n",
      "Z = particles[:,2]\n",
      "Vx = particles[:,3]\n",
      "Vy = particles[:,4]\n",
      "Vz = particles[:,5]\n",
      "M = particles[:,6]"
     ],
     "language": "python",
     "metadata": {},
     "outputs": [],
     "prompt_number": 36
    },
    {
     "cell_type": "code",
     "collapsed": false,
     "input": [
      "print fof_groups.size \n",
      "print fof_groups #each entry correesponds to the ID of the fof group\n",
      "id_groups = list(set(fof_groups))\n",
      "print size(id_groups), 'groups'#this is the number of groups found in the FOF"
     ],
     "language": "python",
     "metadata": {},
     "outputs": [
      {
       "output_type": "stream",
       "stream": "stdout",
       "text": [
        "14217\n",
        "[ 1.  1.  1. ...,  1.  0.  1.]\n",
        "24 groups\n"
       ]
      }
     ],
     "prompt_number": 37
    },
    {
     "cell_type": "markdown",
     "metadata": {},
     "source": [
      "# Visualizing Associations Candidates"
     ]
    },
    {
     "cell_type": "code",
     "collapsed": false,
     "input": [
      "fig = plt.figure()\n",
      "ax = fig.add_subplot(111, projection='3d', axisbg='gray')\n",
      "ax.scatter(particles[:,0], particles[:,1], particles[:,2], s=0.06, alpha=0.7, c='r', edgecolors='r')\n",
      "for i in range(22):\n",
      "    index = where(fof_groups==i+2)\n",
      "    association = particles[index]\n",
      "    ax.scatter(association[:,0], association[:,1], association[:,2], c='k', s=1)"
     ],
     "language": "python",
     "metadata": {},
     "outputs": [],
     "prompt_number": 38
    },
    {
     "cell_type": "markdown",
     "metadata": {},
     "source": [
      "#Writting Associations Candidates Data"
     ]
    },
    {
     "cell_type": "code",
     "collapsed": false,
     "input": [
      "data_assoc = loadtxt(\"Associantions-Candidates.txt\")\n",
      "xa = data_assoc[:,0]\n",
      "ya = data_assoc[:,1]\n",
      "za = data_assoc[:,2]\n",
      "Vxa = data_assoc[:,3]\n",
      "Vya = data_assoc[:,4]\n",
      "Vza = data_assoc[:,5]\n",
      "Ma = data_assoc[:,6]\n",
      "Asso = data_assoc[:,8]\n"
     ],
     "language": "python",
     "metadata": {},
     "outputs": [],
     "prompt_number": 39
    },
    {
     "cell_type": "markdown",
     "metadata": {},
     "source": [
      "# dispersion de velocidades"
     ]
    },
    {
     "cell_type": "code",
     "collapsed": false,
     "input": [
      "! awk < Associantions-Candidates.txt '{if($9==2) print $1, $2, $3, $4, $5, $6, $7, $8}' > Association2.txt\n",
      "! awk < Associantions-Candidates.txt '{if($9==3) print $1, $2, $3, $4, $5, $6, $7, $8}' > Association3.txt\n",
      "! awk < Associantions-Candidates.txt '{if($9==4) print $1, $2, $3, $4, $5, $6, $7, $8}' > Association4.txt\n",
      "! awk < Associantions-Candidates.txt '{if($9==5) print $1, $2, $3, $4, $5, $6, $7, $8}' > Association5.txt\n",
      "! awk < Associantions-Candidates.txt '{if($9==6) print $1, $2, $3, $4, $5, $6, $7, $8}' > Association6.txt\n",
      "! awk < Associantions-Candidates.txt '{if($9==7) print $1, $2, $3, $4, $5, $6, $7, $8}' > Association7.txt\n",
      "! awk < Associantions-Candidates.txt '{if($9==8) print $1, $2, $3, $4, $5, $6, $7, $8}' > Association8.txt\n",
      "! awk < Associantions-Candidates.txt '{if($9==9) print $1, $2, $3, $4, $5, $6, $7, $8}' > Association9.txt\n",
      "! awk < Associantions-Candidates.txt '{if($9==10) print $1, $2, $3, $4, $5, $6, $7, $8}' > Association10.txt\n",
      "! awk < Associantions-Candidates.txt '{if($9==11) print $1, $2, $3, $4, $5, $6, $7, $8}' > Association11.txt\n",
      "! awk < Associantions-Candidates.txt '{if($9==12) print $1, $2, $3, $4, $5, $6, $7, $8}' > Association12.txt\n",
      "! awk < Associantions-Candidates.txt '{if($9==13) print $1, $2, $3, $4, $5, $6, $7, $8}' > Association13.txt\n",
      "! awk < Associantions-Candidates.txt '{if($9==14) print $1, $2, $3, $4, $5, $6, $7, $8}' > Association14.txt\n",
      "! awk < Associantions-Candidates.txt '{if($9==15) print $1, $2, $3, $4, $5, $6, $7, $8}' > Association15.txt\n",
      "! awk < Associantions-Candidates.txt '{if($9==16) print $1, $2, $3, $4, $5, $6, $7, $8}' > Association16.txt\n",
      "! awk < Associantions-Candidates.txt '{if($9==17) print $1, $2, $3, $4, $5, $6, $7, $8}' > Association17.txt\n",
      "! awk < Associantions-Candidates.txt '{if($9==18) print $1, $2, $3, $4, $5, $6, $7, $8}' > Association18.txt\n",
      "! awk < Associantions-Candidates.txt '{if($9==19) print $1, $2, $3, $4, $5, $6, $7, $8}' > Association19.txt\n",
      "! awk < Associantions-Candidates.txt '{if($9==20) print $1, $2, $3, $4, $5, $6, $7, $8}' > Association20.txt\n",
      "! awk < Associantions-Candidates.txt '{if($9==21) print $1, $2, $3, $4, $5, $6, $7, $8}' > Association21.txt\n",
      "! awk < Associantions-Candidates.txt '{if($9==22) print $1, $2, $3, $4, $5, $6, $7, $8}' > Association22.txt\n",
      "! awk < Associantions-Candidates.txt '{if($9==23) print $1, $2, $3, $4, $5, $6, $7, $8}' > Association23.txt\n",
      "! awk < Associantions-Candidates.txt '{if($9==24) print $1, $2, $3, $4, $5, $6, $7, $8}' > Association24.txt"
     ],
     "language": "python",
     "metadata": {},
     "outputs": [],
     "prompt_number": 61
    },
    {
     "cell_type": "code",
     "collapsed": false,
     "input": [
      "# Association 2\n",
      "for i in range(22):\n",
      "    asso2 = loadtxt(\"Association\"+str(i+2)+\".txt\")\n",
      "    Vx_2 = asso2[:,3]\n",
      "    Vy_2 = asso2[:,4] \n",
      "    Vz_2 = asso2[:,5] \n",
      "    Ma_2 = asso2[:,6]\n",
      "    V2 = sqrt(Vx_2**2 + Vy_2**2 + Vz_2**2)\n",
      "    Vcm2 = sum(V2*Ma_2)/sum(Ma_2)\n",
      "    print \"Velcoity of the CM of Association\"+ str(i+2) + \"(km/s): \", Vcm2\n",
      "    mu2 = mean(V2)\n",
      "    V2_disp = std(V2)\n",
      "    print \"Velocity dispersion of Association\" + str(i+2), V2_disp\n",
      "\n"
     ],
     "language": "python",
     "metadata": {},
     "outputs": [
      {
       "output_type": "stream",
       "stream": "stdout",
       "text": [
        "Velcoity of the CM of Association2(km/s): "
       ]
      },
      {
       "output_type": "stream",
       "stream": "stdout",
       "text": [
        " 323.958193082\n",
        "Velocity dispersion of Association2 11.3744103999\n",
        "Velcoity of the CM of Association3(km/s):  380.142848175\n",
        "Velocity dispersion of Association3 9.2234848993\n",
        "Velcoity of the CM of Association4(km/s):  391.170463652\n",
        "Velocity dispersion of Association4 9.01632128726\n",
        "Velcoity of the CM of Association5(km/s):  379.495676551\n",
        "Velocity dispersion of Association5 6.75346933544\n",
        "Velcoity of the CM of Association6(km/s):  384.422097907\n",
        "Velocity dispersion of Association6 31.9019075109\n",
        "Velcoity of the CM of Association7(km/s):  384.184713579\n",
        "Velocity dispersion of Association7 14.6844017509\n",
        "Velcoity of the CM of Association8(km/s):  434.775169169\n",
        "Velocity dispersion of Association8 6.17086653937\n",
        "Velcoity of the CM of Association9(km/s):  374.959149525\n",
        "Velocity dispersion of Association9 10.7882478814\n",
        "Velcoity of the CM of Association10(km/s):  324.917516573\n",
        "Velocity dispersion of Association10 8.21638625758\n",
        "Velcoity of the CM of Association11(km/s):  221.673806335\n",
        "Velocity dispersion of Association11 5.51434779089\n",
        "Velcoity of the CM of Association12(km/s):  306.361929246\n",
        "Velocity dispersion of Association12 10.264050005\n",
        "Velcoity of the CM of Association13(km/s):  327.319133675\n",
        "Velocity dispersion of Association13 11.7294080695\n",
        "Velcoity of the CM of Association14(km/s):  278.506637492\n",
        "Velocity dispersion of Association14 12.5627594537\n",
        "Velcoity of the CM of Association15(km/s):  265.251204268\n",
        "Velocity dispersion of Association15 7.06605394558\n",
        "Velcoity of the CM of Association16(km/s):  333.123500596\n",
        "Velocity dispersion of Association16 29.1376587168\n",
        "Velcoity of the CM of Association17(km/s):  468.405299074\n",
        "Velocity dispersion of Association17 28.3679478065\n",
        "Velcoity of the CM of Association18(km/s):  390.423427694\n",
        "Velocity dispersion of Association18 49.7345119203\n",
        "Velcoity of the CM of Association19(km/s):  326.884674706\n",
        "Velocity dispersion of Association19 5.9903646507\n",
        "Velcoity of the CM of Association20(km/s):  305.58702942\n",
        "Velocity dispersion of Association20 5.99053905837\n",
        "Velcoity of the CM of Association21(km/s):  295.573808999\n",
        "Velocity dispersion of Association21 9.13357432358\n",
        "Velcoity of the CM of Association22(km/s):  301.553036076\n",
        "Velocity dispersion of Association22 7.12196522362\n",
        "Velcoity of the CM of Association23(km/s):  259.185218387\n",
        "Velocity dispersion of Association23 6.3791547288\n"
       ]
      }
     ],
     "prompt_number": 70
    },
    {
     "cell_type": "markdown",
     "metadata": {},
     "source": [
      "# Brents larger dispersion of velocities = 42 km/s"
     ]
    },
    {
     "cell_type": "code",
     "collapsed": false,
     "input": [
      "!wc -l Associa* > Nhalos_per_Association1.txt"
     ],
     "language": "python",
     "metadata": {},
     "outputs": [],
     "prompt_number": 85
    },
    {
     "cell_type": "code",
     "collapsed": false,
     "input": [
      "!wc -l Nhalos_per_Association1.txt"
     ],
     "language": "python",
     "metadata": {},
     "outputs": [
      {
       "output_type": "stream",
       "stream": "stdout",
       "text": [
        "26 Nhalos_per_Association1.txt\r\n"
       ]
      }
     ],
     "prompt_number": 86
    },
    {
     "cell_type": "code",
     "collapsed": false,
     "input": [
      "!tail -25 Nhalos_per_Association1.txt > Nhalos_per_Association2.txt"
     ],
     "language": "python",
     "metadata": {},
     "outputs": [],
     "prompt_number": 87
    },
    {
     "cell_type": "code",
     "collapsed": false,
     "input": [
      "!head -23 Nhalos_per_Association2.txt > Nhalos_per_Association3.txt\n",
      "!awk < Nhalos_per_Association3.txt '{print $1}' > Nhalos_per_Association.txt"
     ],
     "language": "python",
     "metadata": {},
     "outputs": [],
     "prompt_number": 102
    },
    {
     "cell_type": "code",
     "collapsed": false,
     "input": [
      "Nhalos = loadtxt(\"Nhalos_per_Association.txt\")\n"
     ],
     "language": "python",
     "metadata": {},
     "outputs": [],
     "prompt_number": 103
    },
    {
     "cell_type": "code",
     "collapsed": false,
     "input": [
      "print mean(Nhalos)"
     ],
     "language": "python",
     "metadata": {},
     "outputs": [
      {
       "output_type": "stream",
       "stream": "stdout",
       "text": [
        "17.1739130435\n"
       ]
      }
     ],
     "prompt_number": 105
    },
    {
     "cell_type": "code",
     "collapsed": false,
     "input": [
      "#Brents Mean "
     ],
     "language": "python",
     "metadata": {},
     "outputs": [],
     "prompt_number": 106
    },
    {
     "cell_type": "code",
     "collapsed": false,
     "input": [
      "Observational_mean = [4, 6, 7, 4, 5, 3, 3, 4, 4, 1]\n",
      "mean(Observational_mean)"
     ],
     "language": "python",
     "metadata": {},
     "outputs": [
      {
       "output_type": "pyout",
       "prompt_number": 107,
       "text": [
        "4.0999999999999996"
       ]
      }
     ],
     "prompt_number": 107
    },
    {
     "cell_type": "code",
     "collapsed": false,
     "input": [],
     "language": "python",
     "metadata": {},
     "outputs": []
    }
   ],
   "metadata": {}
  }
 ]
}