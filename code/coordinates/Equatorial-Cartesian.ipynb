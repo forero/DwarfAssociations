{
 "cells": [
  {
   "cell_type": "code",
   "execution_count": 41,
   "metadata": {
    "collapsed": false
   },
   "outputs": [
    {
     "name": "stdout",
     "output_type": "stream",
     "text": [
      "Populating the interactive namespace from numpy and matplotlib\n"
     ]
    },
    {
     "name": "stderr",
     "output_type": "stream",
     "text": [
      "WARNING: pylab import has clobbered these variables: ['array']\n",
      "`%matplotlib` prevents importing * from pylab and numpy\n"
     ]
    }
   ],
   "source": [
    "from astropy import units as u\n",
    "from astropy.coordinates import SkyCoord\n",
    "from astropy.coordinates import Distance\n",
    "from array import *\n",
    "%pylab inline"
   ]
  },
  {
   "cell_type": "code",
   "execution_count": 4,
   "metadata": {
    "collapsed": false
   },
   "outputs": [],
   "source": [
    "Data = genfromtxt(\"../../data/Associations/T06.csv\", delimiter=\",\", usecols=(1,2,3), unpack=False)\n",
    "AC = Data[:,0]\n",
    "DEC = Data[:,1]\n",
    "d = Data[:,2]"
   ]
  },
  {
   "cell_type": "markdown",
   "metadata": {},
   "source": [
    "## data from table 1 of http://arxiv.org/pdf/astro-ph/0603380v1.pdf"
   ]
  },
  {
   "cell_type": "code",
   "execution_count": 68,
   "metadata": {
    "collapsed": false
   },
   "outputs": [],
   "source": [
    "AC = [\"10 03 06.6\",\n",
    " \"09 59 59.8\",\n",
    " \"10 11 01.3\",\n",
    " \"10 04 03.9\",\n",
    " \"00 15 08.4\",\n",
    " \"00 54 52.6\",\n",
    " \"23 26 22.2\",\n",
    " \"00 15 31.5\",\n",
    " \"00 26 33.3\",\n",
    "\"22 02 41.2\",\n",
    "\"12 15 38.6\",\n",
    " \"12 27 40.9\",\n",
    " \"12 12 09.1\",\n",
    " \"11 50 53.0\",\n",
    " \"11 36 06.2\",\n",
    " \"12 14 57.9\",\n",
    " \"13 30 44.4\",\n",
    " \"14 24 43.4\",\n",
    " \"13 50 50.6\",\n",
    " \"13 39 53.8\",\n",
    " \"13 54 48.7\",\n",
    " \"02 01 17.0\",\n",
    " \"01 49 31.5\",\n",
    " \"01 55 20.3\",\n",
    " \"02 00 10.2\",\n",
    " \"01 07 22.4\",\n",
    " \"03 18 15.4\",\n",
    " \"02 37 48.1\",\n",
    " \"03 21 02.4\",\n",
    " \"02 56 51.2\",\n",
    " \"03 33 09.0\",\n",
    " \"03 20 06.7\",\n",
    " \"07 41 52.0\",\n",
    " \"07 57 02.4\",\n",
    " \"07 42 32.0\",\n",
    " \"07 13 51.6\",\n",
    " \"14 15 56.5\",\n",
    " \"12 58 40.4\",\n",
    " \"13 54 33.6\",\n",
    " \"14 07 10.5\",\n",
    " \"16 13 47.9\"]\n",
    "DEC = [-26.159583,\n",
    " 5.332222,\n",
    " -4.69278,\n",
    "-27.33100,\n",
    " -39.196639,\n",
    " -37.684389,\n",
    "-32.388753,\n",
    " -32.179944,\n",
    "-41.855301,\n",
    " -51.296444 ,\n",
    " 36.326889,\n",
    "43.495556,\n",
    " 36.169196 ,\n",
    "  38.880282,\n",
    " 45.283631,\n",
    " 36.21882,\n",
    "54.910000,\n",
    " 44.525777,\n",
    " 38.019167,\n",
    " 40.739088 ,\n",
    " 35.837417,\n",
    " 28.837250,\n",
    " 32.589722,\n",
    " \"27 57 14\",\n",
    " \"28 49 53\",\n",
    " 16.684569,\n",
    " -66.498250,\n",
    " -61.33669,\n",
    " \"-66 19 09\",\n",
    " -54.57142,\n",
    " -50.414250,\n",
    " -52.185528,\n",
    " 16.802500,\n",
    " 14.390833,\n",
    " \"+16 33 39\",\n",
    " 10.521944 ,\n",
    " 23.055266,\n",
    "  14.217512,\n",
    "  4.24299,\n",
    " \"+35 03 37\",\n",
    " 54.371178]"
   ]
  },
  {
   "cell_type": "code",
   "execution_count": 74,
   "metadata": {
    "collapsed": false
   },
   "outputs": [
    {
     "name": "stdout",
     "output_type": "stream",
     "text": [
      "41\n"
     ]
    }
   ],
   "source": [
    "## associations id\n",
    "a = [0, 0, 0, 0, \n",
    "     1 ,1, 1, 1, 1, 1, \n",
    "     2, 2, 2, 2, 2, 2, 2, \n",
    "     3, 3, 3, 3, \n",
    "     4, 4, 4, 4, 4, \n",
    "     5, 5, 5, \n",
    "     6, 6, 6, \n",
    "     7, 7, 7, 7,\n",
    "     8, 8, 8, 8, \n",
    "     9]\n",
    "print len(a)"
   ]
  },
  {
   "cell_type": "code",
   "execution_count": 71,
   "metadata": {
    "collapsed": false
   },
   "outputs": [
    {
     "name": "stdout",
     "output_type": "stream",
     "text": [
      "<class 'astropy.units.quantity.Quantity'>\n"
     ]
    }
   ],
   "source": [
    "c = SkyCoord(AC, DEC, d*u.mpc, unit=(u.hourangle, u.deg))\n",
    "x  = c.cartesian.x\n",
    "y  = c.cartesian.y\n",
    "z  = c.cartesian.z\n",
    "print type(x)"
   ]
  },
  {
   "cell_type": "markdown",
   "metadata": {},
   "source": [
    "### FOF data header"
   ]
  },
  {
   "cell_type": "code",
   "execution_count": 76,
   "metadata": {
    "collapsed": false
   },
   "outputs": [],
   "source": [
    "f = open(\"associations-XYZ.dat\", \"w\")\n",
    "f.write(\"%d\\n\"%41) #points in total \n",
    "f.write(\"%d\\n\"%41) #points in 'DM'\n",
    "f.write(\"0\\n\") #gas\n",
    "f.write(\"0\\n\") #stars\n",
    "f.write(\"0.01\\n\") # time\n",
    "f.write(\"0\\n\") # nactive\n",
    "for i in range(len(x)):\n",
    "    f.write((\"%f \\t %f \\t %f  \\n\")%(x[i].value, y[i].value, z[i].value))\n",
    "f.close()"
   ]
  },
  {
   "cell_type": "code",
   "execution_count": 77,
   "metadata": {
    "collapsed": false
   },
   "outputs": [],
   "source": [
    "f = open(\"association_id.dat\", \"w\")\n",
    "f.write(\"%d\\n\"%41) #points in total \n",
    "f.write(\"%d\\n\"%41) #points in 'DM'\n",
    "f.write(\"0\\n\") #gas\n",
    "f.write(\"0\\n\") #stars\n",
    "f.write(\"0.01\\n\") # time\n",
    "f.write(\"0\\n\") # nactive\n",
    "for i in range(len(x)):\n",
    "    f.write((\"%f \\n\")%(a[i]))\n",
    "f.close()"
   ]
  },
  {
   "cell_type": "code",
   "execution_count": 8,
   "metadata": {
    "collapsed": false
   },
   "outputs": [
    {
     "name": "stdout",
     "output_type": "stream",
     "text": [
      "41\n"
     ]
    }
   ],
   "source": [
    "print len(DEC)"
   ]
  },
  {
   "cell_type": "code",
   "execution_count": 78,
   "metadata": {
    "collapsed": false
   },
   "outputs": [
    {
     "name": "stdout",
     "output_type": "stream",
     "text": [
      "25\n"
     ]
    }
   ],
   "source": [
    "AC = [\"10 03 06.6\",\n",
    " \"09 59 59.8\",\n",
    " \"10 11 01.3\",\n",
    " \"10 04 03.9\",\n",
    " \"00 15 08.4\",\n",
    " \"00 54 52.6\",\n",
    " \"23 26 22.2\",\n",
    " \"00 15 31.5\",\n",
    " \"00 26 33.3\",\n",
    "\"22 02 41.2\",\n",
    "\"12 15 38.6\",\n",
    " \"12 27 40.9\",\n",
    " \"12 12 09.1\",\n",
    " \"11 50 53.0\",\n",
    " \"11 36 06.2\",\n",
    " \"12 14 57.9\",\n",
    " \"13 30 44.4\",\n",
    " \"14 24 43.4\",\n",
    " \"13 50 50.6\",\n",
    " \"13 39 53.8\",\n",
    " \"13 54 48.7\",\n",
    " \"14 15 56.5\",\n",
    " \"12 58 40.4\",\n",
    " \"13 54 33.6\",\n",
    " \"14 07 10.5\",\n",
    "  ]\n",
    "DEC = [-26.159583,\n",
    " 5.332222,\n",
    " -4.69278,\n",
    "-27.33100,\n",
    " -39.196639,\n",
    " -37.684389,\n",
    "-32.388753,\n",
    " -32.179944,\n",
    "-41.855301,\n",
    " -51.296444 ,\n",
    " 36.326889,\n",
    "43.495556,\n",
    " 36.169196 ,\n",
    "  38.880282,\n",
    " 45.283631,\n",
    " 36.21882,\n",
    "54.910000,\n",
    " 44.525777,\n",
    " 38.019167,\n",
    " 40.739088 ,\n",
    " 35.837417,\n",
    "  23.055266,\n",
    "  14.217512,\n",
    "  4.24299,\n",
    " \"+35 03 37\",\n",
    " ]\n",
    "## associations id\n",
    "a = [0, 0, 0, 0, \n",
    "     1 ,1, 1, 1, 1, 1, \n",
    "     2, 2, 2, 2, 2, 2, 2, \n",
    "     3, 3, 3, 3, \n",
    "     4, 4, 4, 4, \n",
    "     ]\n",
    "print len(a)"
   ]
  },
  {
   "cell_type": "code",
   "execution_count": null,
   "metadata": {
    "collapsed": true
   },
   "outputs": [],
   "source": [
    "f = open(\"associations-XYZ.dat\", \"w\")\n",
    "f.write(\"%d\\n\"%41) #points in total \n",
    "f.write(\"%d\\n\"%41) #points in 'DM'\n",
    "f.write(\"0\\n\") #gas\n",
    "f.write(\"0\\n\") #stars\n",
    "f.write(\"0.01\\n\") # time\n",
    "f.write(\"0\\n\") # nactive\n",
    "for i in range(len(x)):\n",
    "    f.write((\"%f \\t %f \\t %f  \\n\")%(x[i].value, y[i].value, z[i].value))\n",
    "f.close()"
   ]
  }
 ],
 "metadata": {
  "kernelspec": {
   "display_name": "Python 2",
   "language": "python",
   "name": "python2"
  },
  "language_info": {
   "codemirror_mode": {
    "name": "ipython",
    "version": 2
   },
   "file_extension": ".py",
   "mimetype": "text/x-python",
   "name": "python",
   "nbconvert_exporter": "python",
   "pygments_lexer": "ipython2",
   "version": "2.7.8"
  }
 },
 "nbformat": 4,
 "nbformat_minor": 0
}
