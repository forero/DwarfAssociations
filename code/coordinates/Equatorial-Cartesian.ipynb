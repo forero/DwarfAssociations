{
 "cells": [
  {
   "cell_type": "code",
   "execution_count": 5,
   "metadata": {
    "collapsed": false
   },
   "outputs": [
    {
     "name": "stdout",
     "output_type": "stream",
     "text": [
      "Populating the interactive namespace from numpy and matplotlib\n"
     ]
    }
   ],
   "source": [
    "from astropy import units as u\n",
    "from astropy.coordinates import SkyCoord\n",
    "from astropy.coordinates import Distance\n",
    "%pylab inline"
   ]
  },
  {
   "cell_type": "code",
   "execution_count": 90,
   "metadata": {
    "collapsed": false
   },
   "outputs": [],
   "source": [
    "Data = genfromtxt(\"../../data/Associations/T06.csv\", delimiter=\",\", usecols=(1,2,3), unpack=False)\n",
    "AC = Data[:,0]\n",
    "DEC = Data[:,1]\n",
    "d = Data[:,2]"
   ]
  },
  {
   "cell_type": "code",
   "execution_count": 165,
   "metadata": {
    "collapsed": false
   },
   "outputs": [],
   "source": [
    "AC = [\"10 03 06.6\",\n",
    " \"09 59 59.8\",\n",
    " \"10 11 01.3\",\n",
    " \"10 04 03.9\",\n",
    " \"00 15 08.4\",\n",
    " \"00 54 52.6\",\n",
    " \"23 26 22.2\",\n",
    " \"00 15 31.5\",\n",
    " \"00 26 33.3\",\n",
    "\"22 02 41.2\",\n",
    "\"12 15 38.6\",\n",
    " \"12 27 40.9\",\n",
    " \"12 12 09.1\",\n",
    " \"11 50 53.0\",\n",
    " \"11 36 06.2\",\n",
    " \"12 14 57.9\",\n",
    " \"13 30 44.4\",\n",
    " \"14 24 43.4\",\n",
    " \"13 50 50.6\",\n",
    " \"13 39 53.8\",\n",
    " \"13 54 48.7\",\n",
    " \"02 01 17.0\",\n",
    " \"01 49 31.5\",\n",
    " \"01 55 20.3\",\n",
    " \"02 00 10.2\",\n",
    " \"01 07 22.4\",\n",
    " \"03 18 15.4\",\n",
    " \"02 37 48.1\",\n",
    " \"03 21 02.4\",\n",
    " \"02 56 51.2\",\n",
    " \"03 33 09.0\",\n",
    " \"03 20 06.7\",\n",
    " \"07 41 52.0\",\n",
    " \"07 57 02.4\",\n",
    " \"07 42 32.0\",\n",
    " \"07 13 51.6\",\n",
    " \"14 15 56.5\",\n",
    " \"12 58 40.4\",\n",
    " \"13 54 33.6\",\n",
    " \"14 07 10.5\",\n",
    " \"16 13 47.9\"]\n",
    "DEC = [\"-26 09 32\",\n",
    " \"05 19 57\",\n",
    " \"-04 42 48\",\n",
    " \"-27 20 01\",\n",
    " \"-39 13 13\",\n",
    " \"-37 40 57\",\n",
    " \"-32 23 29\",\n",
    " \"-32 10 47\",\n",
    " \"-41 51 19\",\n",
    " \"-51 17 47\",\n",
    " \"36 19 41\",\n",
    " \"43 29 44\",\n",
    " \"36 10 09\",\n",
    " \"38 52 49\",\n",
    " \"45 17 01\",\n",
    " \"36 13 08\",\n",
    " \"54 54 36\",\n",
    " \"+44 31 33\",\n",
    " \"+38 01 09\",\n",
    " \"+40 44 21\",\n",
    " \"+35 50 15\",\n",
    " \"28 50 15\",\n",
    " \"32 35 17\",\n",
    " \"27 57 14\",\n",
    " \"28 49 53\",\n",
    " \"16 41 02\",\n",
    " \"-66 29 51\",\n",
    "\"-61 20 18\",\n",
    " \"-66 19 09\",\n",
    " \"-54 34 23\",\n",
    " \"-50 24 42\",\n",
    " \"-52 11 13\",\n",
    " \"+16 47 54\",\n",
    " \"+14 23 12\",\n",
    " \"+16 33 39\",\n",
    " \"+10 31 19\",\n",
    " \"+23 03 19\",\n",
    " \"+14 13 03\",\n",
    " \"+04 14 35\",\n",
    " \"+35 03 37\",\n",
    " \"+54 22 16\"]"
   ]
  },
  {
   "cell_type": "code",
   "execution_count": 190,
   "metadata": {
    "collapsed": true
   },
   "outputs": [],
   "source": [
    "dEC =\"14 22 16\"\n",
    "AC = \"14 22 16\""
   ]
  },
  {
   "cell_type": "code",
   "execution_count": 191,
   "metadata": {
    "collapsed": false
   },
   "outputs": [
    {
     "ename": "ValueError",
     "evalue": "Latitude angle(s) must be within -90 deg <= angle <= 90 deg, got 215.566666667 deg",
     "output_type": "error",
     "traceback": [
      "\u001b[1;31m---------------------------------------------------------------------------\u001b[0m",
      "\u001b[1;31mValueError\u001b[0m                                Traceback (most recent call last)",
      "\u001b[1;32m<ipython-input-191-b7b46e55a817>\u001b[0m in \u001b[0;36m<module>\u001b[1;34m()\u001b[0m\n\u001b[1;32m----> 1\u001b[1;33m \u001b[0mc\u001b[0m \u001b[1;33m=\u001b[0m \u001b[0mSkyCoord\u001b[0m\u001b[1;33m(\u001b[0m\u001b[0mAC\u001b[0m\u001b[1;33m,\u001b[0m \u001b[0mdEC\u001b[0m\u001b[1;33m,\u001b[0m \u001b[0md\u001b[0m\u001b[1;33m*\u001b[0m\u001b[0mu\u001b[0m\u001b[1;33m.\u001b[0m\u001b[0mmpc\u001b[0m\u001b[1;33m,\u001b[0m \u001b[0munit\u001b[0m\u001b[1;33m=\u001b[0m\u001b[1;33m(\u001b[0m\u001b[0mu\u001b[0m\u001b[1;33m.\u001b[0m\u001b[0mhourangle\u001b[0m\u001b[1;33m)\u001b[0m\u001b[1;33m)\u001b[0m\u001b[1;33m\u001b[0m\u001b[0m\n\u001b[0m\u001b[0;32m      2\u001b[0m \u001b[1;32mprint\u001b[0m \u001b[0mc\u001b[0m\u001b[1;33m.\u001b[0m\u001b[0mra\u001b[0m\u001b[1;33m.\u001b[0m\u001b[0mhms\u001b[0m\u001b[1;33m\u001b[0m\u001b[0m\n\u001b[0;32m      3\u001b[0m \u001b[0mc\u001b[0m\u001b[1;33m.\u001b[0m\u001b[0mcartesian\u001b[0m\u001b[1;33m\u001b[0m\u001b[0m\n",
      "\u001b[1;32m/usr/local/lib/python2.7/dist-packages/astropy/coordinates/sky_coordinate.pyc\u001b[0m in \u001b[0;36m__init__\u001b[1;34m(self, *args, **kwargs)\u001b[0m\n\u001b[0;32m    151\u001b[0m         \u001b[1;31m# creating the internal self._sky_coord_frame object\u001b[0m\u001b[1;33m\u001b[0m\u001b[1;33m\u001b[0m\u001b[0m\n\u001b[0;32m    152\u001b[0m         \u001b[0margs\u001b[0m \u001b[1;33m=\u001b[0m \u001b[0mlist\u001b[0m\u001b[1;33m(\u001b[0m\u001b[0margs\u001b[0m\u001b[1;33m)\u001b[0m  \u001b[1;31m# Make it mutable\u001b[0m\u001b[1;33m\u001b[0m\u001b[0m\n\u001b[1;32m--> 153\u001b[1;33m         \u001b[0mkwargs\u001b[0m \u001b[1;33m=\u001b[0m \u001b[0mself\u001b[0m\u001b[1;33m.\u001b[0m\u001b[0m_parse_inputs\u001b[0m\u001b[1;33m(\u001b[0m\u001b[0margs\u001b[0m\u001b[1;33m,\u001b[0m \u001b[0mkwargs\u001b[0m\u001b[1;33m)\u001b[0m\u001b[1;33m\u001b[0m\u001b[0m\n\u001b[0m\u001b[0;32m    154\u001b[0m \u001b[1;33m\u001b[0m\u001b[0m\n\u001b[0;32m    155\u001b[0m         \u001b[1;31m# Set internal versions of object state attributes\u001b[0m\u001b[1;33m\u001b[0m\u001b[1;33m\u001b[0m\u001b[0m\n",
      "\u001b[1;32m/usr/local/lib/python2.7/dist-packages/astropy/coordinates/sky_coordinate.pyc\u001b[0m in \u001b[0;36m_parse_inputs\u001b[1;34m(self, args, kwargs)\u001b[0m\n\u001b[0;32m    252\u001b[0m                                                                       repr_attr_names, units):\n\u001b[0;32m    253\u001b[0m                     \u001b[0mattr_class\u001b[0m \u001b[1;33m=\u001b[0m \u001b[0mframe\u001b[0m\u001b[1;33m.\u001b[0m\u001b[0mrepresentation\u001b[0m\u001b[1;33m.\u001b[0m\u001b[0mattr_classes\u001b[0m\u001b[1;33m[\u001b[0m\u001b[0mrepr_attr_name\u001b[0m\u001b[1;33m]\u001b[0m\u001b[1;33m\u001b[0m\u001b[0m\n\u001b[1;32m--> 254\u001b[1;33m                     \u001b[0mcoord_kwargs\u001b[0m\u001b[1;33m[\u001b[0m\u001b[0mframe_attr_name\u001b[0m\u001b[1;33m]\u001b[0m \u001b[1;33m=\u001b[0m \u001b[0mattr_class\u001b[0m\u001b[1;33m(\u001b[0m\u001b[0marg\u001b[0m\u001b[1;33m,\u001b[0m \u001b[0munit\u001b[0m\u001b[1;33m=\u001b[0m\u001b[0munit\u001b[0m\u001b[1;33m)\u001b[0m\u001b[1;33m\u001b[0m\u001b[0m\n\u001b[0m\u001b[0;32m    255\u001b[0m \u001b[1;33m\u001b[0m\u001b[0m\n\u001b[0;32m    256\u001b[0m             \u001b[1;32melse\u001b[0m\u001b[1;33m:\u001b[0m\u001b[1;33m\u001b[0m\u001b[0m\n",
      "\u001b[1;32m/usr/local/lib/python2.7/dist-packages/astropy/coordinates/angles.pyc\u001b[0m in \u001b[0;36m__new__\u001b[1;34m(cls, angle, unit, **kwargs)\u001b[0m\n\u001b[0;32m    546\u001b[0m             \u001b[1;32mraise\u001b[0m \u001b[0mTypeError\u001b[0m\u001b[1;33m(\u001b[0m\u001b[1;34m\"A Latitude angle cannot be created from a Longitude angle\"\u001b[0m\u001b[1;33m)\u001b[0m\u001b[1;33m\u001b[0m\u001b[0m\n\u001b[0;32m    547\u001b[0m         \u001b[0mself\u001b[0m \u001b[1;33m=\u001b[0m \u001b[0msuper\u001b[0m\u001b[1;33m(\u001b[0m\u001b[0mLatitude\u001b[0m\u001b[1;33m,\u001b[0m \u001b[0mcls\u001b[0m\u001b[1;33m)\u001b[0m\u001b[1;33m.\u001b[0m\u001b[0m__new__\u001b[0m\u001b[1;33m(\u001b[0m\u001b[0mcls\u001b[0m\u001b[1;33m,\u001b[0m \u001b[0mangle\u001b[0m\u001b[1;33m,\u001b[0m \u001b[0munit\u001b[0m\u001b[1;33m=\u001b[0m\u001b[0munit\u001b[0m\u001b[1;33m,\u001b[0m \u001b[1;33m**\u001b[0m\u001b[0mkwargs\u001b[0m\u001b[1;33m)\u001b[0m\u001b[1;33m\u001b[0m\u001b[0m\n\u001b[1;32m--> 548\u001b[1;33m         \u001b[0mself\u001b[0m\u001b[1;33m.\u001b[0m\u001b[0m_validate_angles\u001b[0m\u001b[1;33m(\u001b[0m\u001b[1;33m)\u001b[0m\u001b[1;33m\u001b[0m\u001b[0m\n\u001b[0m\u001b[0;32m    549\u001b[0m         \u001b[1;32mreturn\u001b[0m \u001b[0mself\u001b[0m\u001b[1;33m\u001b[0m\u001b[0m\n\u001b[0;32m    550\u001b[0m \u001b[1;33m\u001b[0m\u001b[0m\n",
      "\u001b[1;32m/usr/local/lib/python2.7/dist-packages/astropy/coordinates/angles.pyc\u001b[0m in \u001b[0;36m_validate_angles\u001b[1;34m(self, angles)\u001b[0m\n\u001b[0;32m    563\u001b[0m         \u001b[1;32mif\u001b[0m \u001b[0mnp\u001b[0m\u001b[1;33m.\u001b[0m\u001b[0many\u001b[0m\u001b[1;33m(\u001b[0m\u001b[0mangles\u001b[0m\u001b[1;33m.\u001b[0m\u001b[0mvalue\u001b[0m \u001b[1;33m<\u001b[0m \u001b[0mlower\u001b[0m\u001b[1;33m)\u001b[0m \u001b[1;32mor\u001b[0m \u001b[0mnp\u001b[0m\u001b[1;33m.\u001b[0m\u001b[0many\u001b[0m\u001b[1;33m(\u001b[0m\u001b[0mangles\u001b[0m\u001b[1;33m.\u001b[0m\u001b[0mvalue\u001b[0m \u001b[1;33m>\u001b[0m \u001b[0mupper\u001b[0m\u001b[1;33m)\u001b[0m\u001b[1;33m:\u001b[0m\u001b[1;33m\u001b[0m\u001b[0m\n\u001b[0;32m    564\u001b[0m             raise ValueError('Latitude angle(s) must be within -90 deg <= angle <= 90 deg, '\n\u001b[1;32m--> 565\u001b[1;33m                              'got {0}'.format(angles.to(u.degree)))\n\u001b[0m\u001b[0;32m    566\u001b[0m \u001b[1;33m\u001b[0m\u001b[0m\n\u001b[0;32m    567\u001b[0m     \u001b[1;32mdef\u001b[0m \u001b[0m__setitem__\u001b[0m\u001b[1;33m(\u001b[0m\u001b[0mself\u001b[0m\u001b[1;33m,\u001b[0m \u001b[0mitem\u001b[0m\u001b[1;33m,\u001b[0m \u001b[0mvalue\u001b[0m\u001b[1;33m)\u001b[0m\u001b[1;33m:\u001b[0m\u001b[1;33m\u001b[0m\u001b[0m\n",
      "\u001b[1;31mValueError\u001b[0m: Latitude angle(s) must be within -90 deg <= angle <= 90 deg, got 215.566666667 deg"
     ]
    }
   ],
   "source": [
    "c = SkyCoord(AC, dEC, d*u.mpc, unit=(u.hourangle))\n",
    "print c.ra.hms\n",
    "c.cartesian"
   ]
  },
  {
   "cell_type": "code",
   "execution_count": null,
   "metadata": {
    "collapsed": true
   },
   "outputs": [],
   "source": []
  }
 ],
 "metadata": {
  "kernelspec": {
   "display_name": "Python 2",
   "language": "python",
   "name": "python2"
  },
  "language_info": {
   "codemirror_mode": {
    "name": "ipython",
    "version": 2
   },
   "file_extension": ".py",
   "mimetype": "text/x-python",
   "name": "python",
   "nbconvert_exporter": "python",
   "pygments_lexer": "ipython2",
   "version": "2.7.6"
  }
 },
 "nbformat": 4,
 "nbformat_minor": 0
}
