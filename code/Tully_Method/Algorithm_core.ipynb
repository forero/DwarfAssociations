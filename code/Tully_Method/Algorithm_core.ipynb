{
 "metadata": {
  "name": "Algorithm_core"
 },
 "nbformat": 3,
 "nbformat_minor": 0,
 "worksheets": [
  {
   "cells": [
    {
     "cell_type": "code",
     "collapsed": false,
     "input": [
      "%pylab inline"
     ],
     "language": "python",
     "metadata": {},
     "outputs": [
      {
       "output_type": "stream",
       "stream": "stdout",
       "text": [
        "\n",
        "Welcome to pylab, a matplotlib-based Python environment [backend: module://IPython.zmq.pylab.backend_inline].\n",
        "For more information, type 'help(pylab)'.\n"
       ]
      }
     ],
     "prompt_number": 1
    },
    {
     "cell_type": "code",
     "collapsed": false,
     "input": [
      "x = [10.0, 10.0, 12.0, 12.0]\n",
      "y = [10.0, 12.0, 10.0, 12.0]"
     ],
     "language": "python",
     "metadata": {},
     "outputs": [],
     "prompt_number": 80
    },
    {
     "cell_type": "code",
     "collapsed": false,
     "input": [
      "scatter(x, y)"
     ],
     "language": "python",
     "metadata": {},
     "outputs": [
      {
       "output_type": "pyout",
       "prompt_number": 81,
       "text": [
        "<matplotlib.collections.PathCollection at 0x4bc26d0>"
       ]
      },
      {
       "output_type": "display_data",
       "png": "[encoded data removed]"
      }
     ],
     "prompt_number": 81
    },
    {
     "cell_type": "markdown",
     "metadata": {},
     "source": [
      "# Computing distaces, between pairs"
     ]
    },
    {
     "cell_type": "code",
     "collapsed": false,
     "input": [
      "d = []\n",
      "for i in range(len(x)):\n",
      "    for j in range(len(y)):\n",
      "        if (i!=j):\n",
      "            d.append(sqrt((x[i]-x[j])**2 + (y[i]-y[j])**2))\n",
      "            #print \"distancia de: \", i, \"a: \", j, \" = \", d\n",
      "print d"
     ],
     "language": "python",
     "metadata": {},
     "outputs": [
      {
       "output_type": "stream",
       "stream": "stdout",
       "text": [
        "[2.0, 2.0, 2.8284271247461903, 2.0, 2.8284271247461903, 2.0, 2.0, 2.8284271247461903, 2.0, 2.8284271247461903, 2.0, 2.0]\n"
       ]
      }
     ],
     "prompt_number": 82
    },
    {
     "cell_type": "markdown",
     "metadata": {},
     "source": [
      "# Position of the CM:"
     ]
    },
    {
     "cell_type": "code",
     "collapsed": false,
     "input": [
      "N = len(x)\n",
      "for i in range(0,N-2):\n",
      "    r_cm = (0.5*d[i+1]**2) + (0.5*d[i+N]**2) - (0.5*d[i]**2)\n",
      "    print sqrt(r_cm)"
     ],
     "language": "python",
     "metadata": {},
     "outputs": [
      {
       "output_type": "stream",
       "stream": "stdout",
       "text": [
        "2.0\n",
        "2.0\n"
       ]
      }
     ],
     "prompt_number": 83
    },
    {
     "cell_type": "code",
     "collapsed": false,
     "input": [
      "theta = linspace(0, 2*pi, 100)\n",
      "scatter(x, y)\n",
      "plot((sqrt(r_cm)*cos(theta))+x[-2], (sqrt(r_cm)*sin(theta))+y[-2])\n"
     ],
     "language": "python",
     "metadata": {},
     "outputs": [
      {
       "output_type": "pyout",
       "prompt_number": 85,
       "text": [
        "[<matplotlib.lines.Line2D at 0x4e6b290>]"
       ]
      },
      {
       "output_type": "display_data",
       "png": "[encoded data removed]"
      }
     ],
     "prompt_number": 85
    },
    {
     "cell_type": "code",
     "collapsed": false,
     "input": [],
     "language": "python",
     "metadata": {},
     "outputs": []
    }
   ],
   "metadata": {}
  }
 ]
}