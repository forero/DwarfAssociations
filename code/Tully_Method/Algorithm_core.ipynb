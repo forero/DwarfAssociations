{
 "metadata": {
  "name": ""
 },
 "nbformat": 3,
 "nbformat_minor": 0,
 "worksheets": [
  {
   "cells": [
    {
     "cell_type": "markdown",
     "metadata": {},
     "source": [
      "# To Do:\n",
      "\n",
      "- print new file with new particle info"
     ]
    },
    {
     "cell_type": "code",
     "collapsed": false,
     "input": [
      "%pylab inline"
     ],
     "language": "python",
     "metadata": {},
     "outputs": [
      {
       "output_type": "stream",
       "stream": "stdout",
       "text": [
        "Populating the interactive namespace from numpy and matplotlib\n"
       ]
      }
     ],
     "prompt_number": 4
    },
    {
     "cell_type": "markdown",
     "metadata": {},
     "source": [
      "# Generate 3 random halos"
     ]
    },
    {
     "cell_type": "code",
     "collapsed": false,
     "input": [
      "x = [10.0, 10.0,  12.0]\n",
      "y = [10.0, 12.0,  11.0]\n",
      "M = [1.0, 1.0, 1.0]"
     ],
     "language": "python",
     "metadata": {},
     "outputs": [],
     "prompt_number": 5
    },
    {
     "cell_type": "code",
     "collapsed": false,
     "input": [
      "scatter(x, y)"
     ],
     "language": "python",
     "metadata": {},
     "outputs": [
      {
       "metadata": {},
       "output_type": "pyout",
       "prompt_number": 6,
       "text": [
        "<matplotlib.collections.PathCollection at 0x7fefa11b2fd0>"
       ]
      },
      {
       "metadata": {},
       "output_type": "display_data",
       "png": "[encoded data removed]",
       "text": [
        "<matplotlib.figure.Figure at 0x7fefa12d6ad0>"
       ]
      }
     ],
     "prompt_number": 6
    },
    {
     "cell_type": "markdown",
     "metadata": {},
     "source": [
      "#Reading data"
     ]
    },
    {
     "cell_type": "code",
     "collapsed": false,
     "input": [
      "data = np.loadtxt(\"HRbcku.txt\")\n",
      "\n",
      "ID = data[:,0]\n",
      "x = data[:,1]\n",
      "y = data[:,2]\n",
      "z = data[:,3]\n",
      "M = data[:,7]\n",
      "\n"
     ],
     "language": "python",
     "metadata": {},
     "outputs": [],
     "prompt_number": 97
    },
    {
     "cell_type": "markdown",
     "metadata": {},
     "source": [
      "# Computing distaces, between pairs"
     ]
    },
    {
     "cell_type": "code",
     "collapsed": false,
     "input": [
      "def distances(x, y, z):\n",
      "    r = []\n",
      "    for i in range(len(x)):\n",
      "        for j in range(len(y)):\n",
      "             r.append(sqrt((x[i]-x[j])**2 + (y[i]-y[j])**2)+(z[i]-z[j])**2)\n",
      "            #print \"distancia de: \", i, \"a: \", j, \" = \", d\n",
      "    return r"
     ],
     "language": "python",
     "metadata": {},
     "outputs": [],
     "prompt_number": 98
    },
    {
     "cell_type": "code",
     "collapsed": false,
     "input": [
      "#distances(x, y, z)"
     ],
     "language": "python",
     "metadata": {},
     "outputs": [],
     "prompt_number": 99
    },
    {
     "cell_type": "markdown",
     "metadata": {},
     "source": [
      "# Position of the CM:"
     ]
    },
    {
     "cell_type": "markdown",
     "metadata": {},
     "source": [
      "## From Tully et al 1980, Eq(1) \n",
      "$r_{tj}^2 = \\dfrac{M_{p}}{(M_p + M_q)} r_{pj}^2 + \\dfrac{M_{q}}{(M_p + M_q)}r_{qj}^2 -  \\dfrac{M_p M_q}{(M_p + M_q)^2} r_{pq}^2$"
     ]
    },
    {
     "cell_type": "code",
     "collapsed": false,
     "input": [
      "def force(x, y, z, M):\n",
      "    r = distances(x, y, z)\n",
      "    idp = []\n",
      "    idq = []\n",
      "    N = len(x)\n",
      "    R = []\n",
      "    F = []\n",
      "    MT = []\n",
      "    #print M, r\n",
      "    for p in range(N):\n",
      "       for q in range(N):\n",
      "            if p!=q:\n",
      "                for j in range(N):\n",
      "                    if ((j!=p) & (j!=q)):\n",
      "                        Mt = M[p] + M[q]\n",
      "                        r_cm = sqrt( (M[p] / (Mt) * r[j+p*N]**2 )+ (M[q] / (Mt) * r[j + q*N]**2) - (M[p]*M[q] / Mt**2 * r[q+p*N]**2) )\n",
      "                        R.append(r_cm)\n",
      "                        idp.append(p)\n",
      "                        idq.append(q)\n",
      "                        if Mt > M[j]:\n",
      "                            F.append(1/(r_cm**2/Mt))\n",
      "                            MT.append(Mt)\n",
      "                        elif M[j] > Mt:\n",
      "                            F.append(1/(r_cm**2/M[j]))\n",
      "                            MT.append(M[j])\n",
      "    index = np.where(F == min(F))\n",
      "    index =  index[0][1]\n",
      "    \n",
      "    return idp[index], idq[index], MT[index]"
     ],
     "language": "python",
     "metadata": {},
     "outputs": [],
     "prompt_number": 35
    },
    {
     "cell_type": "code",
     "collapsed": false,
     "input": [
      "def new_particle(x, y, z, M, ID):\n",
      "    id_p, id_q, new_M = force(x, y, z, M)\n",
      "    indexp = np.where(ID == id_p)\n",
      "    indexq = np.where(ID == id_q)\n",
      "    xp = x[indexp] \n",
      "    yp = y[indexp] \n",
      "    zp = z[indexp]\n",
      "    xq = x[indexq] \n",
      "    yq = y[indexq] \n",
      "    zq = z[indexq]\n",
      "    IDp = ID[indexp]\n",
      "    IDq = ID[indexq]\n",
      "    Mp = M[indexp]\n",
      "    Mq = M[indexq]\n",
      "    Mpq = Mp + Mq\n",
      "    xt = 1 / Mpq * (Mp*xp + Mq*xq)\n",
      "    yt = 1 / Mpq * (Mp*yp + Mq*yq)\n",
      "    zt = 1 / Mpq * (Mp*zp + Mq*zq)\n",
      "      \n",
      "\n",
      "    print  IDp, id_p, IDq, id_q, xt, yt, zt, xp, yp, zp, xq, yq, zq\n",
      "    "
     ],
     "language": "python",
     "metadata": {},
     "outputs": [],
     "prompt_number": 95
    },
    {
     "cell_type": "code",
     "collapsed": false,
     "input": [
      "new_particle(x, y, z, M, ID)"
     ],
     "language": "python",
     "metadata": {},
     "outputs": [
      {
       "output_type": "stream",
       "stream": "stdout",
       "text": [
        "[97] [ 97.] 97 [ 78.] 78 [ 19.72758235] [ 33.71432866] [ 39.15501297] [ 20.004138] [ 33.574162] [ 38.73277] [ 19.506397] [ 33.826432] [ 39.492717]\n"
       ]
      }
     ],
     "prompt_number": 96
    },
    {
     "cell_type": "markdown",
     "metadata": {},
     "source": [
      "# I need:\n",
      "\n",
      "Mt | ID p1 | ID p2 | x_new | y_new | z_new "
     ]
    },
    {
     "cell_type": "code",
     "collapsed": false,
     "input": [
      "fils = loadtxt(\"HRbcku.txt\")"
     ],
     "language": "python",
     "metadata": {},
     "outputs": [],
     "prompt_number": 105
    },
    {
     "cell_type": "code",
     "collapsed": false,
     "input": [
      "np.delete(0, fils)"
     ],
     "language": "python",
     "metadata": {},
     "outputs": [
      {
       "metadata": {},
       "output_type": "pyout",
       "prompt_number": 108,
       "text": [
        "array([], dtype=int64)"
       ]
      }
     ],
     "prompt_number": 108
    },
    {
     "cell_type": "code",
     "collapsed": false,
     "input": [
      "len(fils)"
     ],
     "language": "python",
     "metadata": {},
     "outputs": [
      {
       "metadata": {},
       "output_type": "pyout",
       "prompt_number": 112,
       "text": [
        "100"
       ]
      }
     ],
     "prompt_number": 112
    },
    {
     "cell_type": "code",
     "collapsed": false,
     "input": [
      "d = np.linspace(0, 10, 10)\n",
      "print d\n",
      "z = np.delete(d, 1)\n",
      "print z"
     ],
     "language": "python",
     "metadata": {},
     "outputs": [
      {
       "output_type": "stream",
       "stream": "stdout",
       "text": [
        "[  0.           1.11111111   2.22222222   3.33333333   4.44444444\n",
        "   5.55555556   6.66666667   7.77777778   8.88888889  10.        ]\n",
        "[  0.           2.22222222   3.33333333   4.44444444   5.55555556\n",
        "   6.66666667   7.77777778   8.88888889  10.        ]\n"
       ]
      }
     ],
     "prompt_number": 137
    },
    {
     "cell_type": "code",
     "collapsed": false,
     "input": [
      "np.delete(fils, 1)"
     ],
     "language": "python",
     "metadata": {},
     "outputs": [
      {
       "metadata": {},
       "output_type": "pyout",
       "prompt_number": 127,
       "text": [
        "array([  0.00000000e+00,   3.35390570e+01,   3.74601220e+01,\n",
        "        -1.67340000e+02,   1.13370000e+02,  -1.17180000e+02,\n",
        "         7.93235000e+12,   4.09970000e+02,   1.00000000e+00,\n",
        "         2.20105610e+01,   3.36348780e+01,   2.99728610e+01,\n",
        "        -1.69670000e+02,   1.94700000e+02,  -2.09300000e+02,\n",
        "         4.82461000e+12,   3.47350000e+02,   2.00000000e+00,\n",
        "         1.99767280e+01,   3.23013500e+01,   2.88391290e+01,\n",
        "        -7.22700000e+01,   2.35100000e+02,  -2.44420000e+02,\n",
        "         4.45399000e+12,   3.38220000e+02,   3.00000000e+00,\n",
        "         2.01756280e+01,   3.07530520e+01,   3.80695500e+01,\n",
        "        -1.27500000e+02,   1.83610000e+02,  -9.53200000e+01,\n",
        "         2.17122000e+12,   2.66180000e+02,   4.00000000e+00,\n",
        "         2.16556780e+01,   3.24508840e+01,   3.32147820e+01,\n",
        "        -1.62710000e+02,   2.62800000e+02,  -2.32160000e+02,\n",
        "         1.59617000e+12,   2.40240000e+02,   5.00000000e+00,\n",
        "         2.18237960e+01,   3.27466900e+01,   3.28392960e+01,\n",
        "        -2.08450000e+02,   2.17250000e+02,  -1.28680000e+02,\n",
        "         1.14401000e+12,   2.14990000e+02,   6.00000000e+00,\n",
        "         1.94190920e+01,   3.08035880e+01,   2.72357440e+01,\n",
        "         1.57490000e+02,   1.83860000e+02,  -2.32790000e+02,\n",
        "         9.68383000e+11,   2.03370000e+02,   7.00000000e+00,\n",
        "         2.09149040e+01,   2.96690570e+01,   3.63265020e+01,\n",
        "        -1.86150000e+02,   2.22110000e+02,  -9.40500000e+01,\n",
        "         9.59134000e+11,   2.02730000e+02,   8.00000000e+00,\n",
        "         1.74734110e+01,   3.42016420e+01,   3.70969470e+01,\n",
        "        -2.75900000e+01,   1.36560000e+02,  -1.01390000e+02,\n",
        "         9.17681000e+11,   1.99760000e+02,   9.00000000e+00,\n",
        "         2.08199650e+01,   2.95079520e+01,   3.02014740e+01,\n",
        "        -1.17530000e+02,   2.67990000e+02,  -1.95330000e+02,\n",
        "         6.73353000e+11,   1.80180000e+02,   1.00000000e+01,\n",
        "         2.12498600e+01,   3.15041230e+01,   3.48093330e+01,\n",
        "        -1.56470000e+02,   2.86750000e+02,  -1.54380000e+02,\n",
        "         5.73303000e+11,   1.70770000e+02,   1.10000000e+01,\n",
        "         2.19261550e+01,   3.32120950e+01,   3.47692850e+01,\n",
        "        -1.77970000e+02,   1.21080000e+02,  -1.39340000e+02,\n",
        "         5.32650000e+11,   1.66640000e+02,   1.20000000e+01,\n",
        "         2.05105930e+01,   2.83954910e+01,   3.09154630e+01,\n",
        "        -3.92900000e+01,   2.61730000e+02,  -1.55800000e+02,\n",
        "         5.27670000e+11,   1.66120000e+02,   1.30000000e+01,\n",
        "         1.84782370e+01,   3.23319150e+01,   2.79378280e+01,\n",
        "         1.37560000e+02,   3.40950000e+02,  -2.34220000e+02,\n",
        "         4.65469000e+11,   1.59310000e+02,   1.40000000e+01,\n",
        "         2.05443290e+01,   3.45355320e+01,   2.78956510e+01,\n",
        "        -4.50700000e+01,   2.07000000e+02,  -2.08750000e+02,\n",
        "         3.85211000e+11,   1.49570000e+02,   1.50000000e+01,\n",
        "         1.71994450e+01,   3.38609070e+01,   2.84659520e+01,\n",
        "         2.59960000e+02,   1.52230000e+02,  -8.58500000e+01,\n",
        "         3.63659000e+11,   1.46730000e+02,   1.60000000e+01,\n",
        "         2.04098880e+01,   3.19799860e+01,   3.26293510e+01,\n",
        "         4.43000000e+00,   2.05950000e+02,  -1.96250000e+02,\n",
        "         3.42218000e+11,   1.43790000e+02,   1.70000000e+01,\n",
        "         2.08160280e+01,   3.22421340e+01,   3.50477750e+01,\n",
        "         1.15000000e+00,   1.93500000e+02,  -1.09000000e+02,\n",
        "         2.78174000e+11,   1.34190000e+02,   1.80000000e+01,\n",
        "         2.12120060e+01,   2.82459960e+01,   3.29816570e+01,\n",
        "        -1.27700000e+02,   2.10500000e+02,  -1.44160000e+02,\n",
        "         2.77805000e+11,   1.34130000e+02,   1.90000000e+01,\n",
        "         2.43761960e+01,   3.48780320e+01,   3.34866700e+01,\n",
        "        -2.23830000e+02,   1.66670000e+02,  -2.10950000e+02,\n",
        "         2.69432000e+11,   1.32780000e+02,   2.00000000e+01,\n",
        "         2.10300220e+01,   2.96668940e+01,   2.92753600e+01,\n",
        "        -1.56700000e+02,   3.02630000e+02,  -1.65400000e+02,\n",
        "         2.52269000e+11,   1.29890000e+02,   2.10000000e+01,\n",
        "         2.06345520e+01,   3.01220580e+01,   2.96405770e+01,\n",
        "        -7.84200000e+01,   2.89670000e+02,  -1.90080000e+02,\n",
        "         2.44489000e+11,   1.28540000e+02,   2.20000000e+01,\n",
        "         1.67833760e+01,   3.32861370e+01,   3.49430860e+01,\n",
        "        -1.65600000e+01,   2.06470000e+02,  -1.06630000e+02,\n",
        "         2.34141000e+11,   1.26700000e+02,   2.30000000e+01,\n",
        "         2.13998590e+01,   2.78643280e+01,   3.12657820e+01,\n",
        "        -1.55520000e+02,   3.01330000e+02,  -1.44500000e+02,\n",
        "         2.24395000e+11,   1.24920000e+02,   2.40000000e+01,\n",
        "         1.90169860e+01,   3.13856940e+01,   2.75019130e+01,\n",
        "         1.05180000e+02,   1.76590000e+02,  -1.47930000e+02,\n",
        "         2.24327000e+11,   1.24910000e+02,   2.50000000e+01,\n",
        "         1.85836400e+01,   3.29944200e+01,   2.77631970e+01,\n",
        "         7.65900000e+01,   2.38080000e+02,  -8.13300000e+01,\n",
        "         2.17116000e+11,   1.23550000e+02,   2.60000000e+01,\n",
        "         2.15902920e+01,   3.40563540e+01,   3.73467160e+01,\n",
        "        -4.03600000e+02,  -1.74500000e+01,  -1.88750000e+02,\n",
        "         2.07198000e+11,   1.21640000e+02,   2.70000000e+01,\n",
        "         2.10354880e+01,   3.28822000e+01,   3.69855050e+01,\n",
        "        -1.19590000e+02,   3.11040000e+02,  -6.72000000e+00,\n",
        "         1.99709000e+11,   1.20160000e+02,   2.80000000e+01,\n",
        "         1.77669180e+01,   3.36844420e+01,   2.96596660e+01,\n",
        "        -1.20900000e+01,   2.19080000e+02,  -3.11440000e+02,\n",
        "         1.84906000e+11,   1.17110000e+02,   2.90000000e+01,\n",
        "         2.11428940e+01,   2.88339100e+01,   3.05025020e+01,\n",
        "        -1.91370000e+02,   3.04460000e+02,  -1.59430000e+02,\n",
        "         1.83852000e+11,   1.16890000e+02,   3.00000000e+01,\n",
        "         2.07781580e+01,   3.31197820e+01,   3.79578660e+01,\n",
        "         9.19700000e+01,   2.98440000e+02,  -1.65370000e+02,\n",
        "         1.82066000e+11,   1.16510000e+02,   3.10000000e+01,\n",
        "         1.67689690e+01,   3.33010030e+01,   2.82954250e+01,\n",
        "         1.52840000e+02,   5.72320000e+02,  -3.81680000e+02,\n",
        "         1.75697000e+11,   1.15130000e+02,   3.20000000e+01,\n",
        "         1.73949290e+01,   3.36691340e+01,   3.10485380e+01,\n",
        "         1.93000000e+00,   2.38520000e+02,  -2.47980000e+02,\n",
        "         1.71415000e+11,   1.14190000e+02,   3.30000000e+01,\n",
        "         2.35739290e+01,   2.86935290e+01,   2.99919130e+01,\n",
        "        -1.80260000e+02,   2.38880000e+02,  -2.07590000e+02,\n",
        "         1.70801000e+11,   1.14060000e+02,   3.40000000e+01,\n",
        "         1.84385380e+01,   2.99382010e+01,   2.99586880e+01,\n",
        "         7.94400000e+01,   3.15990000e+02,  -1.93630000e+02,\n",
        "         1.70096000e+11,   1.13900000e+02,   3.50000000e+01,\n",
        "         1.83918860e+01,   3.27530430e+01,   2.77016350e+01,\n",
        "         7.52500000e+01,   2.64210000e+02,   4.96000000e+00,\n",
        "         1.66708000e+11,   1.13140000e+02,   3.60000000e+01,\n",
        "         2.33254880e+01,   3.41450710e+01,   3.10809330e+01,\n",
        "        -2.57500000e+02,   1.92850000e+02,  -2.65670000e+02,\n",
        "         1.50697000e+11,   1.09390000e+02,   3.70000000e+01,\n",
        "         2.11818850e+01,   3.37956560e+01,   3.73846690e+01,\n",
        "        -2.87250000e+02,   3.73500000e+02,  -1.53140000e+02,\n",
        "         1.50480000e+11,   1.09370000e+02,   3.80000000e+01,\n",
        "         1.71396840e+01,   3.37154150e+01,   3.30734110e+01,\n",
        "        -6.42000000e+00,   2.23580000e+02,  -1.93720000e+02,\n",
        "         1.49844000e+11,   1.09190000e+02,   3.90000000e+01,\n",
        "         1.89082100e+01,   3.20992040e+01,   2.77431520e+01,\n",
        "        -2.53200000e+01,   1.26230000e+02,  -1.76640000e+02,\n",
        "         1.43674000e+11,   1.07670000e+02,   4.00000000e+01,\n",
        "         2.14225670e+01,   3.35925870e+01,   3.75331540e+01,\n",
        "         8.93700000e+01,  -7.25100000e+01,  -2.01490000e+02,\n",
        "         1.42395000e+11,   1.07350000e+02,   4.10000000e+01,\n",
        "         1.89753670e+01,   2.93087620e+01,   3.53358250e+01,\n",
        "        -1.67800000e+01,   1.99120000e+02,  -6.46700000e+01,\n",
        "         1.39905000e+11,   1.06720000e+02,   4.20000000e+01,\n",
        "         1.78739530e+01,   3.27824370e+01,   2.77108220e+01,\n",
        "         4.68600000e+01,   2.25750000e+02,  -1.50940000e+02,\n",
        "         1.36471000e+11,   1.05840000e+02,   4.30000000e+01,\n",
        "         2.09250220e+01,   3.30823180e+01,   3.78158790e+01,\n",
        "         1.21470000e+02,   2.71270000e+02,  -4.33700000e+01,\n",
        "         1.32059000e+11,   1.03840000e+02,   4.40000000e+01,\n",
        "         2.06031640e+01,   3.19145860e+01,   3.79275640e+01,\n",
        "        -9.54500000e+01,   1.90810000e+02,  -1.66510000e+02,\n",
        "         1.28134000e+11,   1.03630000e+02,   4.50000000e+01,\n",
        "         2.32759550e+01,   3.42849450e+01,   3.59643530e+01,\n",
        "        -2.78090000e+02,   1.81400000e+02,  -1.70130000e+02,\n",
        "         1.22788000e+11,   1.02180000e+02,   4.60000000e+01,\n",
        "         2.04043410e+01,   3.19270380e+01,   3.17307050e+01,\n",
        "        -2.61000000e+00,   2.52140000e+02,  -2.15060000e+02,\n",
        "         1.21744000e+11,   1.01880000e+02,   4.70000000e+01,\n",
        "         2.29489480e+01,   3.43375620e+01,   3.29335770e+01,\n",
        "        -1.85980000e+02,   1.03620000e+02,  -2.15800000e+02,\n",
        "         1.15512000e+11,   1.00120000e+02,   4.80000000e+01,\n",
        "         2.15526270e+01,   3.01491190e+01,   3.41753210e+01,\n",
        "        -1.24920000e+02,   2.55180000e+02,  -1.18710000e+02,\n",
        "         1.15294000e+11,   1.00050000e+02,   4.90000000e+01,\n",
        "         1.99230590e+01,   2.68121990e+01,   3.19690370e+01,\n",
        "         3.61800000e+01,   3.04580000e+02,  -1.27000000e+01,\n",
        "         1.11613000e+11,   2.19500000e+01,   5.00000000e+01,\n",
        "         1.69232490e+01,   3.33267590e+01,   3.60573950e+01,\n",
        "        -2.50000000e+01,   2.03070000e+02,  -9.33200000e+01,\n",
        "         1.07090000e+11,   9.76200000e+01,   5.10000000e+01,\n",
        "         1.99490330e+01,   3.34839290e+01,   3.89359440e+01,\n",
        "        -4.37200000e+01,   2.17370000e+02,  -1.63430000e+02,\n",
        "         1.06201000e+11,   9.73500000e+01,   5.20000000e+01,\n",
        "         1.54687650e+01,   3.12646450e+01,   3.15478140e+01,\n",
        "         5.34900000e+01,   3.08930000e+02,  -1.46670000e+02,\n",
        "         1.03994000e+11,   9.66700000e+01,   5.30000000e+01,\n",
        "         1.77461570e+01,   3.37720100e+01,   2.94568790e+01,\n",
        "        -2.46300000e+01,   1.43330000e+02,  -2.63090000e+02,\n",
        "         1.02696000e+11,   9.62700000e+01,   5.40000000e+01,\n",
        "         2.18731560e+01,   3.26902020e+01,   3.21312520e+01,\n",
        "        -2.16400000e+02,   2.22860000e+02,  -1.09580000e+02,\n",
        "         1.01553000e+11,   9.59100000e+01,   5.50000000e+01,\n",
        "         2.17294850e+01,   3.27195340e+01,   3.22962090e+01,\n",
        "        -2.22810000e+02,   1.01900000e+02,  -1.64840000e+02,\n",
        "         1.01120000e+11,   9.57700000e+01,   5.60000000e+01,\n",
        "         1.71239380e+01,   3.21753100e+01,   2.93936280e+01,\n",
        "         6.08800000e+01,   3.30470000e+02,  -2.95470000e+02,\n",
        "         9.88373000e+10,   9.50400000e+01,   5.70000000e+01,\n",
        "         2.02857150e+01,   3.16900830e+01,   3.78257040e+01,\n",
        "        -1.80820000e+02,   2.18860000e+02,  -3.68100000e+01,\n",
        "         9.64411000e+10,   9.42700000e+01,   5.80000000e+01,\n",
        "         2.12463490e+01,   3.35137980e+01,   3.76356200e+01,\n",
        "         2.57900000e+01,   4.08490000e+02,  -4.48380000e+02,\n",
        "         9.60582000e+10,   9.41500000e+01,   5.90000000e+01,\n",
        "         2.02781040e+01,   3.06608000e+01,   2.68757630e+01,\n",
        "         8.29000000e+00,   3.06340000e+02,  -1.04710000e+02,\n",
        "         9.55738000e+10,   9.39900000e+01,   6.00000000e+01,\n",
        "         1.63683250e+01,   3.01413110e+01,   3.10446430e+01,\n",
        "         8.31000000e+01,   3.32630000e+02,  -1.04900000e+02,\n",
        "         9.46356000e+10,   9.36800000e+01,   6.10000000e+01,\n",
        "         2.16262110e+01,   3.44560550e+01,   3.75514620e+01,\n",
        "        -3.39720000e+02,  -8.30000000e-01,  -1.07140000e+02,\n",
        "         9.41252000e+10,   9.35100000e+01,   6.20000000e+01,\n",
        "         1.96143410e+01,   2.74358080e+01,   3.06500190e+01,\n",
        "         4.30500000e+01,   3.17730000e+02,  -6.73000000e+01,\n",
        "         9.40165000e+10,   9.34800000e+01,   6.30000000e+01,\n",
        "         1.89490200e+01,   3.17916900e+01,   2.78645530e+01,\n",
        "         2.34200000e+01,   2.43430000e+02,  -1.35840000e+02,\n",
        "         9.09585000e+10,   9.24500000e+01,   6.40000000e+01,\n",
        "         2.10661010e+01,   3.29218970e+01,   3.76629850e+01,\n",
        "        -4.88200000e+01,   3.90730000e+02,  -1.00990000e+02,\n",
        "         9.06253000e+10,   9.23400000e+01,   6.50000000e+01,\n",
        "         2.03019930e+01,   3.19228430e+01,   3.10640840e+01,\n",
        "        -4.53000000e+00,   2.75790000e+02,  -2.43080000e+02,\n",
        "         8.93043000e+10,   9.18800000e+01,   6.60000000e+01,\n",
        "         2.05151770e+01,   3.07463320e+01,   3.81416350e+01,\n",
        "        -1.61990000e+02,   1.08510000e+02,  -2.81620000e+02,\n",
        "         8.87820000e+10,   9.17200000e+01,   6.70000000e+01,\n",
        "         1.79831820e+01,   3.20915740e+01,   2.82301910e+01,\n",
        "         8.89300000e+01,   3.79650000e+02,  -3.16180000e+02,\n",
        "         8.83803000e+10,   9.15700000e+01,   6.80000000e+01,\n",
        "         2.08586040e+01,   3.44807380e+01,   2.84340840e+01,\n",
        "        -1.29150000e+02,   1.87130000e+02,  -2.18410000e+02,\n",
        "         8.76217000e+10,   9.13200000e+01,   6.90000000e+01,\n",
        "         2.18742510e+01,   3.43454510e+01,   3.75926890e+01,\n",
        "        -2.58490000e+02,   2.98000000e+00,  -2.93620000e+02,\n",
        "         8.55634000e+10,   9.05800000e+01,   7.00000000e+01,\n",
        "         1.76645400e+01,   3.25391220e+01,   2.81257020e+01,\n",
        "         1.00000000e+01,   2.60410000e+02,  -2.63430000e+02,\n",
        "         8.54192000e+10,   9.05300000e+01,   7.10000000e+01,\n",
        "         1.86568390e+01,   2.88010250e+01,   3.68021670e+01,\n",
        "        -3.21200000e+01,   1.90740000e+02,  -5.47100000e+01,\n",
        "         8.38926000e+10,   9.00000000e+01,   7.20000000e+01,\n",
        "         2.22445960e+01,   3.27876920e+01,   3.16559680e+01,\n",
        "        -2.17130000e+02,   1.11850000e+02,  -2.15690000e+02,\n",
        "         8.09576000e+10,   8.89300000e+01,   7.30000000e+01,\n",
        "         2.14358200e+01,   3.19043070e+01,   3.43102410e+01,\n",
        "        -1.52760000e+02,   2.17170000e+02,  -1.87700000e+02,\n",
        "         8.00927000e+10,   8.86100000e+01,   7.40000000e+01,\n",
        "         2.57163290e+01,   3.49240380e+01,   3.21327690e+01,\n",
        "        -1.84100000e+02,   1.98130000e+02,  -2.39780000e+02,\n",
        "         7.99414000e+10,   8.85700000e+01,   7.50000000e+01,\n",
        "         2.18076320e+01,   2.75578800e+01,   3.46743110e+01,\n",
        "        -2.38830000e+02,   2.12890000e+02,  -1.15900000e+02,\n",
        "         7.88709000e+10,   8.81600000e+01,   7.60000000e+01,\n",
        "         2.11615420e+01,   2.90615390e+01,   3.83156200e+01,\n",
        "        -2.82070000e+02,   1.77820000e+02,  -1.02230000e+02,\n",
        "         7.72285000e+10,   8.75400000e+01,   7.70000000e+01,\n",
        "         2.09351620e+01,   2.92951890e+01,   3.04281360e+01,\n",
        "        -1.72800000e+02,   3.06380000e+02,  -2.71690000e+02,\n",
        "         7.52458000e+10,   8.67900000e+01,   7.80000000e+01,\n",
        "         1.95063970e+01,   3.38264320e+01,   3.94927170e+01,\n",
        "        -1.36690000e+02,   1.42500000e+01,  -1.71720000e+02,\n",
        "         7.50567000e+10,   8.67200000e+01,   7.90000000e+01,\n",
        "         1.69146430e+01,   3.29858370e+01,   2.80994220e+01,\n",
        "        -2.74800000e+01,   4.38550000e+02,  -2.16330000e+02,\n",
        "         7.43336000e+10,   8.64400000e+01,   8.00000000e+01,\n",
        "         2.02414690e+01,   3.05219820e+01,   2.67609300e+01,\n",
        "        -5.88300000e+01,   1.37500000e+01,  -4.08110000e+02,\n",
        "         7.33340000e+10,   8.60500000e+01,   8.10000000e+01,\n",
        "         2.17731370e+01,   3.19452750e+01,   3.48875760e+01,\n",
        "        -1.00330000e+02,   2.05730000e+02,  -1.71390000e+02,\n",
        "         7.23533000e+10,   8.56600000e+01,   8.20000000e+01,\n",
        "         2.13606570e+01,   3.33086260e+01,   3.62218930e+01,\n",
        "        -2.01770000e+02,   1.38980000e+02,  -7.07000000e+00,\n",
        "         7.09212000e+10,   8.50900000e+01,   8.30000000e+01,\n",
        "         1.88013200e+01,   3.20533890e+01,   2.77570810e+01,\n",
        "         1.36050000e+02,   3.75890000e+02,  -2.29860000e+02,\n",
        "         7.07652000e+10,   5.85600000e+01,   8.40000000e+01,\n",
        "         2.22148260e+01,   3.29680880e+01,   3.42724930e+01,\n",
        "        -2.03230000e+02,   1.27770000e+02,  -1.28650000e+02,\n",
        "         7.03918000e+10,   8.48900000e+01,   8.50000000e+01,\n",
        "         2.12220560e+01,   3.26244390e+01,   3.69068240e+01,\n",
        "        -1.54430000e+02,   3.23720000e+02,   2.65400000e+01,\n",
        "         7.02335000e+10,   8.48200000e+01,   8.60000000e+01,\n",
        "         1.73554160e+01,   3.36756770e+01,   3.72053810e+01,\n",
        "        -1.61500000e+01,   2.32320000e+02,  -9.33700000e+01,\n",
        "         6.98814000e+10,   8.46700000e+01,   8.70000000e+01,\n",
        "         1.60876010e+01,   3.16611470e+01,   3.08173750e+01,\n",
        "         9.88600000e+01,   3.39090000e+02,  -1.50580000e+02,\n",
        "         6.87163000e+10,   8.42000000e+01,   8.80000000e+01,\n",
        "         1.75183970e+01,   3.19217830e+01,   2.92278920e+01,\n",
        "         6.30900000e+01,   3.50030000e+02,  -2.75490000e+02,\n",
        "         6.80546000e+10,   8.39300000e+01,   8.90000000e+01,\n",
        "         1.79759210e+01,   3.28857550e+01,   2.81838520e+01,\n",
        "         2.07840000e+02,   4.29540000e+02,  -4.24000000e+00,\n",
        "         6.76316000e+10,   8.37500000e+01,   9.00000000e+01,\n",
        "         2.10686190e+01,   2.71595640e+01,   3.46589980e+01,\n",
        "        -1.74130000e+02,   1.82500000e+02,  -1.16890000e+02,\n",
        "         6.63933000e+10,   8.32500000e+01,   9.10000000e+01,\n",
        "         1.71684050e+01,   3.37588310e+01,   3.28525380e+01,\n",
        "        -3.50800000e+01,   1.81670000e+02,  -1.61740000e+02,\n",
        "         6.38080000e+10,   8.21600000e+01,   9.20000000e+01,\n",
        "         1.83977390e+01,   3.31447770e+01,   2.86148180e+01,\n",
        "        -2.06900000e+01,   1.73360000e+02,  -3.04760000e+02,\n",
        "         6.30542000e+10,   8.18300000e+01,   9.30000000e+01,\n",
        "         2.23051890e+01,   3.46282190e+01,   3.80855410e+01,\n",
        "        -2.69390000e+02,   4.45100000e+01,  -2.48690000e+02,\n",
        "         6.19529000e+10,   8.13400000e+01,   9.40000000e+01,\n",
        "         2.23351520e+01,   3.45299970e+01,   3.77936270e+01,\n",
        "        -3.29310000e+02,   5.30800000e+01,  -1.78410000e+02,\n",
        "         6.17048000e+10,   8.12600000e+01,   9.50000000e+01,\n",
        "         2.03206570e+01,   2.88812280e+01,   3.80821420e+01,\n",
        "        -2.35070000e+02,   2.24590000e+02,  -6.46200000e+01,\n",
        "         6.06910000e+10,   8.07800000e+01,   9.60000000e+01,\n",
        "         2.38375360e+01,   3.46444740e+01,   3.39675120e+01,\n",
        "        -2.06290000e+02,   1.53990000e+02,  -2.10460000e+02,\n",
        "         6.01806000e+10,   8.05800000e+01,   9.70000000e+01,\n",
        "         2.00041380e+01,   3.35741620e+01,   3.87327700e+01,\n",
        "        -7.87700000e+01,   9.84900000e+01,  -4.94900000e+01,\n",
        "         6.00293000e+10,   8.04900000e+01,   9.80000000e+01,\n",
        "         1.71872900e+01,   3.66939810e+01,   3.51141570e+01,\n",
        "        -5.49300000e+01,   1.90050000e+02,  -1.67330000e+02,\n",
        "         5.99466000e+10,   8.04500000e+01,   9.90000000e+01,\n",
        "         2.13157670e+01,   2.81051600e+01,   3.50529790e+01,\n",
        "        -2.29440000e+02,   2.26760000e+02,  -1.11550000e+02,\n",
        "         5.97056000e+10,   8.03500000e+01])"
       ]
      }
     ],
     "prompt_number": 127
    },
    {
     "cell_type": "code",
     "collapsed": false,
     "input": [],
     "language": "python",
     "metadata": {},
     "outputs": []
    }
   ],
   "metadata": {}
  }
 ]
}