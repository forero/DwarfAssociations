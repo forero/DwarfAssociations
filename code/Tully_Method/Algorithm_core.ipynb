{
 "metadata": {
  "name": ""
 },
 "nbformat": 3,
 "nbformat_minor": 0,
 "worksheets": [
  {
   "cells": [
    {
     "cell_type": "markdown",
     "metadata": {},
     "source": [
      "# To Do:\n",
      "\n",
      "- implment in Python"
     ]
    },
    {
     "cell_type": "code",
     "collapsed": false,
     "input": [
      "%pylab inline"
     ],
     "language": "python",
     "metadata": {},
     "outputs": [
      {
       "output_type": "stream",
       "stream": "stdout",
       "text": [
        "Populating the interactive namespace from numpy and matplotlib\n"
       ]
      }
     ],
     "prompt_number": 1
    },
    {
     "cell_type": "markdown",
     "metadata": {},
     "source": [
      "# Generate 3 random halos"
     ]
    },
    {
     "cell_type": "code",
     "collapsed": false,
     "input": [
      "x = [10.0, 10.0,  12.0]\n",
      "y = [10.0, 12.0,  11.0]\n",
      "M = [1.0, 1.0, 1.0]"
     ],
     "language": "python",
     "metadata": {},
     "outputs": [],
     "prompt_number": 2
    },
    {
     "cell_type": "code",
     "collapsed": false,
     "input": [
      "scatter(x, y)"
     ],
     "language": "python",
     "metadata": {},
     "outputs": [
      {
       "metadata": {},
       "output_type": "pyout",
       "prompt_number": 3,
       "text": [
        "<matplotlib.collections.PathCollection at 0x7f6bc8707f90>"
       ]
      },
      {
       "metadata": {},
       "output_type": "display_data",
       "png": "[encoded data removed]",
       "text": [
        "<matplotlib.figure.Figure at 0x7f6bc886abd0>"
       ]
      }
     ],
     "prompt_number": 3
    },
    {
     "cell_type": "markdown",
     "metadata": {},
     "source": [
      "#Reading data"
     ]
    },
    {
     "cell_type": "code",
     "collapsed": false,
     "input": [
      "data = np.loadtxt(\"HRbcku.txt\")\n",
      "\n",
      "ID = data[:,0]\n",
      "x = data[:,1]\n",
      "y = data[:,2]\n",
      "z = data[:,3]\n",
      "M = data[:,7]\n",
      "\n"
     ],
     "language": "python",
     "metadata": {},
     "outputs": [],
     "prompt_number": 91
    },
    {
     "cell_type": "markdown",
     "metadata": {},
     "source": [
      "# Computing distaces, between pairs"
     ]
    },
    {
     "cell_type": "code",
     "collapsed": false,
     "input": [
      "def distances(x, y, z):\n",
      "    r = []\n",
      "    for i in range(len(x)):\n",
      "        for j in range(len(y)):\n",
      "             r.append(sqrt((x[i]-x[j])**2 + (y[i]-y[j])**2)+(z[i]-z[j])**2)\n",
      "            #print \"distancia de: \", i, \"a: \", j, \" = \", d\n",
      "    return r"
     ],
     "language": "python",
     "metadata": {},
     "outputs": [],
     "prompt_number": 92
    },
    {
     "cell_type": "code",
     "collapsed": false,
     "input": [
      "#distances(x, y, z)"
     ],
     "language": "python",
     "metadata": {},
     "outputs": [],
     "prompt_number": 93
    },
    {
     "cell_type": "markdown",
     "metadata": {},
     "source": [
      "# Position of the CM:"
     ]
    },
    {
     "cell_type": "markdown",
     "metadata": {},
     "source": [
      "## From Tully et al 1980, Eq(1) \n",
      "$r_{tj}^2 = \\dfrac{M_{p}}{(M_p + M_q)} r_{pj}^2 + \\dfrac{M_{q}}{(M_p + M_q)}r_{qj}^2 -  \\dfrac{M_p M_q}{(M_p + M_q)^2} r_{pq}^2$"
     ]
    },
    {
     "cell_type": "code",
     "collapsed": false,
     "input": [
      "def force(x, y, z, M):\n",
      "    r = distances(x, y, z)\n",
      "    idp = []\n",
      "    idq = []\n",
      "    N = len(x)\n",
      "    R = []\n",
      "    F = []\n",
      "    MT = []\n",
      "    #print M, r\n",
      "    for p in range(N):\n",
      "       for q in range(N):\n",
      "            if p!=q:\n",
      "                for j in range(N):\n",
      "                    if ((j!=p) & (j!=q)):\n",
      "                        Mt = M[p] + M[q]\n",
      "                        r_cm = sqrt( (M[p] / (Mt) * r[j+p*N]**2 )+ (M[q] / (Mt) * r[j + q*N]**2) - (M[p]*M[q] / Mt**2 * r[q+p*N]**2) )\n",
      "                        R.append(r_cm)\n",
      "                        idp.append(p)\n",
      "                        idq.append(q)\n",
      "                        if Mt > M[j]:\n",
      "                            F.append(1/(r_cm**2/Mt))\n",
      "                            MT.append(Mt)\n",
      "                        elif M[j] > Mt:\n",
      "                            F.append(1/(r_cm**2/M[j]))\n",
      "                            MT.append(M[j])\n",
      "    index = np.where(F == min(F))\n",
      "    index =  index[0][1]\n",
      "    \n",
      "    return idp[index], idq[index], MT[index]"
     ],
     "language": "python",
     "metadata": {},
     "outputs": [],
     "prompt_number": 94
    },
    {
     "cell_type": "code",
     "collapsed": false,
     "input": [
      "def new_particle(x, y, z, M, ID):\n",
      "    id_p, id_q, new_M = force(x, y, z, M)\n",
      "    indexp = np.where(ID == id_p)\n",
      "    indexq = np.where(ID == id_q)\n",
      "    xp = x[indexp] \n",
      "    yp = y[indexp] \n",
      "    zp = z[indexp]\n",
      "    xq = x[indexq] \n",
      "    yq = y[indexq] \n",
      "    zq = z[indexq]\n",
      "    IDp = ID[indexp]\n",
      "    IDq = ID[indexq]\n",
      "    Mp = M[indexp]\n",
      "    Mq = M[indexq]\n",
      "    Mpq = Mp + Mq\n",
      "    xt = 1 / Mpq * (Mp*xp + Mq*xq)\n",
      "    yt = 1 / Mpq * (Mp*yp + Mq*yq)\n",
      "    zt = 1 / Mpq * (Mp*zp + Mq*zq)\n",
      "    \n",
      "\n",
      "    return  float(IDp), float(IDq), float(xt), float(yt), float(zt)\n",
      "    "
     ],
     "language": "python",
     "metadata": {},
     "outputs": [],
     "prompt_number": 95
    },
    {
     "cell_type": "code",
     "collapsed": false,
     "input": [
      "%timeit IDp, IDq, xt, yt, zt = new_particle(x, y, z, M, ID)"
     ],
     "language": "python",
     "metadata": {},
     "outputs": [
      {
       "output_type": "stream",
       "stream": "stdout",
       "text": [
        "1 loops, best of 3: 6.96 s per loop\n"
       ]
      }
     ],
     "prompt_number": 97
    },
    {
     "cell_type": "code",
     "collapsed": false,
     "input": [
      "print IDp"
     ],
     "language": "python",
     "metadata": {},
     "outputs": [
      {
       "output_type": "stream",
       "stream": "stdout",
       "text": [
        "97.0\n"
       ]
      }
     ],
     "prompt_number": 70
    },
    {
     "cell_type": "markdown",
     "metadata": {},
     "source": [
      "## usar esto para quitar las paticulas a fusionar"
     ]
    },
    {
     "cell_type": "code",
     "collapsed": false,
     "input": [
      "if IDp > IDq:\n",
      "    data = np.delete(data, IDp, 0)\n",
      "    data = np.delete(data, IDq, 0)\n",
      "else:\n",
      "    data = np.delete(data, IDq, 0)\n",
      "    data = np.delete(data, IDp, 0)\n",
      "    \n",
      "np.insert(data)\n"
     ],
     "language": "python",
     "metadata": {},
     "outputs": [],
     "prompt_number": 77
    },
    {
     "cell_type": "markdown",
     "metadata": {},
     "source": [
      "# I need:\n",
      "\n",
      "Mt | ID p1 | ID p2 | x_new | y_new | z_new "
     ]
    },
    {
     "cell_type": "code",
     "collapsed": false,
     "input": [
      "fils = loadtxt(\"HRbcku.txt\")"
     ],
     "language": "python",
     "metadata": {},
     "outputs": [],
     "prompt_number": 10
    },
    {
     "cell_type": "code",
     "collapsed": false,
     "input": [
      "np.delete(0, fils)"
     ],
     "language": "python",
     "metadata": {},
     "outputs": [
      {
       "metadata": {},
       "output_type": "pyout",
       "prompt_number": 16,
       "text": [
        "array([], dtype=int64)"
       ]
      }
     ],
     "prompt_number": 16
    },
    {
     "cell_type": "code",
     "collapsed": false,
     "input": [
      "len(fils)"
     ],
     "language": "python",
     "metadata": {},
     "outputs": [
      {
       "metadata": {},
       "output_type": "pyout",
       "prompt_number": 17,
       "text": [
        "100"
       ]
      }
     ],
     "prompt_number": 17
    },
    {
     "cell_type": "code",
     "collapsed": false,
     "input": [
      "d = np.linspace(0, 10, 10)\n",
      "print d\n",
      "z = np.delete(d, 1)\n",
      "print z\n",
      "z = np.delete(z, 2)\n",
      "print z"
     ],
     "language": "python",
     "metadata": {},
     "outputs": [
      {
       "output_type": "stream",
       "stream": "stdout",
       "text": [
        "[  0.           1.11111111   2.22222222   3.33333333   4.44444444\n",
        "   5.55555556   6.66666667   7.77777778   8.88888889  10.        ]\n",
        "[  0.           2.22222222   3.33333333   4.44444444   5.55555556\n",
        "   6.66666667   7.77777778   8.88888889  10.        ]\n",
        "[  0.           2.22222222   4.44444444   5.55555556   6.66666667\n",
        "   7.77777778   8.88888889  10.        ]\n"
       ]
      }
     ],
     "prompt_number": 76
    },
    {
     "cell_type": "code",
     "collapsed": false,
     "input": [
      "z = np.delete(fils, 1, 0)\n",
      "fils[1]"
     ],
     "language": "python",
     "metadata": {},
     "outputs": [
      {
       "metadata": {},
       "output_type": "pyout",
       "prompt_number": 72,
       "text": [
        "array([  1.00000000e+00,   2.20105610e+01,   3.36348780e+01,\n",
        "         2.99728610e+01,  -1.69670000e+02,   1.94700000e+02,\n",
        "        -2.09300000e+02,   4.82461000e+12,   3.47350000e+02])"
       ]
      }
     ],
     "prompt_number": 72
    },
    {
     "cell_type": "code",
     "collapsed": false,
     "input": [
      "print shape(z), shape(fils)"
     ],
     "language": "python",
     "metadata": {},
     "outputs": [
      {
       "output_type": "stream",
       "stream": "stdout",
       "text": [
        "(99, 9) (100, 9)\n"
       ]
      }
     ],
     "prompt_number": 54
    },
    {
     "cell_type": "code",
     "collapsed": false,
     "input": [
      "x = [1, 2, 3,4]"
     ],
     "language": "python",
     "metadata": {},
     "outputs": [],
     "prompt_number": 85
    },
    {
     "cell_type": "code",
     "collapsed": false,
     "input": [
      "np.insert(z, len(z), x)"
     ],
     "language": "python",
     "metadata": {},
     "outputs": [
      {
       "metadata": {},
       "output_type": "pyout",
       "prompt_number": 86,
       "text": [
        "array([  0.        ,   2.22222222,   4.44444444,   5.55555556,\n",
        "         6.66666667,   7.77777778,   8.88888889,  10.        ,\n",
        "         1.        ,   2.        ,   3.        ,   4.        ])"
       ]
      }
     ],
     "prompt_number": 86
    },
    {
     "cell_type": "code",
     "collapsed": false,
     "input": [
      "len(data)"
     ],
     "language": "python",
     "metadata": {},
     "outputs": [
      {
       "metadata": {},
       "output_type": "pyout",
       "prompt_number": 98,
       "text": [
        "100"
       ]
      }
     ],
     "prompt_number": 98
    },
    {
     "cell_type": "code",
     "collapsed": false,
     "input": [
      "a = np.zeros([10, 10])\n",
      "Y = np.linspace(0, 10, 10)"
     ],
     "language": "python",
     "metadata": {},
     "outputs": [],
     "prompt_number": 106
    },
    {
     "cell_type": "code",
     "collapsed": false,
     "input": [
      "np.insert(a, size(a)  , Y)"
     ],
     "language": "python",
     "metadata": {},
     "outputs": [
      {
       "metadata": {},
       "output_type": "pyout",
       "prompt_number": 110,
       "text": [
        "array([  0.        ,   0.        ,   0.        ,   0.        ,\n",
        "         0.        ,   0.        ,   0.        ,   0.        ,\n",
        "         0.        ,   0.        ,   0.        ,   0.        ,\n",
        "         0.        ,   0.        ,   0.        ,   0.        ,\n",
        "         0.        ,   0.        ,   0.        ,   0.        ,\n",
        "         0.        ,   0.        ,   0.        ,   0.        ,\n",
        "         0.        ,   0.        ,   0.        ,   0.        ,\n",
        "         0.        ,   0.        ,   0.        ,   0.        ,\n",
        "         0.        ,   0.        ,   0.        ,   0.        ,\n",
        "         0.        ,   0.        ,   0.        ,   0.        ,\n",
        "         0.        ,   0.        ,   0.        ,   0.        ,\n",
        "         0.        ,   0.        ,   0.        ,   0.        ,\n",
        "         0.        ,   0.        ,   0.        ,   0.        ,\n",
        "         0.        ,   0.        ,   0.        ,   0.        ,\n",
        "         0.        ,   0.        ,   0.        ,   0.        ,\n",
        "         0.        ,   0.        ,   0.        ,   0.        ,\n",
        "         0.        ,   0.        ,   0.        ,   0.        ,\n",
        "         0.        ,   0.        ,   0.        ,   0.        ,\n",
        "         0.        ,   0.        ,   0.        ,   0.        ,\n",
        "         0.        ,   0.        ,   0.        ,   0.        ,\n",
        "         0.        ,   0.        ,   0.        ,   0.        ,\n",
        "         0.        ,   0.        ,   0.        ,   0.        ,\n",
        "         0.        ,   0.        ,   0.        ,   0.        ,\n",
        "         0.        ,   0.        ,   0.        ,   0.        ,\n",
        "         0.        ,   0.        ,   0.        ,   0.        ,\n",
        "         0.        ,   1.11111111,   2.22222222,   3.33333333,\n",
        "         4.44444444,   5.55555556,   6.66666667,   7.77777778,\n",
        "         8.88888889,  10.        ])"
       ]
      }
     ],
     "prompt_number": 110
    },
    {
     "cell_type": "code",
     "collapsed": false,
     "input": [],
     "language": "python",
     "metadata": {},
     "outputs": []
    }
   ],
   "metadata": {}
  }
 ]
}