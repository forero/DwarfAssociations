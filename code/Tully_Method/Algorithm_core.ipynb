{
 "metadata": {
  "name": "Algorithm_core"
 },
 "nbformat": 3,
 "nbformat_minor": 0,
 "worksheets": [
  {
   "cells": [
    {
     "cell_type": "markdown",
     "metadata": {},
     "source": [
      "# To Do:\n",
      "\n",
      "- Implemet a correct CM computation for all the pairs."
     ]
    },
    {
     "cell_type": "code",
     "collapsed": false,
     "input": [
      "%pylab inline"
     ],
     "language": "python",
     "metadata": {},
     "outputs": [
      {
       "output_type": "stream",
       "stream": "stdout",
       "text": [
        "\n",
        "Welcome to pylab, a matplotlib-based Python environment [backend: module://IPython.zmq.pylab.backend_inline].\n",
        "For more information, type 'help(pylab)'.\n"
       ]
      }
     ],
     "prompt_number": 21
    },
    {
     "cell_type": "markdown",
     "metadata": {},
     "source": [
      "# Generate 3 random halos"
     ]
    },
    {
     "cell_type": "code",
     "collapsed": false,
     "input": [
      "x = [10.0, 10.0,  12.0]\n",
      "y = [10.0, 12.0,  11.0]\n",
      "M = [1.0, 1.0, 1.0]"
     ],
     "language": "python",
     "metadata": {},
     "outputs": [],
     "prompt_number": 22
    },
    {
     "cell_type": "code",
     "collapsed": false,
     "input": [
      "scatter(x, y)"
     ],
     "language": "python",
     "metadata": {},
     "outputs": [
      {
       "output_type": "pyout",
       "prompt_number": 23,
       "text": [
        "<matplotlib.collections.PathCollection at 0x4452890>"
       ]
      },
      {
       "output_type": "display_data",
       "png": "[encoded data removed]"
      }
     ],
     "prompt_number": 23
    },
    {
     "cell_type": "markdown",
     "metadata": {},
     "source": [
      "# Computing distaces, between pairs"
     ]
    },
    {
     "cell_type": "code",
     "collapsed": false,
     "input": [
      "def distances(x, y):\n",
      "    r = []\n",
      "    for i in range(len(x)):\n",
      "        for j in range(len(y)):\n",
      "             r.append(sqrt((x[i]-x[j])**2 + (y[i]-y[j])**2))\n",
      "            #print \"distancia de: \", i, \"a: \", j, \" = \", d\n",
      "    return r"
     ],
     "language": "python",
     "metadata": {},
     "outputs": [],
     "prompt_number": 24
    },
    {
     "cell_type": "code",
     "collapsed": false,
     "input": [
      "distances(x, y)"
     ],
     "language": "python",
     "metadata": {},
     "outputs": [
      {
       "output_type": "pyout",
       "prompt_number": 25,
       "text": [
        "[0.0,\n",
        " 2.0,\n",
        " 2.2360679774997898,\n",
        " 2.0,\n",
        " 0.0,\n",
        " 2.2360679774997898,\n",
        " 2.2360679774997898,\n",
        " 2.2360679774997898,\n",
        " 0.0]"
       ]
      }
     ],
     "prompt_number": 25
    },
    {
     "cell_type": "markdown",
     "metadata": {},
     "source": [
      "# Position of the CM:"
     ]
    },
    {
     "cell_type": "markdown",
     "metadata": {},
     "source": [
      "## From Tully et al 1980, Eq(1) \n",
      "$r_{tj}^2 = \\dfrac{M_{p}}{(M_p + M_q)} r_{pj}^2 + \\dfrac{M_{q}}{(M_p + M_q)}r_{qj}^2 -  \\dfrac{M_p M_q}{(M_p + M_q)^2} r_{pq}^2$"
     ]
    },
    {
     "cell_type": "code",
     "collapsed": false,
     "input": [
      "def force(x, y, M):\n",
      "    r = distances(x, y)\n",
      "    id1 = []\n",
      "    id2 = []\n",
      "    N = len(x)\n",
      "    R = []\n",
      "    F = []\n",
      "    MT = []\n",
      "    #print M, r\n",
      "    for p in range(N):\n",
      "       for q in range(N):\n",
      "            if p!=q:\n",
      "                for j in range(N):\n",
      "                    if ((j!=p) & (j!=q)):\n",
      "                        Mt = M[p] + M[q]\n",
      "                        r_cm = sqrt( (M[p] / (Mt) * r[j+p*N]**2 )+ (M[q] / (Mt) * r[j + q*N]**2) - (M[p]*M[q] / Mt**2 * r[q+p*N]**2) )\n",
      "                        R.append(r_cm)\n",
      "                        id1.append(p)\n",
      "                        id2.append(q)\n",
      "                        if Mt > M[j]:\n",
      "                            F.append(1/(r_cm**2/Mt))\n",
      "                            MT.append(Mt)\n",
      "                        elif M[j] > Mt:\n",
      "                            F.append(1/(rcm**2/M[j]))\n",
      "                            MT.append(M[j])\n",
      "    index = np.where(F == min(F))\n",
      "    index =  index[0][1]\n",
      "    \n",
      "    return id1[index], id2[index], MT[index]"
     ],
     "language": "python",
     "metadata": {},
     "outputs": [],
     "prompt_number": 31
    },
    {
     "cell_type": "code",
     "collapsed": false,
     "input": [
      "force(x, y, M)"
     ],
     "language": "python",
     "metadata": {},
     "outputs": [
      {
       "output_type": "pyout",
       "prompt_number": 32,
       "text": [
        "(1, 0, 2.0)"
       ]
      }
     ],
     "prompt_number": 32
    },
    {
     "cell_type": "markdown",
     "metadata": {},
     "source": [
      "# I need:\n",
      "\n",
      "Mt | ID p1 | ID p2 | x_new | y_new | z_new "
     ]
    },
    {
     "cell_type": "code",
     "collapsed": false,
     "input": [],
     "language": "python",
     "metadata": {},
     "outputs": []
    }
   ],
   "metadata": {}
  }
 ]
}