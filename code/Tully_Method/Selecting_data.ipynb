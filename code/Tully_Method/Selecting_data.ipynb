{
 "metadata": {
  "name": "",
  "signature": "sha256:321fc770baa6fb36e8c7a366228aeb6478ad5d374dd52a771d2c878ab51ffbed"
 },
 "nbformat": 3,
 "nbformat_minor": 0,
 "worksheets": [
  {
   "cells": [
    {
     "cell_type": "code",
     "collapsed": false,
     "input": [
      "%pylab inline"
     ],
     "language": "python",
     "metadata": {},
     "outputs": [
      {
       "output_type": "stream",
       "stream": "stdout",
       "text": [
        "Populating the interactive namespace from numpy and matplotlib\n"
       ]
      },
      {
       "output_type": "stream",
       "stream": "stderr",
       "text": [
        "WARNING: pylab import has clobbered these variables: ['f']\n",
        "`%matplotlib` prevents importing * from pylab and numpy\n"
       ]
      }
     ],
     "prompt_number": 38
    },
    {
     "cell_type": "code",
     "collapsed": false,
     "input": [
      "data = loadtxt(\"data.dat\")\n",
      "shape(data)"
     ],
     "language": "python",
     "metadata": {},
     "outputs": [
      {
       "metadata": {},
       "output_type": "pyout",
       "prompt_number": 61,
       "text": [
        "(14217, 8)"
       ]
      }
     ],
     "prompt_number": 61
    },
    {
     "cell_type": "code",
     "collapsed": false,
     "input": [
      "!head data.dat"
     ],
     "language": "python",
     "metadata": {},
     "outputs": [
      {
       "output_type": "stream",
       "stream": "stdout",
       "text": [
        "21.13954565 33.53905695 37.46012237 -167.34 113.37 -117.18 7.93235e+12 409.97\r\n",
        "22.01056101 33.63487810 29.97286122 -169.67 194.70 -209.30 4.82461e+12 347.35\r\n",
        "19.97672752 32.30135025 28.83912903 -72.27 235.10 -244.42 4.45399e+12 338.22\r\n",
        "20.17562766 30.75305199 38.06955011 -127.50 183.61 -95.32 2.17122e+12 266.18\r\n",
        "21.65567760 32.45088446 33.21478188 -162.71 262.80 -232.16 1.59617e+12 240.24\r\n",
        "21.82379564 32.74668979 32.83929644 -208.45 217.25 -128.68 1.14401e+12 214.99\r\n",
        "19.41909229 30.80358842 27.23574390 157.49 183.86 -232.79 9.68383e+11 203.37\r\n",
        "20.91490399 29.66905749 36.32650155 -186.15 222.11 -94.05 9.59134e+11 202.73\r\n",
        "17.47341062 34.20164170 37.09694733 -27.59 136.56 -101.39 9.17681e+11 199.76\r\n",
        "20.81996492 29.50795191 30.20147389 -117.53 267.99 -195.33 6.73353e+11 180.18\r\n"
       ]
      }
     ],
     "prompt_number": 40
    },
    {
     "cell_type": "code",
     "collapsed": false,
     "input": [
      "Rvir = data[:,7]\n",
      "x = data[:,0]\n",
      "y = data[:,1]\n",
      "z = data[:,2]\n",
      "vx = data[:,3]\n",
      "vy = data[:,4]\n",
      "vz = data[:,5]\n",
      "M = data[:,6]\n",
      "Rvir = data[:,7]"
     ],
     "language": "python",
     "metadata": {},
     "outputs": [],
     "prompt_number": 62
    },
    {
     "cell_type": "code",
     "collapsed": false,
     "input": [
      "Z = max(x)-min(x)\n",
      "print Z"
     ],
     "language": "python",
     "metadata": {},
     "outputs": [
      {
       "output_type": "stream",
       "stream": "stdout",
       "text": [
        "15.4580809\n"
       ]
      }
     ],
     "prompt_number": 68
    },
    {
     "cell_type": "code",
     "collapsed": false,
     "input": [
      "X = sort(Rvir)"
     ],
     "language": "python",
     "metadata": {},
     "outputs": [],
     "prompt_number": 63
    },
    {
     "cell_type": "code",
     "collapsed": false,
     "input": [
      "R1 = X[-1] /100.\n",
      "R2 = X[-2] /100.\n",
      "R3 = X[-3] /100.\n",
      "print R1, R2, R3\n"
     ],
     "language": "python",
     "metadata": {},
     "outputs": [
      {
       "output_type": "stream",
       "stream": "stdout",
       "text": [
        "4.0997 3.4735 3.3822\n"
       ]
      }
     ],
     "prompt_number": 76
    },
    {
     "cell_type": "code",
     "collapsed": false,
     "input": [
      "MW1 = []\n",
      "MW2 = []\n",
      "MW3 = []\n",
      "for j in range(3):\n",
      "    for i in range(len(x)):\n",
      "        d = sqrt((x[j]-x[i])**2 + (y[j]-y[i])**2 + (z[j]-z[i])**2)\n",
      "        if (d > R1):\n",
      "            MW1.append(i)\n",
      "        if (d > R2):\n",
      "            MW2.append(i)\n",
      "        if (d > R3):\n",
      "            MW3.append(i)\n",
      "            "
     ],
     "language": "python",
     "metadata": {},
     "outputs": [],
     "prompt_number": 79
    },
    {
     "cell_type": "code",
     "collapsed": false,
     "input": [
      "len(MW1), len(MW2), len(MW3)"
     ],
     "language": "python",
     "metadata": {},
     "outputs": [
      {
       "metadata": {},
       "output_type": "pyout",
       "prompt_number": 81,
       "text": [
        "(30475, 33105, 33525)"
       ]
      }
     ],
     "prompt_number": 81
    },
    {
     "cell_type": "code",
     "collapsed": false,
     "input": [
      "x1 = x[index]\n",
      "y1 = y[index]\n",
      "z1 = z[index]\n",
      "vx1 = vx[index]\n",
      "vy1 = vy[index]\n",
      "vz1 = vz[index] \n",
      "M1 = M[index]\n",
      "Rvir1 = Rvir[index]"
     ],
     "language": "python",
     "metadata": {},
     "outputs": [],
     "prompt_number": 31
    },
    {
     "cell_type": "code",
     "collapsed": false,
     "input": [
      "f = open(\"data-nomw.dat\", \"w\")\n",
      "for i in range(len(x[index])):\n",
      "    f.write((\"%f \\t %f \\t %f \\t %f \\t %f \\t %f \\t %f \\n\")%(x1[i], y1[i], z1[i], vx1[i], vy1[i], vz1[i], M1[i], Rvir1[i]))\n",
      "f.close()"
     ],
     "language": "python",
     "metadata": {},
     "outputs": [],
     "prompt_number": 32
    },
    {
     "cell_type": "code",
     "collapsed": false,
     "input": [
      "len(x1)"
     ],
     "language": "python",
     "metadata": {},
     "outputs": [
      {
       "metadata": {},
       "output_type": "pyout",
       "prompt_number": 33,
       "text": [
        "0"
       ]
      }
     ],
     "prompt_number": 33
    },
    {
     "cell_type": "code",
     "collapsed": false,
     "input": [],
     "language": "python",
     "metadata": {},
     "outputs": []
    }
   ],
   "metadata": {}
  }
 ]
}