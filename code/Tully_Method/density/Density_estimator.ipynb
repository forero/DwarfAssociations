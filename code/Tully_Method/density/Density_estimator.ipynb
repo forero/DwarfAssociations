{
 "metadata": {
  "name": ""
 },
 "nbformat": 3,
 "nbformat_minor": 0,
 "worksheets": [
  {
   "cells": [
    {
     "cell_type": "code",
     "collapsed": false,
     "input": [
      "%pylab inline "
     ],
     "language": "python",
     "metadata": {},
     "outputs": [
      {
       "output_type": "stream",
       "stream": "stdout",
       "text": [
        "Populating the interactive namespace from numpy and matplotlib\n"
       ]
      }
     ],
     "prompt_number": 29
    },
    {
     "cell_type": "code",
     "collapsed": false,
     "input": [
      "D = []\n",
      "i=5836\n",
      "while i>3:\n",
      "    if (i>1000):\n",
      "        data = np.loadtxt(\"../data-sppedy2/test0\" + str(i) + \".txt\")\n",
      "    if ((i>99) & (i<1000)):\n",
      "        data = np.loadtxt(\"../data-sppedy2/test00\" + str(i) + \".txt\")\n",
      "    if ((i>9) & (i<100)):\n",
      "        data = np.loadtxt(\"../data-sppedy2/test000\" + str(i) + \".txt\")\n",
      "    if (i<10):\n",
      "        data = np.loadtxt(\"../data-sppedy2/test0000\" + str(i) + \".txt\")\n",
      "\n",
      "    x = data[:,0]\n",
      "    y = data[:,1]\n",
      "    z = data[:,2]\n",
      "    M = data[:,6]\n",
      "\n",
      "    Volume = (max(x)-min(x))*(max(y)-min(y))*(max(z)-min(z))\n",
      "    Density = sum(M)/Volume\n",
      "    D.append(Density)\n",
      "    i-=1"
     ],
     "language": "python",
     "metadata": {},
     "outputs": [],
     "prompt_number": 20
    },
    {
     "cell_type": "code",
     "collapsed": false,
     "input": [
      "X = np.where((np.log(D)-(np.log(D[0])))>0.3)\n",
      "print X"
     ],
     "language": "python",
     "metadata": {},
     "outputs": [
      {
       "output_type": "stream",
       "stream": "stdout",
       "text": [
        "(array([5540, 5541, 5542, 5543, 5544, 5545, 5546, 5547, 5548, 5549, 5550,\n",
        "       5551, 5552, 5553, 5554, 5555, 5556, 5557, 5558, 5559, 5560, 5561,\n",
        "       5562, 5563, 5564, 5565, 5566, 5567, 5568, 5569, 5570, 5571, 5572,\n",
        "       5573, 5574, 5575, 5576, 5577, 5578, 5579, 5580, 5581, 5582, 5583,\n",
        "       5584, 5585, 5586, 5587, 5588, 5589, 5590, 5591, 5592, 5593, 5594,\n",
        "       5595, 5596, 5597, 5598, 5599, 5600, 5601, 5602, 5603, 5604, 5605,\n",
        "       5606, 5607, 5608, 5609, 5610, 5611, 5612, 5613, 5614, 5615, 5616,\n",
        "       5617, 5618, 5619, 5620, 5621, 5622, 5623, 5624, 5625, 5626, 5627,\n",
        "       5628, 5629, 5630, 5631, 5632, 5633, 5634, 5635, 5636, 5637, 5638,\n",
        "       5639, 5640, 5641, 5642, 5643, 5644, 5645, 5646, 5647, 5648, 5649,\n",
        "       5650, 5651, 5652, 5653, 5654, 5655, 5656, 5657, 5658, 5659, 5660,\n",
        "       5661, 5662, 5663, 5664, 5665, 5666, 5667, 5668, 5669, 5670, 5671,\n",
        "       5672, 5830, 5831, 5832]),)\n"
       ]
      }
     ],
     "prompt_number": 40
    },
    {
     "cell_type": "code",
     "collapsed": false,
     "input": [
      "n = np.linspace(0, len(D), len(D))\n",
      "plt.scatter(np.log(D), n)\n",
      "plt.xlim([21.5, 22.5])\n",
      "plt.ylim([-200, 7000])\n",
      "plt.show()"
     ],
     "language": "python",
     "metadata": {},
     "outputs": [
      {
       "metadata": {},
       "output_type": "display_data",
       "png": "[encoded data removed]",
       "text": [
        "<matplotlib.figure.Figure at 0x7fabd4d8b050>"
       ]
      }
     ],
     "prompt_number": 28
    },
    {
     "cell_type": "code",
     "collapsed": false,
     "input": [],
     "language": "python",
     "metadata": {},
     "outputs": []
    }
   ],
   "metadata": {}
  }
 ]
}