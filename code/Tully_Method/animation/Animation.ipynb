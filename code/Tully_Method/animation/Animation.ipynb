{
 "metadata": {
  "name": ""
 },
 "nbformat": 3,
 "nbformat_minor": 0,
 "worksheets": [
  {
   "cells": [
    {
     "cell_type": "code",
     "collapsed": false,
     "input": [
      "import numpy as np\n",
      "import matplotlib.pyplot as plt"
     ],
     "language": "python",
     "metadata": {},
     "outputs": [],
     "prompt_number": 10
    },
    {
     "cell_type": "code",
     "collapsed": false,
     "input": [
      "i = 9\n",
      "while i>3:\n",
      "    data = np.loadtxt(\"test0000\" + str(i) + \".txt\")\n",
      "    x = data[:,0]\n",
      "    y = data[:,1]\n",
      "    plt.scatter(x, y, s=60, alpha=0.75, c='r')\n",
      "    plt.scatter(x[-1], y[-1], s=60, c='g')\n",
      "    plt.xlim([14, 30])\n",
      "    plt.ylim([24, 42])\n",
      "    plt.savefig(\"../animation/tully-method0\" + str(9-i)+ \".png\")\n",
      "    plt.close()\n",
      "    i-=1"
     ],
     "language": "python",
     "metadata": {},
     "outputs": [],
     "prompt_number": 24
    },
    {
     "cell_type": "code",
     "collapsed": false,
     "input": [
      "lsls"
     ],
     "language": "python",
     "metadata": {},
     "outputs": []
    }
   ],
   "metadata": {}
  }
 ]
}