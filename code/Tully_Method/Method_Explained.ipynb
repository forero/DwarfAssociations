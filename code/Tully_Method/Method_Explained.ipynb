{
 "metadata": {
  "name": "",
  "signature": "sha256:89e5dcb4134b8cc46bf82f2ff37377b540ea912b40d425805965dd2edeaa4cc6"
 },
 "nbformat": 3,
 "nbformat_minor": 0,
 "worksheets": [
  {
   "cells": [
    {
     "cell_type": "code",
     "collapsed": false,
     "input": [
      "%pylab inline\n",
      "import random"
     ],
     "language": "python",
     "metadata": {},
     "outputs": [
      {
       "output_type": "stream",
       "stream": "stdout",
       "text": [
        "Populating the interactive namespace from numpy and matplotlib\n"
       ]
      }
     ],
     "prompt_number": 1
    },
    {
     "cell_type": "code",
     "collapsed": false,
     "input": [
      "x = [0, 0, 2]\n",
      "y = [1, 2, 1.5]\n",
      "M = [1.0, 1.0, 1.0]"
     ],
     "language": "python",
     "metadata": {},
     "outputs": [],
     "prompt_number": 2
    },
    {
     "cell_type": "code",
     "collapsed": false,
     "input": [
      "scatter(x, y, s=300, alpha=0.7)"
     ],
     "language": "python",
     "metadata": {},
     "outputs": [
      {
       "metadata": {},
       "output_type": "pyout",
       "prompt_number": 3,
       "text": [
        "<matplotlib.collections.PathCollection at 0x7f81c6a12e10>"
       ]
      },
      {
       "metadata": {},
       "output_type": "display_data",
       "png": "[encoded data removed]",
       "text": [
        "<matplotlib.figure.Figure at 0x7f81d0373450>"
       ]
      }
     ],
     "prompt_number": 3
    },
    {
     "cell_type": "code",
     "collapsed": false,
     "input": [
      "def distances(x, y):\n",
      "    d = []\n",
      "    for i in range(len(x)):\n",
      "        for j in range(len(y)):\n",
      "            d.append(np.sqrt((x[i]-x[j])**2 + (y[i]-y[j])**2))\n",
      "    return d"
     ],
     "language": "python",
     "metadata": {},
     "outputs": [],
     "prompt_number": 4
    },
    {
     "cell_type": "code",
     "collapsed": false,
     "input": [
      "D = distances(x, y)"
     ],
     "language": "python",
     "metadata": {},
     "outputs": [],
     "prompt_number": 5
    },
    {
     "cell_type": "code",
     "collapsed": false,
     "input": [
      "def clustering(M, D):\n",
      "    R = []\n",
      "    P = []\n",
      "    Q = []\n",
      "    N = len(x)\n",
      "    for p in range(N):\n",
      "        for q in range(N):\n",
      "            if p!=q:\n",
      "                for j in range(N):\n",
      "                    if ((j!=p) & (j!=q)):\n",
      "                        Mt = M[p] + M[q]\n",
      "                        r_cm = np.sqrt( (M[p] / (Mt) * D[j+p*N]**2 )+ (M[q] / (Mt) * D[j + q*N]**2) - (M[p]*M[q] / Mt**2 * D[q+p*N]**2) )\n",
      "                        R.append(r_cm)\n",
      "                        P.append(p)\n",
      "                        Q.append(q)\n",
      "                        #if M\n",
      "    return R, P, Q\n"
     ],
     "language": "python",
     "metadata": {},
     "outputs": [],
     "prompt_number": 9
    },
    {
     "cell_type": "code",
     "collapsed": false,
     "input": [
      "R, P, Q  = clustering(M, D)"
     ],
     "language": "python",
     "metadata": {},
     "outputs": [],
     "prompt_number": 10
    },
    {
     "cell_type": "code",
     "collapsed": false,
     "input": [
      "print R[0], P[0], Q[0]"
     ],
     "language": "python",
     "metadata": {},
     "outputs": [
      {
       "output_type": "stream",
       "stream": "stdout",
       "text": [
        "2.0 0 1\n"
       ]
      }
     ],
     "prompt_number": 11
    },
    {
     "cell_type": "code",
     "collapsed": false,
     "input": [
      "print R[1], P[1], Q[1]"
     ],
     "language": "python",
     "metadata": {},
     "outputs": [
      {
       "output_type": "stream",
       "stream": "stdout",
       "text": [
        "1.25 0 2\n"
       ]
      }
     ],
     "prompt_number": 12
    },
    {
     "cell_type": "code",
     "collapsed": false,
     "input": [
      "print R[2], P[2], Q[2]"
     ],
     "language": "python",
     "metadata": {},
     "outputs": [
      {
       "output_type": "stream",
       "stream": "stdout",
       "text": [
        "2.0 1 0\n"
       ]
      }
     ],
     "prompt_number": 13
    },
    {
     "cell_type": "code",
     "collapsed": false,
     "input": [
      "print R[3], P[3], Q[3]"
     ],
     "language": "python",
     "metadata": {},
     "outputs": [
      {
       "output_type": "stream",
       "stream": "stdout",
       "text": [
        "1.25 1 2\n"
       ]
      }
     ],
     "prompt_number": 14
    },
    {
     "cell_type": "code",
     "collapsed": false,
     "input": [
      "print R[4], P[4], Q[4]"
     ],
     "language": "python",
     "metadata": {},
     "outputs": [
      {
       "output_type": "stream",
       "stream": "stdout",
       "text": [
        "1.25 2 0\n"
       ]
      }
     ],
     "prompt_number": 15
    },
    {
     "cell_type": "code",
     "collapsed": false,
     "input": [
      "print R[5], P[5], Q[5]"
     ],
     "language": "python",
     "metadata": {},
     "outputs": [
      {
       "output_type": "stream",
       "stream": "stdout",
       "text": [
        "1.25 2 1\n"
       ]
      }
     ],
     "prompt_number": 16
    },
    {
     "cell_type": "code",
     "collapsed": false,
     "input": [
      "x = np.random.normal(1.0, 1, 10)\n",
      "y = np.random.normal(1.0, 1, 10)\n",
      "z = np.random.normal(1.0, 1, 10)\n",
      "\n",
      "print x"
     ],
     "language": "python",
     "metadata": {},
     "outputs": [
      {
       "output_type": "stream",
       "stream": "stdout",
       "text": [
        "[ 0.99432015  1.24530208  3.1009405   1.8561565   2.72839509 -0.35707693\n",
        "  1.22116177  1.14942578  3.37435742  1.76101581]\n"
       ]
      }
     ],
     "prompt_number": 48
    },
    {
     "cell_type": "code",
     "collapsed": false,
     "input": [
      "y = np.random.normal(1.0, 1, 10)\n",
      "print x"
     ],
     "language": "python",
     "metadata": {},
     "outputs": [
      {
       "output_type": "stream",
       "stream": "stdout",
       "text": [
        "[ 0.99432015  1.24530208  3.1009405   1.8561565   2.72839509 -0.35707693\n",
        "  1.22116177  1.14942578  3.37435742  1.76101581]\n"
       ]
      }
     ],
     "prompt_number": 49
    },
    {
     "cell_type": "code",
     "collapsed": false,
     "input": [
      "x1 = np.random.normal(8.0, 1, 10)\n",
      "y1 = np.random.normal(8.0, 1, 10)\n",
      "z1 = np.random.normal(8.0, 1, 10)"
     ],
     "language": "python",
     "metadata": {},
     "outputs": [],
     "prompt_number": 50
    },
    {
     "cell_type": "code",
     "collapsed": false,
     "input": [
      "X = np.append(x, x1)\n",
      "Y = np.append(y, y1)\n",
      "Z = np.append(z, z1)\n",
      "vx = ones(20)\n",
      "print vx"
     ],
     "language": "python",
     "metadata": {},
     "outputs": [
      {
       "output_type": "stream",
       "stream": "stdout",
       "text": [
        "[ 1.  1.  1.  1.  1.  1.  1.  1.  1.  1.  1.  1.  1.  1.  1.  1.  1.  1.\n",
        "  1.  1.]\n"
       ]
      }
     ],
     "prompt_number": 95
    },
    {
     "cell_type": "code",
     "collapsed": false,
     "input": [
      "scatter(X, Y)"
     ],
     "language": "python",
     "metadata": {},
     "outputs": [
      {
       "metadata": {},
       "output_type": "pyout",
       "prompt_number": 53,
       "text": [
        "<matplotlib.collections.PathCollection at 0x7f81c655dc10>"
       ]
      },
      {
       "metadata": {},
       "output_type": "display_data",
       "png": "[encoded data removed]",
       "text": [
        "<matplotlib.figure.Figure at 0x7f81c6594b90>"
       ]
      }
     ],
     "prompt_number": 53
    },
    {
     "cell_type": "code",
     "collapsed": false,
     "input": [
      "f = open(\"test00020.txt\", \"w\")\n",
      "for i in range(20):\n",
      "    f.write((\"%f \\t %f \\t %f \\t %f \\t %f \\t %f \\t %f\\n\")%(X[i], Y[i], Z[i], vx[i], vx[i], vx[i], vx[i]))\n",
      "f.close()"
     ],
     "language": "python",
     "metadata": {},
     "outputs": [],
     "prompt_number": 123
    },
    {
     "cell_type": "code",
     "collapsed": false,
     "input": [
      "result = genfromtxt(\"test00001.txt\")"
     ],
     "language": "python",
     "metadata": {},
     "outputs": [],
     "prompt_number": 131
    },
    {
     "cell_type": "code",
     "collapsed": false,
     "input": [
      "a = result[:,0]\n",
      "b = result[:,1]\n",
      "c = result[:,2]\n",
      "\n",
      "print a, b"
     ],
     "language": "python",
     "metadata": {},
     "outputs": [
      {
       "output_type": "stream",
       "stream": "stdout",
       "text": [
        "[ 8.472168  4.963003] [ 8.134038  4.46492 ]\n"
       ]
      }
     ],
     "prompt_number": 141
    },
    {
     "cell_type": "code",
     "collapsed": false,
     "input": [
      "scatter(X, Y)\n",
      "scatter(a, b, c='r', s=80)\n",
      "plt.title(\"Method with the minimum of the Force\")"
     ],
     "language": "python",
     "metadata": {},
     "outputs": [
      {
       "metadata": {},
       "output_type": "pyout",
       "prompt_number": 133,
       "text": [
        "<matplotlib.text.Text at 0x7f81c4eaabd0>"
       ]
      },
      {
       "metadata": {},
       "output_type": "display_data",
       "png": "[encoded data removed]",
       "text": [
        "<matplotlib.figure.Figure at 0x7f81c4ed1c50>"
       ]
      }
     ],
     "prompt_number": 133
    },
    {
     "cell_type": "code",
     "collapsed": false,
     "input": [
      "result2 = genfromtxt(\"test00002.txt\")"
     ],
     "language": "python",
     "metadata": {},
     "outputs": [],
     "prompt_number": 137
    },
    {
     "cell_type": "code",
     "collapsed": false,
     "input": [
      "a2 = result2[:,0]\n",
      "b2 = result2[:,1]\n",
      "c2 = result2[:,2]\n",
      "print a2, b2"
     ],
     "language": "python",
     "metadata": {},
     "outputs": [
      {
       "output_type": "stream",
       "stream": "stdout",
       "text": [
        "[ 2.261891  5.403994] [ 0.826627  4.82565 ]\n"
       ]
      }
     ],
     "prompt_number": 140
    },
    {
     "cell_type": "code",
     "collapsed": false,
     "input": [
      "scatter(X, Y)\n",
      "scatter(a2, b2, c='r', s=80)\n",
      "plt.title(\"Method with the maximum of the Force\")"
     ],
     "language": "python",
     "metadata": {},
     "outputs": [
      {
       "metadata": {},
       "output_type": "pyout",
       "prompt_number": 139,
       "text": [
        "<matplotlib.text.Text at 0x7f81c4d1cd90>"
       ]
      },
      {
       "metadata": {},
       "output_type": "display_data",
       "png": "[encoded data removed]",
       "text": [
        "<matplotlib.figure.Figure at 0x7f81c4dc1950>"
       ]
      }
     ],
     "prompt_number": 139
    },
    {
     "cell_type": "code",
     "collapsed": false,
     "input": [],
     "language": "python",
     "metadata": {},
     "outputs": []
    }
   ],
   "metadata": {}
  }
 ]
}