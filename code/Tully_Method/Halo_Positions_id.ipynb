{
 "metadata": {
  "name": "Halo_Positions_id"
 },
 "nbformat": 3,
 "nbformat_minor": 0,
 "worksheets": [
  {
   "cells": [
    {
     "cell_type": "code",
     "collapsed": false,
     "input": [
      "%pylab inline"
     ],
     "language": "python",
     "metadata": {},
     "outputs": [
      {
       "output_type": "stream",
       "stream": "stdout",
       "text": [
        "\n",
        "Welcome to pylab, a matplotlib-based Python environment [backend: module://IPython.zmq.pylab.backend_inline].\n",
        "For more information, type 'help(pylab)'.\n"
       ]
      }
     ],
     "prompt_number": 2
    },
    {
     "cell_type": "code",
     "collapsed": false,
     "input": [
      "data = np.loadtxt(\"../../data/B64_WM5_10909_LG_7Mpc_2048/HR-data100.txt\")"
     ],
     "language": "python",
     "metadata": {},
     "outputs": [],
     "prompt_number": 3
    },
    {
     "cell_type": "code",
     "collapsed": false,
     "input": [
      "f = open(\"HR-dara100id.txt\", \"w\")\n",
      "for i in range(len(data)):\n",
      "    f.write(\"%d \\t %f \\t %f \\t %f \\t %f \\t %f \\t %f \\t %f \\t %f \\n\"%(i, data[i,0], data[i,1], data[i,2], data[i,3], data[i,4], data[i,5], data[i,6], data[i,7]))\n",
      "f.close()"
     ],
     "language": "python",
     "metadata": {},
     "outputs": [],
     "prompt_number": 12
    },
    {
     "cell_type": "code",
     "collapsed": false,
     "input": [
      "!head HR-dara100id.txt"
     ],
     "language": "python",
     "metadata": {},
     "outputs": [
      {
       "output_type": "stream",
       "stream": "stdout",
       "text": [
        "0 \t 21.139546 \t 33.539057 \t 37.460122 \t -167.340000 \t 113.370000 \t -117.180000 \t 7932350000000.000000 \t 409.970000 \r\n",
        "1 \t 22.010561 \t 33.634878 \t 29.972861 \t -169.670000 \t 194.700000 \t -209.300000 \t 4824610000000.000000 \t 347.350000 \r\n",
        "2 \t 19.976728 \t 32.301350 \t 28.839129 \t -72.270000 \t 235.100000 \t -244.420000 \t 4453990000000.000000 \t 338.220000 \r\n",
        "3 \t 20.175628 \t 30.753052 \t 38.069550 \t -127.500000 \t 183.610000 \t -95.320000 \t 2171220000000.000000 \t 266.180000 \r\n",
        "4 \t 21.655678 \t 32.450884 \t 33.214782 \t -162.710000 \t 262.800000 \t -232.160000 \t 1596170000000.000000 \t 240.240000 \r\n",
        "5 \t 21.823796 \t 32.746690 \t 32.839296 \t -208.450000 \t 217.250000 \t -128.680000 \t 1144010000000.000000 \t 214.990000 \r\n",
        "6 \t 19.419092 \t 30.803588 \t 27.235744 \t 157.490000 \t 183.860000 \t -232.790000 \t 968383000000.000000 \t 203.370000 \r\n",
        "7 \t 20.914904 \t 29.669057 \t 36.326502 \t -186.150000 \t 222.110000 \t -94.050000 \t 959134000000.000000 \t 202.730000 \r\n",
        "8 \t 17.473411 \t 34.201642 \t 37.096947 \t -27.590000 \t 136.560000 \t -101.390000 \t 917681000000.000000 \t 199.760000 \r\n",
        "9 \t 20.819965 \t 29.507952 \t 30.201474 \t -117.530000 \t 267.990000 \t -195.330000 \t 673353000000.000000 \t 180.180000 \r\n"
       ]
      }
     ],
     "prompt_number": 13
    },
    {
     "cell_type": "code",
     "collapsed": false,
     "input": [],
     "language": "python",
     "metadata": {},
     "outputs": []
    }
   ],
   "metadata": {}
  }
 ]
}